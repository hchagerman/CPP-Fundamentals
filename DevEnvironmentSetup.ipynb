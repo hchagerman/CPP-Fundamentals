{
 "cells": [
  {
   "cell_type": "markdown",
   "metadata": {},
   "source": [
    "# C++ Dev Environment\n",
    "\n",
    "- the following tools are recommended for this course\n",
    "    1. Visual Studio (VS) Code editor\n",
    "        - light weight cross-platform editor for many programming languages; has rich extensions\n",
    "    2. git client for version control\n",
    "        - Note: VS Code provides GUI-based git\n",
    "    3. g++ compiler\n",
    "    \n",
    "- follow the instructions from https://github.com/rambasnet/DevEnvSetup to setup Jupyter Notebook on various platforms "
   ]
  },
  {
   "cell_type": "markdown",
   "metadata": {},
   "source": [
    "## Using g++ compiler on Windows WSL, Mac and Linux\n",
    "- the steps provided here assumes that you're using the recommended C++ dev environment above\n",
    "- open a Terminal program\n",
    "- be familiar with the terminal and some [basic bash commands](https://sites.tufts.edu/cbi/files/2013/01/linux_cheat_sheet.pdf)\n",
    "- change current working directory to where the right folder where the .cpp file is\n",
    "    - use `ls` commad to see all the contents of the directory\n",
    "    - use `cd <dir_name>` command to change directory to the given dir_name\n",
    "- make sure the current working directory is where your `.cpp` file is\n",
    "    - use `pwd` command on a `*nix` terminal to know the current working directory\n",
    "- compile using g++\n",
    "- run the executable\n",
    "- the following sequence of commands are worth remembering\n",
    "    - can use these commands on repl.it cloud-based IDE as well\n",
    "\n",
    "```bash\n",
    "$ cd projectFolder # change working directory to the project folder\n",
    "$ pwd # print current working directory\n",
    "$ ls # list contents of current directory\n",
    "$ g++ -std=c++17 -o outputProgram inputFile.cpp  # compile inputFile.cpp to outputPrgram\n",
    "$ ./outputProgram  # run output program\n",
    "```"
   ]
  },
  {
   "cell_type": "code",
   "execution_count": null,
   "metadata": {},
   "outputs": [],
   "source": []
  }
 ],
 "metadata": {
  "kernelspec": {
   "display_name": "C++14",
   "language": "C++14",
   "name": "xcpp14"
  },
  "language_info": {
   "codemirror_mode": "text/x-c++src",
   "file_extension": ".cpp",
   "mimetype": "text/x-c++src",
   "name": "c++",
   "version": "14"
  }
 },
 "nbformat": 4,
 "nbformat_minor": 4
}

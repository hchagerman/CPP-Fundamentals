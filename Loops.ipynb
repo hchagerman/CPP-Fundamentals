{
 "cells": [
  {
   "cell_type": "markdown",
   "metadata": {},
   "source": [
    "# Loops\n",
    "\n",
    "## Topics\n",
    "- increment and decrement operators\n",
    "- iteration and types of iterations\n",
    "- iteration applications\n",
    "- iterations inside functions\n",
    "\n",
    "## Increment and decrement operators\n",
    "- in programming adding and subtracting an integer value by 1 is done frequently\n",
    "- loops counter uses them all the time\n",
    "- C++ provides increment and decrement operators to make our life easier\n",
    "- there are two types of increment or decrement\n",
    "    1. post\n",
    "    2. pre\n",
    "    \n",
    "### post increment and post decrement\n",
    "- syntax:\n",
    "```cpp\n",
    "    varName++;\n",
    "    varName--;\n",
    "```\n",
    "- value of variable varName is used first in the current operation\n",
    "- value of varialbe varName is then increased or decreased by 1 for the next operation\n",
    "    - value is incremented or decremented after its usage\n",
    "    - hence: post increment or post decrement"
   ]
  },
  {
   "cell_type": "code",
   "execution_count": 1,
   "metadata": {},
   "outputs": [],
   "source": [
    "// post increment example\n",
    "#include <iostream>\n",
    "using namespace std;\n",
    "\n",
    "int x;"
   ]
  },
  {
   "cell_type": "code",
   "execution_count": 2,
   "metadata": {},
   "outputs": [],
   "source": [
    "// store 10 in x\n",
    "x = 10;"
   ]
  },
  {
   "cell_type": "code",
   "execution_count": 3,
   "metadata": {},
   "outputs": [
    {
     "name": "stdout",
     "output_type": "stream",
     "text": [
      "10\n"
     ]
    }
   ],
   "source": [
    "// use the current value of x and then increment it\n",
    "cout << x++ << endl;"
   ]
  },
  {
   "cell_type": "code",
   "execution_count": 4,
   "metadata": {},
   "outputs": [
    {
     "name": "stdout",
     "output_type": "stream",
     "text": [
      "11"
     ]
    }
   ],
   "source": [
    "// value of x should be incremented by 1\n",
    "cout << x;"
   ]
  },
  {
   "cell_type": "code",
   "execution_count": 5,
   "metadata": {},
   "outputs": [
    {
     "data": {
      "text/plain": [
       "22"
      ]
     },
     "execution_count": 5,
     "metadata": {},
     "output_type": "execute_result"
    }
   ],
   "source": [
    "// post decrement\n",
    "x--"
   ]
  },
  {
   "cell_type": "code",
   "execution_count": 6,
   "metadata": {},
   "outputs": [
    {
     "data": {
      "text/plain": [
       "10"
      ]
     },
     "execution_count": 6,
     "metadata": {},
     "output_type": "execute_result"
    }
   ],
   "source": [
    "x"
   ]
  },
  {
   "cell_type": "markdown",
   "metadata": {},
   "source": [
    "### pre increment or decrement\n",
    "- syntax:\n",
    "\n",
    "```cpp\n",
    "    ++varName;\n",
    "    --varName;\n",
    "```\n",
    "\n",
    "- value of varialbe varName is first increased or decreased by 1\n",
    "- new value of variable varName is used in the same operation\n",
    "    - value is incremented or decremented before its usage\n",
    "    - hence: pre increment or pre decrement"
   ]
  },
  {
   "cell_type": "code",
   "execution_count": 7,
   "metadata": {},
   "outputs": [],
   "source": [
    "// pre increment and decrement examples\n",
    "x = 10;"
   ]
  },
  {
   "cell_type": "code",
   "execution_count": 8,
   "metadata": {},
   "outputs": [
    {
     "data": {
      "text/plain": [
       "9"
      ]
     },
     "execution_count": 8,
     "metadata": {},
     "output_type": "execute_result"
    }
   ],
   "source": [
    "--x"
   ]
  },
  {
   "cell_type": "code",
   "execution_count": 9,
   "metadata": {},
   "outputs": [
    {
     "data": {
      "text/plain": [
       "10"
      ]
     },
     "execution_count": 9,
     "metadata": {},
     "output_type": "execute_result"
    }
   ],
   "source": [
    "++x"
   ]
  },
  {
   "cell_type": "markdown",
   "metadata": {},
   "source": [
    "## Loop\n",
    "- our real life is full of loops\n",
    "    - routine works one does day after day\n",
    "    - e.g. wake up, get ready, eat breakfast, commute to school/work, eat lunch, commute back home, eat dinner, sleep; repeat!\n",
    "- computer is really good at automatically doing repeative tasks (millions and billions of repititions)\n",
    "    - repeating identical or similar tasks without errors or boredom is something computers do well and people do poorly\n",
    "    - computers can also do those tasks many times faster than humans\n",
    "- iteration starts at a starting point and repeats or loops from the same starting point\n",
    "    - a block of code can be repeateadly executed using just a one or two lines of loop structure\n",
    "- just like in real-life, loop must end/exit at some point; otherwise you'll get into infinite loop\n",
    "\n",
    "## Types of C++ loops\n",
    "- there are 4 types of loops in C++\n",
    "    1. for loop\n",
    "    2. range-based for loop\n",
    "    3. while loop\n",
    "    4. do while loop\n",
    "\n",
    "## for loop\n",
    "- very common repitition control structure \n",
    "- normally executes a specific/fixed number of times\n",
    "- syntax:\n",
    "\n",
    "```cpp\n",
    "    for(initialization; condition; updatation) {\n",
    "        // body of the loop\n",
    "    }\n",
    "```\n",
    "\n",
    "- interpreting for loop:\n",
    "```\n",
    "    1. initialization: initialize loop counter variables\n",
    "    2. condition - check condition to execute body or not\n",
    "    3. exit or execute loop body\n",
    "        3.a if condition is true, execute code in body of the loop\n",
    "        3.b exit the loop otherwise\n",
    "    4. updation: update the loop variables\n",
    "    5. repeat from step 2\n",
    "```\n",
    "- the following figure depicts the execution flow of **for loop**\n",
    "\n",
    "![](resources/For-Loop.png)"
   ]
  },
  {
   "cell_type": "code",
   "execution_count": 10,
   "metadata": {},
   "outputs": [
    {
     "name": "stdout",
     "output_type": "stream",
     "text": [
      "1. Mississippi!\n",
      "2. Mississippi!\n",
      "3. Mississippi!\n",
      "4. Mississippi!\n",
      "5. Mississippi!\n",
      "6. Mississippi!\n",
      "7. Mississippi!\n",
      "8. Mississippi!\n",
      "9. Mississippi!\n",
      "10. Mississippi!\n"
     ]
    },
    {
     "data": {
      "text/plain": [
       "@0x10597fed0"
      ]
     },
     "execution_count": 10,
     "metadata": {},
     "output_type": "execute_result"
    }
   ],
   "source": [
    "// example 1 - the hard way of repeating code!\n",
    "// write a program that counts \"Mississippi!\" 10 times\n",
    "// if you didn't know loop, one could still do it, rather painfully!\n",
    "// typing one statement at a time for 10 times!\n",
    "\n",
    "#include <iostream>\n",
    "\n",
    "using namespace std;\n",
    "\n",
    "cout << \"1. Mississippi!\\n\";\n",
    "cout << \"2. Mississippi!\\n\";\n",
    "cout << \"3. Mississippi!\\n\";\n",
    "cout << \"4. Mississippi!\\n\";\n",
    "cout << \"5. Mississippi!\\n\";\n",
    "cout << \"6. Mississippi!\\n\";\n",
    "cout << \"7. Mississippi!\\n\";\n",
    "cout << \"8. Mississippi!\\n\";\n",
    "cout << \"9. Mississippi!\\n\";\n",
    "cout << \"10. Mississippi!\\n\";\n",
    "// phew... gets worse, when you need to do it for 100 or 1000 or more times... Yikes!!\n",
    "// you might just quit programming right now!"
   ]
  },
  {
   "cell_type": "code",
   "execution_count": 11,
   "metadata": {},
   "outputs": [
    {
     "name": "stdout",
     "output_type": "stream",
     "text": [
      "1. Mississippi!\n",
      "2. Mississippi!\n",
      "3. Mississippi!\n",
      "4. Mississippi!\n",
      "5. Mississippi!\n",
      "6. Mississippi!\n",
      "7. Mississippi!\n",
      "8. Mississippi!\n",
      "9. Mississippi!\n",
      "10. Mississippi!\n"
     ]
    }
   ],
   "source": [
    "// Let's make our life a little easier!\n",
    "// using for loop, let's tell the computer to repeatedly print \"Mississippi!\" 10 times \n",
    "// so we don't have to type 10 different statements!\n",
    "for(int i=1; i<=10; i++) {\n",
    "    // it's common practice that i, j, k are used as loop counter variables\n",
    "    // you can use any identifier\n",
    "    cout <<  i << \". Mississippi!\\n\";\n",
    "}\n",
    "// how about counting \"Mississippi!\" 100 times or even 1000 and more?"
   ]
  },
  {
   "cell_type": "markdown",
   "metadata": {},
   "source": [
    "### visualize for loop execution in [pythontutor.com](http://pythontutor.com/cpp.html#code=//%20for%20loop%20visualization%0A%23include%20%3Ciostream%3E%0Ausing%20namespace%20std%3B%0A%0Aint%20main%28%29%20%7B%0A%20%20cout%20%3C%3C%20%22before%20for%20loop%22%20%3C%3C%20endl%3B%0A%20%20for%28int%20i%3D1%3B%20i%3C%3D5%3B%20i%2B%2B%29%0A%20%20%20%20cout%20%3C%3C%20i%20%3C%3C%20%22.%20Hello%20World!%5Cn%22%3B%0A%20%20%0A%20%20cout%20%3C%3C%20%22after%20for%20loop%5Cn%22%3B%0A%20%20%0A%20%20return%200%3B%0A%7D&curInstr=0&mode=display&origin=opt-frontend.js&py=cpp&rawInputLstJSON=%5B%5D)\n",
    "\n",
    "### intialization, condition and updation statements are optional and independent\n",
    "- the intitialization, condtion and updation expressions in the **for loop** statment are all optional\n",
    "- these can also have multiple statments separated by comma\n",
    "    - e.g., you can have multiple initialization statements\n",
    "    - you can have multiple update statements\n",
    "    - you can have complex logical statement for condition\n",
    "\n",
    "### infinite loop\n",
    "- a common mistake a programmer can make while constructing a loop\n",
    "- happens when you forget to update the loop counter variable or use condition that is always true"
   ]
  },
  {
   "cell_type": "code",
   "execution_count": null,
   "metadata": {},
   "outputs": [],
   "source": [
    "// infinite loop example\n",
    "// if you run this, computer will not stop executing the loop body!\n",
    "// you've to manually interrupt the Kernel in Jupyter notebook\n",
    "// Click Kernel -> Interrput\n",
    "for( ; ; ) { // infinite loop; no condition that stops the for loop\n",
    "    cout << \"Hello World!\" << endl;\n",
    "}"
   ]
  },
  {
   "cell_type": "code",
   "execution_count": 1,
   "metadata": {},
   "outputs": [],
   "source": [
    "// if the kernel restarts; must include all the libraries again\n",
    "#include <iostream>\n",
    "using namespace std;"
   ]
  },
  {
   "cell_type": "code",
   "execution_count": 2,
   "metadata": {},
   "outputs": [
    {
     "name": "stdout",
     "output_type": "stream",
     "text": [
      "1 + 10 = 11\n",
      "2 + 9 = 11\n",
      "3 + 8 = 11\n",
      "4 + 7 = 11\n",
      "5 + 6 = 11\n",
      "6 + 5 = 11\n",
      "7 + 4 = 11\n",
      "8 + 3 = 11\n",
      "9 + 2 = 11\n",
      "10 + 1 = 11\n"
     ]
    }
   ],
   "source": [
    "// for loop with multiple statements for initialization; condition and updation\n",
    "for(int i=1, j=10; i<=10 && j>=1; i++, j--) {\n",
    "    cout << i << \" + \" << j << \" = \" << i+j << endl;\n",
    "}"
   ]
  },
  {
   "cell_type": "markdown",
   "metadata": {},
   "source": [
    "## `break` and `continue`\n",
    "- two commonly used statements inside the loop body\n",
    "- `break` statement breaks/exits the loop immidiately when executed\n",
    "    - any code after `break` inside the loop body will be ignored\n",
    "- `continue` statement makes next loop or iteration to execute immidiately\n",
    "    - any code after `continue` inside the loop body will be skipped\n",
    "- `break` and `continue` are typically used based on some condition\n",
    "    - with the reason to exit the loop body or continue with next iteration skipping the rest of the loop body"
   ]
  },
  {
   "cell_type": "code",
   "execution_count": 2,
   "metadata": {},
   "outputs": [
    {
     "name": "stdout",
     "output_type": "stream",
     "text": [
      "1. Mississippi!\n"
     ]
    }
   ],
   "source": [
    "// example of break and continue\n",
    "// comment and uncomment break and continue to see how each works\n",
    "for(int i=1; i<=10; i++) {\n",
    "    cout <<  i << \". Mississippi!\\n\";\n",
    "    break;\n",
    "    cout << i << \". Hello World!\\n\";\n",
    "    // continue;\n",
    "}"
   ]
  },
  {
   "cell_type": "code",
   "execution_count": 3,
   "metadata": {},
   "outputs": [
    {
     "name": "stdout",
     "output_type": "stream",
     "text": [
      "before loop\n",
      "1. Hello World!\n",
      "2. Hello World!\n",
      "3. Hello World!\n",
      "4. Hello World!\n",
      "after loop... all done!\n"
     ]
    }
   ],
   "source": [
    "// break example\n",
    "cout << \"before loop\\n\";\n",
    "for(int i=1; i<=10; i++) {\n",
    "    if (i == 5)\n",
    "        break;\n",
    "    cout << i << \". Hello World!\" << endl;\n",
    "}\n",
    "cout << \"after loop... all done!\\n\";"
   ]
  },
  {
   "cell_type": "code",
   "execution_count": 5,
   "metadata": {},
   "outputs": [
    {
     "name": "stdout",
     "output_type": "stream",
     "text": [
      "before loop\n",
      "1 3 5 7 9 11 13 15 17 19 \n",
      "after loop... all done!\n"
     ]
    }
   ],
   "source": [
    "// continue example\n",
    "// print odd numbers between 1 and 20\n",
    "cout << \"before loop\\n\";\n",
    "for(int i=1; i<=20; i++) {\n",
    "    if (i%2 == 0) // skip every even i\n",
    "        continue;\n",
    "    cout << i << \" \";\n",
    "}\n",
    "cout << \"\\nafter loop... all done!\\n\";"
   ]
  },
  {
   "cell_type": "code",
   "execution_count": 6,
   "metadata": {},
   "outputs": [
    {
     "name": "stdout",
     "output_type": "stream",
     "text": [
      "1 + 10 = 11\n",
      "2 + 9 = 11\n",
      "3 + 8 = 11\n",
      "4 + 7 = 11\n",
      "5 + 6 = 11\n",
      "6 + 5 = 11\n",
      "7 + 4 = 11\n",
      "8 + 3 = 11\n",
      "9 + 2 = 11\n",
      "10 + 1 = 11\n"
     ]
    }
   ],
   "source": [
    "// breaking infinite loop!\n",
    "int i=1, j=10;\n",
    "for( ; ; ) { // you could write int i=1, j=10; as initialization\n",
    "    if (i<=10 && j>=1)\n",
    "        cout << i << \" + \" << j << \" = \" << i+j << endl;\n",
    "    else\n",
    "        break;\n",
    "    \n",
    "    i++, j--;\n",
    "}"
   ]
  },
  {
   "cell_type": "code",
   "execution_count": 7,
   "metadata": {},
   "outputs": [],
   "source": [
    "// Countdown to Blast-off using for loop\n",
    "#include <iostream>\n",
    "#include <unistd.h>\n",
    "\n",
    "using namespace std;\n"
   ]
  },
  {
   "cell_type": "code",
   "execution_count": 8,
   "metadata": {},
   "outputs": [
    {
     "name": "stdout",
     "output_type": "stream",
     "text": [
      "10\n",
      "9\n",
      "8\n",
      "7\n",
      "6\n",
      "5\n",
      "4\n",
      "3\n",
      "2\n",
      "1\n",
      "Blast Off!!!\n"
     ]
    }
   ],
   "source": [
    "for(int i=10; i>=0; i--) {\n",
    "    if (i == 0)\n",
    "        cout << \"Blast Off!!!\" << endl;\n",
    "    else {\n",
    "        cout << i << endl;\n",
    "        usleep(1000000); // sleep for 1e6 microseconds = 1 second \n",
    "    }\n",
    "}"
   ]
  },
  {
   "cell_type": "markdown",
   "metadata": {},
   "source": [
    "### Countdown demo program - [demos/loops/countdown/countdown.cpp](demos/loops/countdown/countdown.cpp)"
   ]
  },
  {
   "cell_type": "markdown",
   "metadata": {},
   "source": [
    "## Range-based for loop\n",
    "- executes a for loop over a range of values\n",
    "- typically used with container types such as array, vector, set, etc.\n",
    "    - more readable alternative to the for loop operating over all elements in a container\n",
    "- syntax:\n",
    "```cpp\n",
    "    for (range_declaration : range_expression) {\n",
    "        // loop body\n",
    "    }\n",
    "```\n",
    "- `range declaration`:\n",
    "    - declares a range variable, whose type is the type of the element in the sequence in range_expression\n",
    "- `range expression`:\n",
    "    - represents a suitalbe sequence of elements such as array or container with begin and end member functions"
   ]
  },
  {
   "cell_type": "code",
   "execution_count": 3,
   "metadata": {},
   "outputs": [
    {
     "name": "stdout",
     "output_type": "stream",
     "text": [
      "before range-based loop...\n",
      "1. Mississippi!\n",
      "2. Mississippi!\n",
      "4. Mississippi!\n",
      "5. Mississippi!\n",
      "6. Mississippi!\n",
      "8. Mississippi!\n",
      "9. Mississippi!\n",
      "10. Mississippi!\n",
      "after range-based loop... all done!"
     ]
    }
   ],
   "source": [
    "// example of range-based for loop\n",
    "cout << \"before range-based loop...\\n\";\n",
    "for(int num: {1, 2, 4, 5, 6, 8, 9, 10}) {\n",
    "    cout << num << \". Mississippi!\\n\";\n",
    "}\n",
    "cout << \"after range-based loop... all done!\";"
   ]
  },
  {
   "cell_type": "code",
   "execution_count": 7,
   "metadata": {},
   "outputs": [],
   "source": [
    "// example 2: iterate over each character in string using range-based loop\n",
    "string text = \"This is a sentence!\";"
   ]
  },
  {
   "cell_type": "code",
   "execution_count": 11,
   "metadata": {},
   "outputs": [
    {
     "name": "stdout",
     "output_type": "stream",
     "text": [
      "T -> ASCII: 84 UPPER: T\n",
      "h -> ASCII: 104 UPPER: H\n",
      "i -> ASCII: 105 UPPER: I\n",
      "s -> ASCII: 115 UPPER: S\n",
      "  -> ASCII: 32 UPPER:  \n",
      "i -> ASCII: 105 UPPER: I\n",
      "s -> ASCII: 115 UPPER: S\n",
      "  -> ASCII: 32 UPPER:  \n",
      "a -> ASCII: 97 UPPER: A\n",
      "  -> ASCII: 32 UPPER:  \n",
      "s -> ASCII: 115 UPPER: S\n",
      "e -> ASCII: 101 UPPER: E\n",
      "n -> ASCII: 110 UPPER: N\n",
      "t -> ASCII: 116 UPPER: T\n",
      "e -> ASCII: 101 UPPER: E\n",
      "n -> ASCII: 110 UPPER: N\n",
      "c -> ASCII: 99 UPPER: C\n",
      "e -> ASCII: 101 UPPER: E\n",
      "! -> ASCII: 33 UPPER: !\n"
     ]
    }
   ],
   "source": [
    "#include <cstring> // touppper\n",
    "\n",
    "// recall: auto can be used to automatically determine type based on value assigned\n",
    "for(auto ch: text) {\n",
    "    cout << ch << \" -> ASCII: \" << int(ch) << \" UPPER: \" << char(toupper(ch)) << endl;\n",
    "}"
   ]
  },
  {
   "cell_type": "code",
   "execution_count": 13,
   "metadata": {},
   "outputs": [
    {
     "name": "stdout",
     "output_type": "stream",
     "text": [
      "This is a sentence! -> THIS IS A SENTENCE!\n"
     ]
    }
   ],
   "source": [
    "// convert text into uppercase\n",
    "string upper_text = \"\"; // variable to collect uppercase characters\n",
    "for(auto ch: text) {\n",
    "    upper_text += char(toupper(ch));\n",
    "}\n",
    "cout << text << \" -> \" << upper_text << endl;"
   ]
  },
  {
   "cell_type": "markdown",
   "metadata": {},
   "source": [
    "## while loop\n",
    "- `while` keyword is used to create `while` statment\n",
    "    - a loop that iterates 0 or more times\n",
    "- if you're not sure how many times the loop should iterate, you use `while` loop\n",
    "- while statement can be read as if it were English\n",
    "    - e.g. while you're not tired, keep running the track\n",
    "    - as opposed to `for` loop that says, run the track 10 times\n",
    "- syntax:\n",
    "```cpp\n",
    "    while(condition) {\n",
    "        // body of loop\n",
    "    }\n",
    "```\n",
    "- execute the body of loop as long as the condition is true\n",
    "- the following figure depicts while loop execution\n",
    "\n",
    "![](resources/While-Loop.png)"
   ]
  },
  {
   "cell_type": "code",
   "execution_count": 1,
   "metadata": {},
   "outputs": [],
   "source": [
    "// example 1 - print a log table from 1 to 10\n",
    "#include <iostream>\n",
    "#include <cmath> // log, log2, log10\n",
    "#include <iomanip>\n",
    "\n",
    "using namespace std;\n",
    "\n",
    "int x;"
   ]
  },
  {
   "cell_type": "code",
   "execution_count": 2,
   "metadata": {},
   "outputs": [
    {
     "name": "stdout",
     "output_type": "stream",
     "text": [
      "x\tlog(x)\tlog2(x)\tlog10(x)\n",
      "==================================\n",
      "1.0000\t0.0000\t0.0000\t0.0000\n",
      "2.0000\t0.6931\t1.0000\t0.3010\n",
      "3.0000\t1.0986\t1.5850\t0.4771\n",
      "4.0000\t1.3863\t2.0000\t0.6021\n",
      "5.0000\t1.6094\t2.3219\t0.6990\n",
      "6.0000\t1.7918\t2.5850\t0.7782\n",
      "7.0000\t1.9459\t2.8074\t0.8451\n",
      "8.0000\t2.0794\t3.0000\t0.9031\n",
      "9.0000\t2.1972\t3.1699\t0.9542\n",
      "10.0000\t2.3026\t3.3219\t1.0000\n"
     ]
    }
   ],
   "source": [
    "cout << \"x\\tlog(x)\\tlog2(x)\\tlog10(x)\\n\";\n",
    "cout << setw(35) << setfill('=') << \"\\n\";\n",
    "cout << fixed << setprecision(4);\n",
    "x = 1; // while loop initialization\n",
    "while(x <= 10) {\n",
    "    // natural log base e, base 2 and base 10\n",
    "    cout << x << '\\t' << log(x) << '\\t' << log2(x) << '\\t' << log10(x) << endl;\n",
    "    x += 1; // update loop variable\n",
    "}"
   ]
  },
  {
   "cell_type": "code",
   "execution_count": 2,
   "metadata": {},
   "outputs": [],
   "source": [
    "// example 2 - run around the track until you're tired\n",
    "int lapCount = 0;\n",
    "string tired_response;\n",
    "bool tired = false; // while loop initialization"
   ]
  },
  {
   "cell_type": "code",
   "execution_count": 3,
   "metadata": {},
   "outputs": [
    {
     "name": "stdout",
     "output_type": "stream",
     "text": [
      "lap count = 1\n",
      "Are you tired yet? [y|yes] or [n\n",
      "o]: n\n",
      "lap count = 2\n",
      "Are you tired yet? [y|yes] or [n\n",
      "o]: no\n",
      "lap count = 3\n",
      "Are you tired yet? [y|yes] or [n\n",
      "o]: yes\n"
     ]
    }
   ],
   "source": [
    "while(not tired) {\n",
    "    lapCount += 1;\n",
    "    cout << \"lap count = \" << lapCount << endl;\n",
    "    cout << \"Are you tired yet? [y|yes] or [n\\no]: \";\n",
    "    cin >> tired_response;\n",
    "    if (tired_response == \"y\" or tired_response == \"yes\")\n",
    "        tired = true; // update loop variable\n",
    "}"
   ]
  },
  {
   "cell_type": "code",
   "execution_count": 5,
   "metadata": {},
   "outputs": [
    {
     "name": "stdout",
     "output_type": "stream",
     "text": [
      "lap count = 1\n",
      "Are you tired yet? [y|yes] or [n\n",
      "o]: n\n",
      "lap count = 3\n",
      "Are you tired yet? [y|yes] or [n\n",
      "o]: no\n",
      "lap count = 4\n",
      "Are you tired yet? [y|yes] or [n\n",
      "o]: yes\n"
     ]
    }
   ],
   "source": [
    "// using break and continue statements in while loop\n",
    "// NOTE: they don't have to be used together!\n",
    "lapCount = 0;\n",
    "while(true) {\n",
    "    lapCount += 1;\n",
    "    if (lapCount == 2) continue; // skip the rest of the code\n",
    "    cout << \"lap count = \" << lapCount << endl;\n",
    "    cout << \"Are you tired yet? [y|yes] or [n\\no]: \";\n",
    "    cin >> tired_response;\n",
    "    if (tired_response == \"y\" or tired_response == \"yes\")\n",
    "        break;\n",
    "}"
   ]
  },
  {
   "cell_type": "markdown",
   "metadata": {},
   "source": [
    "### visualize while loop in [pythontutor.com](http://pythontutor.com/cpp.html#code=//%20while%20loop%20visualization%0A%23include%20%3Ciostream%3E%0Ausing%20namespace%20std%3B%0A%0Aint%20main%28%29%20%7B%0A%20%20cout%20%3C%3C%20%22before%20while%20loop%22%20%3C%3C%20endl%3B%0A%20%20int%20i%3D%201%3B%0A%20%20while%20%28i%20%3C%3D%205%29%20%7B%0A%20%20%20%20cout%20%3C%3C%20i%20%3C%3C%20%22.%20Hello%20World!%5Cn%22%3B%0A%20%20%20%20i%2B%2B%3B%0A%20%20%7D%0A%20%20%0A%20%20cout%20%3C%3C%20%22after%20while%20loop%5Cn%22%3B%0A%20%20%0A%20%20return%200%3B%0A%7D&curInstr=0&mode=display&origin=opt-frontend.js&py=cpp&rawInputLstJSON=%5B%5D)"
   ]
  },
  {
   "cell_type": "markdown",
   "metadata": {},
   "source": [
    "## do-while loop\n",
    "- do while loop is an extension of while loop\n",
    "- makes a block of code execute 1 or more times\n",
    "- syntax:\n",
    "```cpp\n",
    "do {\n",
    "    // body of loop\n",
    "} while (condition);\n",
    "```\n",
    "- notice the semi-colon after while statement\n",
    "- interpreting do-while loop\n",
    "    1. do execute the block of code at least once\n",
    "    2. while the condition is true go to step 1\n",
    "        - exit the loop otherwise\n",
    "- the following figure depicts the execution flow of **do-while loop**\n",
    "\n",
    "![](resources/Do-While-Loop.png)"
   ]
  },
  {
   "cell_type": "code",
   "execution_count": 6,
   "metadata": {},
   "outputs": [],
   "source": [
    "// example 1 - game play simulation\n",
    "// initialize loop variables\n",
    "int counter = 0; // keep track of no. of times game is played\n",
    "string play_again; // player's response after each game"
   ]
  },
  {
   "cell_type": "code",
   "execution_count": 7,
   "metadata": {},
   "outputs": [
    {
     "name": "stdout",
     "output_type": "stream",
     "text": [
      "played 1 times.\n",
      "want to play again? [y|n]: y\n",
      "played 2 times.\n",
      "want to play again? [y|n]: y\n",
      "played 3 times.\n",
      "want to play again? [y|n]: n\n"
     ]
    }
   ],
   "source": [
    "// play game at least once\n",
    "do {\n",
    "    // call game() function or implement game here...\n",
    "    counter++;\n",
    "    cout << \"played \" << counter << \" times.\\n\";\n",
    "    cout << \"want to play again? [y|n]: \";\n",
    "    cin >> play_again;\n",
    "    if (play_again != \"y\") break;\n",
    "    else continue; // not necessary!\n",
    "} while (true);"
   ]
  },
  {
   "cell_type": "code",
   "execution_count": 1,
   "metadata": {},
   "outputs": [],
   "source": [
    "// example 2 - input validation\n",
    "int input; // variable to store user input"
   ]
  },
  {
   "cell_type": "code",
   "execution_count": 6,
   "metadata": {},
   "outputs": [
    {
     "name": "stdout",
     "output_type": "stream",
     "text": [
      "Enter a whole number between 1 and 20: -1\n",
      "input must be a whole number between 1 and 20\n",
      "Enter a whole number between 1 and 20: 21\n",
      "input must be a whole number between 1 and 20\n",
      "Enter a whole number between 1 and 20: asdf\n",
      "Invalid input. Try again!\n",
      "Enter a whole number between 1 and 20: sdfaf12\n",
      "Invalid input. Try again!\n",
      "Enter a whole number between 1 and 20: 15\n"
     ]
    }
   ],
   "source": [
    "do {\n",
    "    cout << \"Enter a whole number between 1 and 20: \";\n",
    "    cin >> input;\n",
    "    if (cin.fail()) { // somehow cin failed; wrong type is entered\n",
    "        cin.clear(); // clear the error flag\n",
    "        cin.ignore(INT_MAX, '\\n'); // extract and discard upto INT_MAX characters or upto '\\n' in std input stream\n",
    "        cout << \"Invalid input. Try again!\\n\";\n",
    "        continue;\n",
    "    }\n",
    "    else if (input < 1 || input > 20) {\n",
    "        cout << \"input must be a whole number between 1 and 20\\n\";\n",
    "    }\n",
    "    else break;\n",
    "} while (true);"
   ]
  },
  {
   "cell_type": "code",
   "execution_count": 7,
   "metadata": {},
   "outputs": [
    {
     "name": "stdout",
     "output_type": "stream",
     "text": [
      "Great! You entered: 15\n"
     ]
    }
   ],
   "source": [
    "cout << \"Great! You entered: \" << input << endl;"
   ]
  },
  {
   "cell_type": "markdown",
   "metadata": {},
   "source": [
    "### see example 2  input validation as a function here [demos/loops/input_validate/input_validation.cpp](demos/loops/input_validate/input_validation.cpp)\n",
    "\n",
    "## Loops and functions\n",
    "- all the loop statements can be used inside a function\n",
    "- in fact, any fundamental concepts (io, math, operations, conditionals, loops, etc.) can be used inside loop and function\n",
    "- functions can be called inside loop body"
   ]
  },
  {
   "cell_type": "markdown",
   "metadata": {},
   "source": [
    "### write a function that prints a multiplication table from 1 to 10 as shown below\n",
    "- use composition and incremental development\n",
    "\n",
    "```\n",
    "    1    2    3    4    5    6    7    8    9   10\n",
    "    2    4    6    8   10   12   14   16   18   20\n",
    "    3    6    9   12   15   18   21   24   27   30\n",
    "    4    8   12   16   20   24   28   32   36   40\n",
    "    5   10   15   20   25   30   35   40   45   50\n",
    "    6   12   18   24   30   36   42   48   54   60\n",
    "    7   14   21   28   35   42   49   56   63   70\n",
    "    8   16   24   32   40   48   56   64   72   80\n",
    "    9   18   27   36   45   54   63   72   81   90\n",
    "   10   20   30   40   50   60   70   80   90  100\n",
    "```"
   ]
  },
  {
   "cell_type": "code",
   "execution_count": 3,
   "metadata": {},
   "outputs": [],
   "source": [
    "#include <iostream>\n",
    "#include <iomanip>\n",
    "\n",
    "using namespace std;"
   ]
  },
  {
   "cell_type": "code",
   "execution_count": 1,
   "metadata": {},
   "outputs": [],
   "source": [
    "// function that multiplies two numbers\n",
    "int multiply(int n1, int n2) {\n",
    "    return n1*n2;\n",
    "}"
   ]
  },
  {
   "cell_type": "code",
   "execution_count": 4,
   "metadata": {},
   "outputs": [],
   "source": [
    "// function prints multiples of N from 1 to 10\n",
    "void print_multiples(int N) {\n",
    "    for(int i=1; i<=10; i++)\n",
    "        cout << setw(5) << multiply(N, i);\n",
    "    cout << endl;\n",
    "}"
   ]
  },
  {
   "cell_type": "code",
   "execution_count": 5,
   "metadata": {},
   "outputs": [
    {
     "name": "stdout",
     "output_type": "stream",
     "text": [
      "    1    2    3    4    5    6    7    8    9   10\n"
     ]
    }
   ],
   "source": [
    "print_multiples(1);"
   ]
  },
  {
   "cell_type": "code",
   "execution_count": 6,
   "metadata": {},
   "outputs": [
    {
     "name": "stdout",
     "output_type": "stream",
     "text": [
      "    2    4    6    8   10   12   14   16   18   20\n"
     ]
    }
   ],
   "source": [
    "print_multiples(2);"
   ]
  },
  {
   "cell_type": "code",
   "execution_count": 7,
   "metadata": {},
   "outputs": [],
   "source": [
    "// now print_mutiples need to be called 10 times\n",
    "// print_multiples function is used as an inner loop\n",
    "void printMultipleTable() {\n",
    "    for(int i=1; i<=10; i++)\n",
    "        print_multiples(i);\n",
    "}"
   ]
  },
  {
   "cell_type": "code",
   "execution_count": 8,
   "metadata": {},
   "outputs": [
    {
     "name": "stdout",
     "output_type": "stream",
     "text": [
      "    1    2    3    4    5    6    7    8    9   10\n",
      "    2    4    6    8   10   12   14   16   18   20\n",
      "    3    6    9   12   15   18   21   24   27   30\n",
      "    4    8   12   16   20   24   28   32   36   40\n",
      "    5   10   15   20   25   30   35   40   45   50\n",
      "    6   12   18   24   30   36   42   48   54   60\n",
      "    7   14   21   28   35   42   49   56   63   70\n",
      "    8   16   24   32   40   48   56   64   72   80\n",
      "    9   18   27   36   45   54   63   72   81   90\n",
      "   10   20   30   40   50   60   70   80   90  100\n"
     ]
    }
   ],
   "source": [
    "printMultipleTable();"
   ]
  },
  {
   "cell_type": "markdown",
   "metadata": {},
   "source": [
    "## Nested loops\n",
    "- a loop can be nested inside another\n",
    "- outer loop repeats everything inside inner loop\n",
    "- a lot of advanced algorithms and problems require many nested double and even tripple loops"
   ]
  },
  {
   "cell_type": "code",
   "execution_count": 9,
   "metadata": {},
   "outputs": [],
   "source": [
    "// function prints multiplication table using nested loop\n",
    "// print_multiples function is replaced with its actual code\n",
    "void multiplicationTable() {\n",
    "    for(int i=1; i<=10; i++) { // for each i... (row)\n",
    "        for(int j=1; j<=10; j++) // for each column\n",
    "            cout << setw(5) << multiply(i, j);\n",
    "        cout << endl;\n",
    "    }\n",
    "}"
   ]
  },
  {
   "cell_type": "code",
   "execution_count": 10,
   "metadata": {},
   "outputs": [
    {
     "name": "stdout",
     "output_type": "stream",
     "text": [
      "    1    2    3    4    5    6    7    8    9   10\n",
      "    2    4    6    8   10   12   14   16   18   20\n",
      "    3    6    9   12   15   18   21   24   27   30\n",
      "    4    8   12   16   20   24   28   32   36   40\n",
      "    5   10   15   20   25   30   35   40   45   50\n",
      "    6   12   18   24   30   36   42   48   54   60\n",
      "    7   14   21   28   35   42   49   56   63   70\n",
      "    8   16   24   32   40   48   56   64   72   80\n",
      "    9   18   27   36   45   54   63   72   81   90\n",
      "   10   20   30   40   50   60   70   80   90  100\n"
     ]
    }
   ],
   "source": [
    "multiplicationTable();"
   ]
  },
  {
   "cell_type": "markdown",
   "metadata": {},
   "source": [
    "### Define a function that prints a right-traingle shape with some symbol such as * of given height N\n",
    "- e.g. the following is a right triangle of height 5 printed with `*`\n",
    "\n",
    "```\n",
    "    * \n",
    "    * * \n",
    "    * * * \n",
    "    * * * * \n",
    "    * * * * * \n",
    "```"
   ]
  },
  {
   "cell_type": "code",
   "execution_count": 15,
   "metadata": {},
   "outputs": [],
   "source": [
    "// solution\n",
    "void printTriangle(char ch, int height) {\n",
    "    for(int i=1; i<=height; i++) { // could you start i from 0?\n",
    "        for(int j=1; j<=i; j++)\n",
    "            cout << ch << \" \";\n",
    "        cout << endl;\n",
    "    }\n",
    "}"
   ]
  },
  {
   "cell_type": "code",
   "execution_count": 16,
   "metadata": {},
   "outputs": [
    {
     "name": "stdout",
     "output_type": "stream",
     "text": [
      "* \n",
      "* * \n",
      "* * * \n",
      "* * * * \n",
      "* * * * * \n"
     ]
    }
   ],
   "source": [
    "// call the function to manually test it\n",
    "printTriangle('*', 5);"
   ]
  },
  {
   "cell_type": "markdown",
   "metadata": {},
   "source": [
    "### Rectanlge - demo program\n",
    "- Write a complete C++ that computes area and perimeter of a rectangle given length and width\n",
    "- write at least 3 test cases for each function\n",
    "- program must calculate area and perimeter of as many rentangles as the user wants\n",
    "- see sample solution here: [demos/loops/rectangle/](demos/loops/rectangle/)"
   ]
  },
  {
   "cell_type": "markdown",
   "metadata": {},
   "source": [
    "## Labs\n",
    "\n",
    "1. The following lab demonstrates the use of loop structures in C++ by drawing various geometric shapes with ASCII characters.\n",
    "    - Use the code stub in `loops.cpp` file in [labs/loops](./labs/loops/ ) as a hint to complete the program\n",
    "    - Use Makefile to compile and build the program\n",
    "    - Fix all the FIXMEs and write FIXED next to each fixme once fixed"
   ]
  },
  {
   "cell_type": "markdown",
   "metadata": {},
   "source": [
    "## Exercises\n",
    "1. Write a function that prints multiplication table from 1 to some value N.\n",
    "    - program only prints the lower half of the table ignoring all the redundant upper half values\n",
    "\n",
    "\n",
    "2. Write a C++ program including algorithm steps that calculates area and circumference of a circle.\n",
    "    - must write functions to compute area and perimeter and automatically test each function with atleast 3 test cases\n",
    "    - **program finds area and perimeter of as many circle as the user wishes**\n",
    "    \n",
    "    \n",
    "3. Write a C++ program including algorithm steps that calculates Body Mass Index (BMI) of a person.\n",
    "    - must use as many functions as possible\n",
    "    - write at least 3 test cases for each function\n",
    "    - more info on BMI - https://www.nhlbi.nih.gov/health/educational/lose_wt/BMI/bmicalc.htm\n",
    "    - formula found [here]( https://www.cdc.gov/healthyweight/assessing/bmi/childrens_bmi/childrens_bmi_formula.html#:~:text=The%20formula%20for%20BMI%20is,to%20convert%20this%20to%20meters.&text=When%20using%20English%20measurements%2C%20pounds%20should%20be%20divided%20by%20inches%20squared)\n",
    "    - **program must calculate BMI of as many patients as user wants**\n",
    "    - a sample solution is provided at [exercises/loops/BMI/BMI_v4.cpp](exercises/loops/BMI/BMI_v4.cpp)\n",
    "\n",
    "\n",
    "4. Write a C++ program including algorithm steps that computes area and perimeter of a triangle given three sides.\n",
    "    - must write and use separate functions to calculate area and perimeter\n",
    "    - write at least 3 test cases for each function\n",
    "    - **program computes area and perimeter of as many triangles as user wishes**\n",
    "    - Hint: use Heron's formula to find area with three sides\n",
    "    \n",
    "    \n",
    "5. Write a C++ program that converts hours into seconds.\n",
    "    - must write and use function(s) to computer answer(s)\n",
    "    - must write at least 3 test cases for each function\n",
    "    - e.g. given 2 hours, program should print 7200 as answer\n",
    "    - **program continues to run converting as many hours into seconds as the user wishes without restaring it**\n",
    "    \n",
    "    \n",
    "6. Write a C++ program that converts seconds into hours, minutes and seconds.\n",
    "    - must define and use function(s)\n",
    "    - write at least 3 test cases for each function\n",
    "    - sample input: 3600 sample output: 1 hour, 0 minute and 0 second\n",
    "    - sample input: 3661 sample output: 1 hour, 1 minute and 1 second\n",
    "    - Hint: use series of division and module operations\n",
    "    **program will continue to run converting multiple inputs**\n",
    "    \n",
    "    \n",
    "7. Write a C++ program that counts a number of even digits in a given integer.\n",
    "    - must write function and write atleast 3 test cases\n",
    "    - **program must continue to run as many times as the user wishes**\n",
    "    \n",
    "    \n",
    "8. Write a C++ program that converts decimal number into binary. See Chapter 2 and 3 for the algorithm and partial solution.\n",
    "    - **program will continue to run converting as many decmial number as the user wishes**\n",
    "    \n",
    "    \n",
    "9. Write a C++ program that converts binary number into decimal. See Chapter 2 and 3 for the algorithm.\n",
    "\n",
    "\n",
    "10. Write a C++ program that determines if the given integer is prime.\n",
    "\n",
    "\n",
    "11. Write a C++ program that does countdown for rocket launch. Must use for loop.\n",
    "    - prints count down from 10 to 1 and finally prints \"Blast Off!\"\n",
    "  \n",
    "  \n",
    "12. Write a C++ program that does countdown for rocket launch. Must use while loop.\n",
    "    - prints count down from 10 to 1 and finally prints \"Blast Off!\"\n",
    "    \n",
    "    \n",
    "13. Write a program that prints a right-traingle shape with some symbol such as * and given height N\n",
    "    - e.g. the following is a righ-right triangle of height 5 printed with *\n",
    "\n",
    "```\n",
    "* * * * *\n",
    "* * * *\n",
    "* * * \n",
    "* *  \n",
    "* \n",
    "```\n",
    "\n",
    "\n",
    "14. Write a program that prints a square shape with some symbol such as * and given height N\n",
    "    - e.g. the following is a square of height 5 printed with *\n",
    "\n",
    "```\n",
    "* * * * *\n",
    "* * * * *\n",
    "* * * * *\n",
    "* * * * * \n",
    "* * * * *\n",
    "```"
   ]
  },
  {
   "cell_type": "markdown",
   "metadata": {},
   "source": [
    "## Kattis Problems\n",
    "\n",
    "- with all the fundamental concepts covered so far, one should be equipped to solve a lot more problems in Kattis.\n",
    "- all most every Kattis problem needs loop to process large amount of data or test cases\n",
    "- some of the Kattis problems that require loop (and of course other concepts that have been covered from Chapter 1-7 are listed below)\n",
    "    \n",
    "    \n",
    "### solve the following Kattis problems \n",
    "- must as many functions as needed with at least 3 automated test cases for each function\n",
    "- test case should try to address the corner/edge cases\n",
    "- use your own test data other than the ones provides by the problem\n",
    "    \n",
    "   \n",
    "1. Oddities - https://open.kattis.com/problems/oddities\n",
    "    - a sample solution can be found here: \n",
    "    - https://github.com/rambasnet/KattisDemos/tree/master/oddities\n",
    "2. Cold-puter Science - https://open.kattis.com/problems/cold\n",
    "    - a sample solution can be found here: \n",
    "    - https://github.com/rambasnet/KattisDemos/tree/master/cold\n",
    "3. Help a PhD Candidate Out! - https://open.kattis.com/problems/helpaphd\n",
    "    - a sample solution can be found here:\n",
    "    - https://github.com/rambasnet/KattisDemos/tree/master/helpaphd    \n",
    "4. Egypt - https://open.kattis.com/problems/egypt\n",
    "    - a sample solution can be found here:\n",
    "    - https://github.com/rambasnet/KattisDemos/tree/master/egypt\n",
    "5. FizzBuzz - https://open.kattis.com/problems/fizzbuzz\n",
    "6. Stuck In A Time Loop - https://open.kattis.com/problems/timeloop\n",
    "7. Heart Rate - https://open.kattis.com/problems/heartrate\n",
    "8. Reversed Binary Numbers - https://open.kattis.com/problems/reversebinary\n",
    "9. Modulo - https://open.kattis.com/problems/modulo\n",
    "10. Quality-Adjusted Life-Year - https://open.kattis.com/problems/qaly\n",
    "11. Tarifa - https://open.kattis.com/problems/tarifa\n",
    "12. Judging Moose - https://open.kattis.com/problems/judgingmoose\n",
    "13. Tower Construction - https://open.kattis.com/problems/tornbygge\n",
    "14. Stop Watch - https://open.kattis.com/problems/stopwatch\n",
    "15. Jumbo Javelin - https://open.kattis.com/problems/jumbojavelin\n",
    "16. Rating Problems - https://open.kattis.com/problems/ratingproblems\n",
    "17. Stopwatch - https://open.kattis.com/problems/stopwatch\n",
    "18. Forced Choice - https://open.kattis.com/problems/forcedchoice\n",
    "19. Speeding - https://open.kattis.com/problems/speeding\n",
    "20. From A to B - https://open.kattis.com/problems/fromatob"
   ]
  },
  {
   "cell_type": "markdown",
   "metadata": {},
   "source": [
    "## Summary\n",
    "- learned another fundamental programming concept: iteration or loop\n",
    "- learned that there are 4 types of loops (2 are for loops and 2 are while loops)\n",
    "- leaned two import keywords break and continue that are used inside loops\n",
    "- learned that functions can be called inside loop body and loops can be written inside functions\n",
    "- learned about nested loop with some example applications\n",
    "- exercise and example solutions"
   ]
  },
  {
   "cell_type": "code",
   "execution_count": null,
   "metadata": {},
   "outputs": [],
   "source": []
  }
 ],
 "metadata": {
  "kernelspec": {
   "display_name": "C++14",
   "language": "C++14",
   "name": "xcpp14"
  },
  "language_info": {
   "codemirror_mode": "text/x-c++src",
   "file_extension": ".cpp",
   "mimetype": "text/x-c++src",
   "name": "c++",
   "version": "14"
  }
 },
 "nbformat": 4,
 "nbformat_minor": 4
}

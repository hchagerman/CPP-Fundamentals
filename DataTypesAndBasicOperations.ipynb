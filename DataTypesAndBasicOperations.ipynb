{
 "cells": [
  {
   "cell_type": "markdown",
   "id": "33f9b0c6",
   "metadata": {},
   "source": [
    "# Data Types and Basic Operations\n",
    "\n",
    "## Topics\n",
    "- Keywords and Operations\n",
    "- Operators for numbers and strings\n",
    "- Order of Precedence"
   ]
  },
  {
   "cell_type": "markdown",
   "id": "b0f68acf",
   "metadata": {},
   "source": [
    "## Operators\n",
    "- special symbols used to represent simple computations\n",
    "    - like addition, multiplication, modulo, etc.\n",
    "- C++ has operators for numbers, characters, and strings\n",
    "- operators and precedence rule: https://en.cppreference.com/w/cpp/language/operator_precedence\n",
    "- arithmetic operators: https://en.cppreference.com/w/cpp/language/operator_arithmetic\n",
    "\n",
    "### Unary operators\n",
    "- takes one operand\n",
    "- operands are values that operators work on\n",
    "- there are two unary operators for numeric operands\n",
    "\n",
    "| Operator | Symbol | Syntax | Operation |\n",
    "|--- | --- | --- | --- |\n",
    "| positive | + | +100 | positive 100 (default) |\n",
    "| negative | - | -23.45 | negative 23.45 |\n",
    "\n",
    "\n",
    "### Binary operators\n",
    "- binary operators take two operands (left operator right)\n",
    "- the following table shows the binary operators for numeric operands\n",
    "\n",
    "| Operator | Symbol | Name | Syntax | Operation |\n",
    "|--- | --- | --- | --- | --|\n",
    "| add | + | plus |x + y | add the value of y with the value of x\n",
    "| subtract | - | hyphen | x - y | subtract y from x |\n",
    "| multiply | \\* | asterick | x \\* y | product of x and y |\n",
    "| divide | / | slash | x / y | divide x by y (int division if x and y are both ints) |\n",
    "| modulo | % | percent | x % y | remainder when x is divided by y |\n",
    "\n",
    "### Adding numbers\n",
    "- `+` symbol is used to add literal values or variables"
   ]
  },
  {
   "cell_type": "code",
   "execution_count": 1,
   "id": "52609b51",
   "metadata": {},
   "outputs": [
    {
     "data": {
      "text/plain": [
       "0"
      ]
     },
     "execution_count": 1,
     "metadata": {},
     "output_type": "execute_result"
    }
   ],
   "source": [
    "// adding literal integer values\n",
    "+1 + (-1)"
   ]
  },
  {
   "cell_type": "code",
   "execution_count": 2,
   "id": "c811f25d",
   "metadata": {},
   "outputs": [
    {
     "data": {
      "text/plain": [
       "100.00000"
      ]
     },
     "execution_count": 2,
     "metadata": {},
     "output_type": "execute_result"
    }
   ],
   "source": [
    "// adding literal floating points\n",
    "99.9 + 0.1"
   ]
  },
  {
   "cell_type": "code",
   "execution_count": 3,
   "id": "be14f92a",
   "metadata": {},
   "outputs": [],
   "source": [
    "// adding int variables\n",
    "int num1, num2, sum;"
   ]
  },
  {
   "cell_type": "code",
   "execution_count": 4,
   "id": "a4ac43da",
   "metadata": {},
   "outputs": [],
   "source": [
    "num1 = 10;\n",
    "num2 = 5;\n",
    "sum = num1 + num2;"
   ]
  },
  {
   "cell_type": "code",
   "execution_count": 7,
   "id": "808b9f51",
   "metadata": {},
   "outputs": [
    {
     "data": {
      "text/plain": [
       "15"
      ]
     },
     "execution_count": 7,
     "metadata": {},
     "output_type": "execute_result"
    }
   ],
   "source": [
    "sum"
   ]
  },
  {
   "cell_type": "code",
   "execution_count": 5,
   "id": "a936c5fc",
   "metadata": {},
   "outputs": [],
   "source": [
    "// adding float variables\n",
    "float n1 = 3.5;\n",
    "float n2 = 2.5;\n",
    "float total = n1+n2;"
   ]
  },
  {
   "cell_type": "code",
   "execution_count": 8,
   "id": "dd6e7c71",
   "metadata": {},
   "outputs": [
    {
     "data": {
      "text/plain": [
       "6.00000f"
      ]
     },
     "execution_count": 8,
     "metadata": {},
     "output_type": "execute_result"
    }
   ],
   "source": [
    "total"
   ]
  },
  {
   "cell_type": "markdown",
   "id": "038ec45d",
   "metadata": {},
   "source": [
    "### Subtracting numbers\n",
    "- `-` symbol is used to subtract literal numbers or variables"
   ]
  },
  {
   "cell_type": "code",
   "execution_count": 6,
   "id": "4dd262c5",
   "metadata": {},
   "outputs": [
    {
     "data": {
      "text/plain": [
       "9"
      ]
     },
     "execution_count": 6,
     "metadata": {},
     "output_type": "execute_result"
    }
   ],
   "source": [
    "// subtracting literal integers\n",
    "10-1"
   ]
  },
  {
   "cell_type": "code",
   "execution_count": 9,
   "id": "8466252d",
   "metadata": {},
   "outputs": [
    {
     "data": {
      "text/plain": [
       "89.000000"
      ]
     },
     "execution_count": 9,
     "metadata": {},
     "output_type": "execute_result"
    }
   ],
   "source": [
    "// subtracting literal floating points\n",
    "99.99 - 10.99"
   ]
  },
  {
   "cell_type": "code",
   "execution_count": 10,
   "id": "d066b2e9",
   "metadata": {},
   "outputs": [
    {
     "data": {
      "text/plain": [
       "5"
      ]
     },
     "execution_count": 10,
     "metadata": {},
     "output_type": "execute_result"
    }
   ],
   "source": [
    "// subtracting variables\n",
    "num1-num2"
   ]
  },
  {
   "cell_type": "markdown",
   "id": "630585d9",
   "metadata": {},
   "source": [
    "### Dividing numbers\n",
    "- `/` symbol is used to divide literal numbers or variables"
   ]
  },
  {
   "cell_type": "code",
   "execution_count": 11,
   "id": "015153ca",
   "metadata": {},
   "outputs": [
    {
     "data": {
      "text/plain": [
       "5"
      ]
     },
     "execution_count": 11,
     "metadata": {},
     "output_type": "execute_result"
    }
   ],
   "source": [
    "// dividing literal integers\n",
    "10/2"
   ]
  },
  {
   "cell_type": "code",
   "execution_count": 12,
   "id": "63dfdfde",
   "metadata": {},
   "outputs": [
    {
     "data": {
      "text/plain": [
       "4"
      ]
     },
     "execution_count": 12,
     "metadata": {},
     "output_type": "execute_result"
    }
   ],
   "source": [
    "9/2 // integer division; remainder is discarded"
   ]
  },
  {
   "cell_type": "code",
   "execution_count": 13,
   "id": "2cf89526",
   "metadata": {},
   "outputs": [
    {
     "data": {
      "text/plain": [
       "4.5000000"
      ]
     },
     "execution_count": 13,
     "metadata": {},
     "output_type": "execute_result"
    }
   ],
   "source": [
    "// dividing literal floats\n",
    "// if one of the operands is floating point number, C++ performs float division\n",
    "9.0/2"
   ]
  },
  {
   "cell_type": "code",
   "execution_count": 14,
   "id": "24d4127e",
   "metadata": {},
   "outputs": [
    {
     "data": {
      "text/plain": [
       "1.40000f"
      ]
     },
     "execution_count": 14,
     "metadata": {},
     "output_type": "execute_result"
    }
   ],
   "source": [
    "// dividing numeric variables\n",
    "n1/n2"
   ]
  },
  {
   "cell_type": "markdown",
   "id": "90ba4aa2",
   "metadata": {},
   "source": [
    "### Multiplying numbers\n",
    "- `*` asterick symbol is used to multiply literal numbers and variables"
   ]
  },
  {
   "cell_type": "code",
   "execution_count": 21,
   "id": "ce89408a",
   "metadata": {},
   "outputs": [
    {
     "data": {
      "text/plain": [
       "6"
      ]
     },
     "execution_count": 21,
     "metadata": {},
     "output_type": "execute_result"
    }
   ],
   "source": [
    "// multiplying literal integers\n",
    "2*3"
   ]
  },
  {
   "cell_type": "code",
   "execution_count": 22,
   "id": "60105e0f",
   "metadata": {},
   "outputs": [
    {
     "data": {
      "text/plain": [
       "5.0000000"
      ]
     },
     "execution_count": 22,
     "metadata": {},
     "output_type": "execute_result"
    }
   ],
   "source": [
    "// multiplying literatl floats\n",
    "2.5 * 2.0"
   ]
  },
  {
   "cell_type": "code",
   "execution_count": 23,
   "id": "0d9fefbb",
   "metadata": {},
   "outputs": [
    {
     "data": {
      "text/plain": [
       "8.75000f"
      ]
     },
     "execution_count": 23,
     "metadata": {},
     "output_type": "execute_result"
    }
   ],
   "source": [
    "// multiplying numeric variables\n",
    "n1*n2"
   ]
  },
  {
   "cell_type": "code",
   "execution_count": 24,
   "id": "0a3d93e8",
   "metadata": {},
   "outputs": [
    {
     "data": {
      "text/plain": [
       "23.700000"
      ]
     },
     "execution_count": 24,
     "metadata": {},
     "output_type": "execute_result"
    }
   ],
   "source": [
    "// multiply integer by float literal\n",
    "3*7.9"
   ]
  },
  {
   "cell_type": "markdown",
   "id": "273ff654",
   "metadata": {},
   "source": [
    "### Capturing remainder from a division\n",
    "- use modulo or remainder ( **%** ) operator to find the remainder of literal values or variables\n",
    "- only works on positive integers"
   ]
  },
  {
   "cell_type": "code",
   "execution_count": 25,
   "id": "c085ee44",
   "metadata": {},
   "outputs": [
    {
     "data": {
      "text/plain": [
       "0"
      ]
     },
     "execution_count": 25,
     "metadata": {},
     "output_type": "execute_result"
    }
   ],
   "source": [
    "// // modulo or remainder operator\n",
    "// testing for even number\n",
    "4%2"
   ]
  },
  {
   "cell_type": "code",
   "execution_count": 26,
   "id": "d38b0bdb",
   "metadata": {},
   "outputs": [
    {
     "data": {
      "text/plain": [
       "1"
      ]
     },
     "execution_count": 26,
     "metadata": {},
     "output_type": "execute_result"
    }
   ],
   "source": [
    "5%2 // testing for odd number"
   ]
  },
  {
   "cell_type": "code",
   "execution_count": 27,
   "id": "d121e976",
   "metadata": {},
   "outputs": [
    {
     "data": {
      "text/plain": [
       "10"
      ]
     },
     "execution_count": 27,
     "metadata": {},
     "output_type": "execute_result"
    }
   ],
   "source": [
    "10%11 // what's the remainder? Hint: can't divide 10 by 11"
   ]
  },
  {
   "cell_type": "code",
   "execution_count": 28,
   "id": "bce5e5bd",
   "metadata": {},
   "outputs": [
    {
     "data": {
      "text/plain": [
       "1"
      ]
     },
     "execution_count": 28,
     "metadata": {},
     "output_type": "execute_result"
    }
   ],
   "source": [
    "12%11"
   ]
  },
  {
   "cell_type": "code",
   "execution_count": 15,
   "id": "ef07074b",
   "metadata": {},
   "outputs": [],
   "source": [
    "// expressions with variables and literals\n",
    "// declare some variables\n",
    "int hour, minute;"
   ]
  },
  {
   "cell_type": "code",
   "execution_count": 16,
   "id": "2b26d635",
   "metadata": {},
   "outputs": [],
   "source": [
    "// assign some values\n",
    "hour = 11;\n",
    "minute = 59;"
   ]
  },
  {
   "cell_type": "code",
   "execution_count": 17,
   "id": "689a917f",
   "metadata": {},
   "outputs": [
    {
     "data": {
      "text/plain": [
       "719"
      ]
     },
     "execution_count": 17,
     "metadata": {},
     "output_type": "execute_result"
    }
   ],
   "source": [
    "// Number of minutes since midnight\n",
    "hour * 60 + minute"
   ]
  },
  {
   "cell_type": "code",
   "execution_count": 20,
   "id": "cc0edcf2",
   "metadata": {},
   "outputs": [
    {
     "data": {
      "text/plain": [
       "0"
      ]
     },
     "execution_count": 20,
     "metadata": {},
     "output_type": "execute_result"
    }
   ],
   "source": [
    "// Fraction of the hour that has passed\n",
    "minute/60"
   ]
  },
  {
   "cell_type": "markdown",
   "id": "6113d1e0",
   "metadata": {},
   "source": [
    "### Exercise\n",
    "- How many hours and minutes are in 121 minutes?"
   ]
  },
  {
   "cell_type": "markdown",
   "id": "3bd94bcb",
   "metadata": {},
   "source": [
    "### Bitwise operators\n",
    "- https://www.learncpp.com/cpp-tutorial/38-bitwise-operators/\n",
    "- bitwise operators work on binary (bits) representation of integers \n",
    "    - integers are implicitly converted into binary and then bitwise operations are applied\n",
    "- bitwise operations are used in lower-level programming such as device drivers, low-level graphics, communications protocol packet assembly, encoding and decoding data, encryption technologies, etc.\n",
    "- a lot of integer arithmetic computations can be carried our much more efficiently using bitwise operations\n",
    "\n",
    "| Operator | Symbol | Symbol Name | Syntax |\tOperation |\n",
    "|------| ------ | ---- | ---- | --- |\n",
    "|bitwise left shift\t| << |\tleft angular bracket | x << y\t| all bits in x shifted left y bits; multiplication by $2^y$ |\n",
    "|bitwise right shift |\t>> | right angular bracket |x >> y\t| all bits in x shifted right y bits; division by $2^y$ |\n",
    "bitwise NOT\t| ~\t| tilde | ~x\t| all bits in x flipped |\n",
    "|bitwise AND |\t& |\tampersand | x & y |\teach bit in x AND each bit in y |\n",
    "|bitwise OR\t| \\| |\tpipe | x \\| y\t| each bit in x OR each bit in y |\n",
    "bitwise XOR | ^ |\tcaret | x ^ y |\teach bit in x XOR each bit in y |\n",
    "\n",
    "### Truth Table for bitwise operations\n",
    "\n",
    "#### & - bitwise AND\n",
    "| x | y | x & y |\n",
    "|:---:|:---:|:---:|\n",
    "| 1 | 1 | 1 | 1 |\n",
    "| 1 | 0 | 0 | 0 |\n",
    "| 0 | 1 | 0 | 0 |\n",
    "| 0 | 0 | 0 | 0 |\n",
    "\n",
    "#### | - bitwise OR\n",
    "| x | y | x \\| y |\n",
    "|:---:|:---:|:---:|\n",
    "| 1 | 1 | 1 |\n",
    "| 1 | 0 | 1 |\n",
    "| 0 | 1 | 1 |\n",
    "| 0 | 0 | 0 |\n",
    "\n",
    "#### ~ - bitwise NOT\n",
    "| x | ~x |\n",
    "|:---:|:---:|\n",
    "| 1 | 0 |\n",
    "| 0 | 1 |\n",
    "\n",
    "#### ^ - bitwise XOR\n",
    "| x | y | x ^ y |\n",
    "|:---:|:---:|:---:|\n",
    "| 1 | 1 | 0 |\n",
    "| 1 | 0 | 1 |\n",
    "| 0 | 1 | 1 |\n",
    "| 0 | 0 | 0 |\n",
    "\n",
    "#### bitwise left shift examples"
   ]
  },
  {
   "cell_type": "code",
   "execution_count": 29,
   "id": "98f0c415",
   "metadata": {},
   "outputs": [
    {
     "data": {
      "text/plain": [
       "16"
      ]
     },
     "execution_count": 29,
     "metadata": {},
     "output_type": "execute_result"
    }
   ],
   "source": [
    "// convert 1 decimal to binary and shift left by 4 bits\n",
    "1 << 4 // same as 1*2*2*2*2; result is in decimal"
   ]
  },
  {
   "cell_type": "markdown",
   "id": "f4391982",
   "metadata": {},
   "source": [
    "#### Explanation\n",
    "- Note: in the explaination, we use 32-bit binary to represent decmial\n",
    "\n",
    "- $1_{10} = 00000000000000000000000000000001_2$\n",
    "- $1 << 4$ = $000000000000000000000000000010000 = 2^4 = 16_{10}$"
   ]
  },
  {
   "cell_type": "code",
   "execution_count": 30,
   "id": "1d3d731e",
   "metadata": {},
   "outputs": [
    {
     "data": {
      "text/plain": [
       "48"
      ]
     },
     "execution_count": 30,
     "metadata": {},
     "output_type": "execute_result"
    }
   ],
   "source": [
    "3 << 4 // same as 3*2*2*2*2 or 3*2^4"
   ]
  },
  {
   "cell_type": "markdown",
   "id": "d99b16dd",
   "metadata": {},
   "source": [
    "#### Explanation\n",
    "\n",
    "- $3_{10} = 00000000000000000000000000000011_2$\n",
    "- $3 << 4 = 00000000000000000000000000110000_2 = 2^5+2^4 = 32+16 = 48_{10}$\n",
    "\n",
    "#### Bitwise right shit examples"
   ]
  },
  {
   "cell_type": "code",
   "execution_count": 31,
   "id": "419032a0",
   "metadata": {},
   "outputs": [
    {
     "data": {
      "text/plain": [
       "1"
      ]
     },
     "execution_count": 31,
     "metadata": {},
     "output_type": "execute_result"
    }
   ],
   "source": [
    "1024 >> 10 // same as 1024/2/2/2/2/2/2/2/2/2/2"
   ]
  },
  {
   "cell_type": "markdown",
   "id": "a2f9da06",
   "metadata": {},
   "source": [
    "#### Explanation\n",
    "\n",
    "- $1024_{10} = 00000000000000000000010000000000_2$\n",
    "- $1024 >> 10 = 00000000000000000000000000000001 = 2^0 = 1_{10}$\n",
    "\n",
    "#### Bitwise NOT examples"
   ]
  },
  {
   "cell_type": "code",
   "execution_count": 32,
   "id": "b8c74389",
   "metadata": {},
   "outputs": [
    {
     "data": {
      "text/plain": [
       "-1"
      ]
     },
     "execution_count": 32,
     "metadata": {},
     "output_type": "execute_result"
    }
   ],
   "source": [
    "~0 // Note: result shown is in decimal!"
   ]
  },
  {
   "cell_type": "code",
   "execution_count": 33,
   "id": "1193da5c",
   "metadata": {},
   "outputs": [
    {
     "data": {
      "text/plain": [
       "-2"
      ]
     },
     "execution_count": 33,
     "metadata": {},
     "output_type": "execute_result"
    }
   ],
   "source": [
    "~1 // Note: 1 in binary using 32-bit width (31 0s and 1) 00000....1\n",
    "// result shown is in decimal"
   ]
  },
  {
   "cell_type": "markdown",
   "id": "af708302",
   "metadata": {},
   "source": [
    "#### Explanation\n",
    "- use 32-bit to repesent integer\n",
    "\n",
    "- $0_{10} = 00000000000000000000000000000000_2$\n",
    "- $1_{10} = 00000000000000000000000000000001_2$\n",
    "- $-1_{10} = 11111111111111111111111111111111_2$\n",
    "- $2_{10} = 00000000000000000000000000000010_2$\n",
    "- $-2_{10} = 11111111111111111111111111111110_2$\n",
    "- Note: -ve numbers are stored in Two's complement\n",
    "    - 2's complement is calculated by flipping each bit and adding 1 to the binary of positive integer"
   ]
  },
  {
   "cell_type": "markdown",
   "id": "d0497202",
   "metadata": {},
   "source": [
    "#### Bitwise AND examples"
   ]
  },
  {
   "cell_type": "code",
   "execution_count": 34,
   "id": "10b7ceae",
   "metadata": {},
   "outputs": [
    {
     "data": {
      "text/plain": [
       "1"
      ]
     },
     "execution_count": 34,
     "metadata": {},
     "output_type": "execute_result"
    }
   ],
   "source": [
    "1 & 1"
   ]
  },
  {
   "cell_type": "code",
   "execution_count": 35,
   "id": "d6232e53",
   "metadata": {},
   "outputs": [
    {
     "data": {
      "text/plain": [
       "0"
      ]
     },
     "execution_count": 35,
     "metadata": {},
     "output_type": "execute_result"
    }
   ],
   "source": [
    "1 & 0"
   ]
  },
  {
   "cell_type": "code",
   "execution_count": 36,
   "id": "d801d806",
   "metadata": {},
   "outputs": [
    {
     "data": {
      "text/plain": [
       "0"
      ]
     },
     "execution_count": 36,
     "metadata": {},
     "output_type": "execute_result"
    }
   ],
   "source": [
    "0 & 1"
   ]
  },
  {
   "cell_type": "code",
   "execution_count": 37,
   "id": "bad8f7e3",
   "metadata": {},
   "outputs": [
    {
     "data": {
      "text/plain": [
       "0"
      ]
     },
     "execution_count": 37,
     "metadata": {},
     "output_type": "execute_result"
    }
   ],
   "source": [
    "0 & 0"
   ]
  },
  {
   "cell_type": "markdown",
   "id": "a57a7b7c",
   "metadata": {},
   "source": [
    "#### Bitwise OR examples"
   ]
  },
  {
   "cell_type": "code",
   "execution_count": 38,
   "id": "5a3ed452",
   "metadata": {},
   "outputs": [
    {
     "data": {
      "text/plain": [
       "1"
      ]
     },
     "execution_count": 38,
     "metadata": {},
     "output_type": "execute_result"
    }
   ],
   "source": [
    "1 | 1"
   ]
  },
  {
   "cell_type": "code",
   "execution_count": 39,
   "id": "13b1f397",
   "metadata": {},
   "outputs": [
    {
     "data": {
      "text/plain": [
       "1"
      ]
     },
     "execution_count": 39,
     "metadata": {},
     "output_type": "execute_result"
    }
   ],
   "source": [
    "1 | 0"
   ]
  },
  {
   "cell_type": "code",
   "execution_count": 40,
   "id": "95208ee4",
   "metadata": {},
   "outputs": [
    {
     "data": {
      "text/plain": [
       "1"
      ]
     },
     "execution_count": 40,
     "metadata": {},
     "output_type": "execute_result"
    }
   ],
   "source": [
    "0 | 1"
   ]
  },
  {
   "cell_type": "code",
   "execution_count": 41,
   "id": "4199cf60",
   "metadata": {},
   "outputs": [
    {
     "data": {
      "text/plain": [
       "0"
      ]
     },
     "execution_count": 41,
     "metadata": {},
     "output_type": "execute_result"
    }
   ],
   "source": [
    "0 | 0"
   ]
  },
  {
   "cell_type": "markdown",
   "id": "70147bba",
   "metadata": {},
   "source": [
    "#### Bitwise XOR examples"
   ]
  },
  {
   "cell_type": "code",
   "execution_count": 42,
   "id": "ea8e9150",
   "metadata": {},
   "outputs": [
    {
     "data": {
      "text/plain": [
       "0"
      ]
     },
     "execution_count": 42,
     "metadata": {},
     "output_type": "execute_result"
    }
   ],
   "source": [
    "1 ^ 1"
   ]
  },
  {
   "cell_type": "code",
   "execution_count": 43,
   "id": "1c2c4659",
   "metadata": {},
   "outputs": [
    {
     "data": {
      "text/plain": [
       "1"
      ]
     },
     "execution_count": 43,
     "metadata": {},
     "output_type": "execute_result"
    }
   ],
   "source": [
    "1 ^ 0"
   ]
  },
  {
   "cell_type": "code",
   "execution_count": 44,
   "id": "c27aa7b8",
   "metadata": {},
   "outputs": [
    {
     "data": {
      "text/plain": [
       "1"
      ]
     },
     "execution_count": 44,
     "metadata": {},
     "output_type": "execute_result"
    }
   ],
   "source": [
    "0 ^ 1"
   ]
  },
  {
   "cell_type": "code",
   "execution_count": 45,
   "id": "73245e45",
   "metadata": {},
   "outputs": [
    {
     "data": {
      "text/plain": [
       "0"
      ]
     },
     "execution_count": 45,
     "metadata": {},
     "output_type": "execute_result"
    }
   ],
   "source": [
    "0 ^ 0"
   ]
  },
  {
   "cell_type": "markdown",
   "id": "b03a8056",
   "metadata": {},
   "source": [
    "## Order of operations\n",
    "- expressions may have more than one operators\n",
    "- the order of evaluation depends on the rules of precedence\n",
    "\n",
    "### PEMDAS\n",
    "- acronym for order of operations from highest to lowest\n",
    "    1. **P** : Parenthesis\n",
    "    - **E** : Exponentiation\n",
    "    - **M** : Multiplication\n",
    "    - **D** : Division\n",
    "    - **A** : Addition\n",
    "    - **S** : Subtraction\n",
    "- when in doubt, use parenthesis!"
   ]
  },
  {
   "cell_type": "code",
   "execution_count": 46,
   "id": "95193c6a",
   "metadata": {},
   "outputs": [
    {
     "data": {
      "text/plain": [
       "6"
      ]
     },
     "execution_count": 46,
     "metadata": {},
     "output_type": "execute_result"
    }
   ],
   "source": [
    "// computation is similar to what we know from Elementary Math\n",
    "2+3*4/2-2"
   ]
  },
  {
   "cell_type": "code",
   "execution_count": 47,
   "id": "816cfa3d",
   "metadata": {},
   "outputs": [
    {
     "data": {
      "text/plain": [
       "6"
      ]
     },
     "execution_count": 47,
     "metadata": {},
     "output_type": "execute_result"
    }
   ],
   "source": [
    "// same as\n",
    "(2+((3*4)/2))-2"
   ]
  },
  {
   "cell_type": "code",
   "execution_count": 48,
   "id": "e234c1d6",
   "metadata": {},
   "outputs": [
    {
     "data": {
      "text/plain": [
       "20"
      ]
     },
     "execution_count": 48,
     "metadata": {},
     "output_type": "execute_result"
    }
   ],
   "source": [
    "(2+3)*4/(2-1) // Note: must use * to multiply after ( )"
   ]
  },
  {
   "cell_type": "code",
   "execution_count": 49,
   "id": "30eba096",
   "metadata": {},
   "outputs": [
    {
     "name": "stderr",
     "output_type": "stream",
     "text": [
      "\u001b[1minput_line_100:3:6: \u001b[0m\u001b[0;1;31merror: \u001b[0m\u001b[1mexpected ';' after expression\u001b[0m\n",
      "(2+3)4/(2-1) // error\n",
      "\u001b[0;1;32m     ^\n",
      "\u001b[0m\u001b[0;32m     ;\n",
      "\u001b[0m"
     ]
    },
    {
     "ename": "Interpreter Error",
     "evalue": "",
     "output_type": "error",
     "traceback": [
      "Interpreter Error: "
     ]
    }
   ],
   "source": [
    "// typical mistake\n",
    "(2+3)4/(2-1) // error"
   ]
  },
  {
   "cell_type": "markdown",
   "id": "22cf1cb4",
   "metadata": {},
   "source": [
    "## Operators for characters\n",
    "- mathematical operators also work on characters\n",
    "- characters' ASCII values are used in computations\n",
    "- C++, when safe, implictly converts from one type to another; called type **coercion**\n",
    "    - characters are converted into their corresponding integer ASCII values\n",
    "    - **coercion** is safe when data is not lost, e.g. converting int to float or double"
   ]
  },
  {
   "cell_type": "code",
   "execution_count": 50,
   "id": "facb6422",
   "metadata": {},
   "outputs": [
    {
     "data": {
      "text/plain": [
       "98"
      ]
     },
     "execution_count": 50,
     "metadata": {},
     "output_type": "execute_result"
    }
   ],
   "source": [
    "'a'+1 // a -> 97"
   ]
  },
  {
   "cell_type": "code",
   "execution_count": 51,
   "id": "fc7542c2",
   "metadata": {},
   "outputs": [
    {
     "data": {
      "text/plain": [
       "64"
      ]
     },
     "execution_count": 51,
     "metadata": {},
     "output_type": "execute_result"
    }
   ],
   "source": [
    "'A'-1 // A -> 65"
   ]
  },
  {
   "cell_type": "code",
   "execution_count": 52,
   "id": "803e24ab",
   "metadata": {},
   "outputs": [
    {
     "data": {
      "text/plain": [
       "650"
      ]
     },
     "execution_count": 52,
     "metadata": {},
     "output_type": "execute_result"
    }
   ],
   "source": [
    "'A'*10"
   ]
  },
  {
   "cell_type": "code",
   "execution_count": 53,
   "id": "53a1b190",
   "metadata": {},
   "outputs": [
    {
     "data": {
      "text/plain": [
       "6"
      ]
     },
     "execution_count": 53,
     "metadata": {},
     "output_type": "execute_result"
    }
   ],
   "source": [
    "'A'/10"
   ]
  },
  {
   "cell_type": "code",
   "execution_count": 54,
   "id": "387cf53c",
   "metadata": {},
   "outputs": [
    {
     "data": {
      "text/plain": [
       "130"
      ]
     },
     "execution_count": 54,
     "metadata": {},
     "output_type": "execute_result"
    }
   ],
   "source": [
    "'A'+'A'"
   ]
  },
  {
   "cell_type": "markdown",
   "id": "26957143",
   "metadata": {},
   "source": [
    "## Operators for strings\n",
    "- certain operators are defined or overloaded for string types\n",
    "    - more on user defined advanced types and operator overloading later\n",
    "- `+` : concatenates or joins two strings giving a new longer string"
   ]
  },
  {
   "cell_type": "code",
   "execution_count": 55,
   "id": "a4e12b24",
   "metadata": {},
   "outputs": [],
   "source": [
    "// variables can be declared and intitialized at the same time\n",
    "#include <iostream>\n",
    "#include <string>\n",
    "using namespace std;\n",
    "\n",
    "string fName = \"John\";\n",
    "string lName = \"Smith\";\n",
    "string space = \" \";\n",
    "string fullName = fName + space + lName;"
   ]
  },
  {
   "cell_type": "code",
   "execution_count": 56,
   "id": "9e074a8d",
   "metadata": {},
   "outputs": [
    {
     "data": {
      "text/plain": [
       "\"John Smith\""
      ]
     },
     "execution_count": 56,
     "metadata": {},
     "output_type": "execute_result"
    }
   ],
   "source": [
    "fullName"
   ]
  },
  {
   "cell_type": "code",
   "execution_count": 58,
   "id": "247f0bb1",
   "metadata": {},
   "outputs": [
    {
     "data": {
      "text/plain": [
       "3.1428571"
      ]
     },
     "execution_count": 58,
     "metadata": {},
     "output_type": "execute_result"
    }
   ],
   "source": [
    "pi"
   ]
  },
  {
   "cell_type": "markdown",
   "id": "830e5d1a",
   "metadata": {},
   "source": [
    "### Floating point operation accuracy\n",
    "- floating point calculations may not be always $100\\%$ accurate\n",
    "- you have to choose the accuracy upto certain decimal points to accept the results as correct\n",
    "- [google area of circle](https://www.google.com/search?q=area+of+a+circle&oq=area+of+a+ci&aqs=chrome.0.0l2j69i57j0l5.1840j0j7&sourceid=chrome&ie=UTF-8)\n",
    "    - use same radius $10.5$ and compare the results provided below"
   ]
  },
  {
   "cell_type": "code",
   "execution_count": 62,
   "id": "e4183e47",
   "metadata": {},
   "outputs": [],
   "source": [
    "// preprocessor directive to declare a named constant\n",
    "#define PI 3.141592653589793238"
   ]
  },
  {
   "cell_type": "code",
   "execution_count": 74,
   "id": "edd36fa6",
   "metadata": {},
   "outputs": [],
   "source": [
    "const double pi = 22/7;"
   ]
  },
  {
   "cell_type": "code",
   "execution_count": 73,
   "id": "ba0ade4e",
   "metadata": {},
   "outputs": [],
   "source": [
    "// let's use constants\n",
    "double radius = 10.5;\n",
    "double area_of_circle = PI*radius*radius;"
   ]
  },
  {
   "cell_type": "code",
   "execution_count": 75,
   "id": "f4d5299c",
   "metadata": {},
   "outputs": [
    {
     "data": {
      "text/plain": [
       "346.36059"
      ]
     },
     "execution_count": 75,
     "metadata": {},
     "output_type": "execute_result"
    }
   ],
   "source": [
    "// value of area of circle\n",
    "area_of_circle"
   ]
  },
  {
   "cell_type": "code",
   "execution_count": 76,
   "id": "4449848b",
   "metadata": {},
   "outputs": [
    {
     "data": {
      "text/plain": [
       "330.75000"
      ]
     },
     "execution_count": 76,
     "metadata": {},
     "output_type": "execute_result"
    }
   ],
   "source": [
    "pi*radius*radius"
   ]
  },
  {
   "cell_type": "markdown",
   "id": "333f6958",
   "metadata": {},
   "source": [
    "## Kattis Problems\n",
    "\n",
    "1. Add Two Numbers - https://open.kattis.com/problems/addtwonumbers\n",
    "    - Hint: read two numbers and print their sum\n",
    "    \n",
    "    \n",
    "2. Two-sum - https://open.kattis.com/problems/twosum\n",
    "    - Hint: just add two number and print their sum\n",
    "    \n",
    "\n",
    "3. R2 - https://open.kattis.com/problems/r2\n",
    "    - Hint: simply output $2*S-R1$\n",
    "    \n",
    "    \n",
    "4. Spavanac - https://open.kattis.com/problems/spavanac\n",
    "    - Hint: convert min+hour to minute; subtract 45 and convert the result back to hour and minute\n",
    "    \n",
    " \n",
    "5. Trianble Area - https://open.kattis.com/problems/triarea\n",
    "    - Hint: If you do not know the formula, Google: area of traingle given height and base\n",
    "    \n",
    "\n",
    "## Testing Kattis Provided Samples\n",
    "- see [Kattis Notebook](Kattis.ipynb)"
   ]
  },
  {
   "cell_type": "markdown",
   "id": "212458c1",
   "metadata": {},
   "source": [
    "## Summary\n",
    "\n",
    "- this notebook discussed basic operations that can be done on fundamental C++ data types\n",
    "- only appropriate operations can be applied to given data\n",
    "- data must be casted to correct type before applying the basic operations\n",
    "    - you'll learn this in Data Types and Casting chapter"
   ]
  },
  {
   "cell_type": "code",
   "execution_count": null,
   "id": "baea7a2d",
   "metadata": {},
   "outputs": [],
   "source": []
  }
 ],
 "metadata": {
  "kernelspec": {
   "display_name": "C++14",
   "language": "C++14",
   "name": "xcpp14"
  },
  "language_info": {
   "codemirror_mode": "text/x-c++src",
   "file_extension": ".cpp",
   "mimetype": "text/x-c++src",
   "name": "c++",
   "version": "14"
  }
 },
 "nbformat": 4,
 "nbformat_minor": 5
}

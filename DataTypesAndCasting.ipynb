{
 "cells": [
  {
   "cell_type": "markdown",
   "id": "6aa93709",
   "metadata": {},
   "source": [
    "# Data and Type Casting\n",
    "\n",
    "## Topics\n",
    "- converting one type into another\n",
    "- bulit-in type casting functions\n",
    "- converting strings to numbers\n",
    "- converting numbers to strings\n",
    "- converting char to numbers and numbers to chars"
   ]
  },
  {
   "cell_type": "markdown",
   "id": "8e630f85",
   "metadata": {},
   "source": [
    "## Type casting\n",
    "- data values need to be converted from one type to another to get correct results\n",
    "- explictly converting one type into another is called **type casting**\n",
    "- implicit conversion is called **coercion**\n",
    "- of course, not all values can be converted from one type to another!\n",
    "\n",
    "### Converting numeric types int C++ string type\n",
    "- use `to_string(value)` function to convert `value` to C++ `string`\n",
    "- must include `<string>` header and **std** namespace"
   ]
  },
  {
   "cell_type": "code",
   "execution_count": 1,
   "id": "e65bf0ab",
   "metadata": {},
   "outputs": [],
   "source": [
    "#include <string>\n",
    "using namespace std;"
   ]
  },
  {
   "cell_type": "code",
   "execution_count": 2,
   "id": "4149c5cb",
   "metadata": {},
   "outputs": [],
   "source": [
    "// converting literal 99 to C++ string\n",
    "string str_val = to_string(99); // 99 is casted \"99\" and the value is assigned to str_val"
   ]
  },
  {
   "cell_type": "code",
   "execution_count": 3,
   "id": "7e7cba3c",
   "metadata": {},
   "outputs": [
    {
     "data": {
      "text/plain": [
       "\"99\""
      ]
     },
     "execution_count": 3,
     "metadata": {},
     "output_type": "execute_result"
    }
   ],
   "source": [
    "str_val"
   ]
  },
  {
   "cell_type": "code",
   "execution_count": 4,
   "id": "bb6a86f3",
   "metadata": {},
   "outputs": [],
   "source": [
    "// converting integer variable into C++ string\n",
    "int whole_num = 1234;\n",
    "string str_val1 = to_string(whole_num);"
   ]
  },
  {
   "cell_type": "code",
   "execution_count": 5,
   "id": "1868a916",
   "metadata": {},
   "outputs": [
    {
     "data": {
      "text/plain": [
       "\"1234\""
      ]
     },
     "execution_count": 5,
     "metadata": {},
     "output_type": "execute_result"
    }
   ],
   "source": [
    "str_val1"
   ]
  },
  {
   "cell_type": "code",
   "execution_count": 6,
   "id": "871ae42b",
   "metadata": {},
   "outputs": [],
   "source": [
    "float float_num = 129.99f;\n",
    "string str_num1 = to_string(float_num);"
   ]
  },
  {
   "cell_type": "code",
   "execution_count": 7,
   "id": "f9950af9",
   "metadata": {},
   "outputs": [
    {
     "data": {
      "text/plain": [
       "\"129.990005\""
      ]
     },
     "execution_count": 7,
     "metadata": {},
     "output_type": "execute_result"
    }
   ],
   "source": [
    "str_num1"
   ]
  },
  {
   "cell_type": "code",
   "execution_count": 8,
   "id": "c028bd5e",
   "metadata": {},
   "outputs": [],
   "source": [
    "string str_val2 = to_string('A'); // uses ASCII value"
   ]
  },
  {
   "cell_type": "code",
   "execution_count": 9,
   "id": "2186fbfe",
   "metadata": {},
   "outputs": [
    {
     "data": {
      "text/plain": [
       "\"65\""
      ]
     },
     "execution_count": 9,
     "metadata": {},
     "output_type": "execute_result"
    }
   ],
   "source": [
    "str_val2"
   ]
  },
  {
   "cell_type": "markdown",
   "id": "b132cd7b",
   "metadata": {},
   "source": [
    "### Converting string values to numeric types\n",
    "- certain values can be converted into numeric types such as int, float, double, etc.\n",
    "- `<cstdlib>` provides some functions for us to convert c-string to numeric data\n",
    "- more on `<cstdlib>`: http://www.cplusplus.com/reference/cstdlib\n",
    "- `atoi(\"value\")` converts string `value` to integer\n",
    "    - converts all leading consecutive digits as integer\n",
    "- `atof(\"value\")` converts string `value` to double\n",
    "- must include `<cstdlib>` library to use its functions\n",
    "    - converts all leading consecutive digits and period as floating point number"
   ]
  },
  {
   "cell_type": "code",
   "execution_count": 13,
   "id": "9d164a03",
   "metadata": {},
   "outputs": [],
   "source": [
    "#include <cstdlib> //atoi and atof"
   ]
  },
  {
   "cell_type": "code",
   "execution_count": null,
   "id": "bee69cbf",
   "metadata": {},
   "outputs": [],
   "source": [
    "// converting c-string literal to integers\n",
    "atoi(\"120\")"
   ]
  },
  {
   "cell_type": "code",
   "execution_count": null,
   "id": "ae8ddeb9",
   "metadata": {},
   "outputs": [],
   "source": [
    "// extracting integer out from c-string literal\n",
    "atoi(\"43543 alphabets\")"
   ]
  },
  {
   "cell_type": "code",
   "execution_count": 14,
   "id": "2defc4c1",
   "metadata": {},
   "outputs": [
    {
     "data": {
      "text/plain": [
       "0"
      ]
     },
     "execution_count": 14,
     "metadata": {},
     "output_type": "execute_result"
    }
   ],
   "source": [
    "// can't extract from suffix\n",
    "atoi(\"text 123\")"
   ]
  },
  {
   "cell_type": "code",
   "execution_count": 15,
   "id": "f9aee7a3",
   "metadata": {},
   "outputs": [
    {
     "data": {
      "text/plain": [
       "23.550000"
      ]
     },
     "execution_count": 15,
     "metadata": {},
     "output_type": "execute_result"
    }
   ],
   "source": [
    "// converting c-string literal to float\n",
    "atof(\"23.55\")"
   ]
  },
  {
   "cell_type": "code",
   "execution_count": null,
   "id": "37e00a00",
   "metadata": {},
   "outputs": [],
   "source": [
    "// extracting float from c-string literal\n",
    "atof(\"132.68 text\")"
   ]
  },
  {
   "cell_type": "code",
   "execution_count": 16,
   "id": "c7a2b052",
   "metadata": {},
   "outputs": [
    {
     "data": {
      "text/plain": [
       "0.0000000"
      ]
     },
     "execution_count": 16,
     "metadata": {},
     "output_type": "execute_result"
    }
   ],
   "source": [
    "// can't extract from suffix\n",
    "atof(\"text 4546.454\")"
   ]
  },
  {
   "cell_type": "markdown",
   "id": "5ecb2525",
   "metadata": {},
   "source": [
    "### Converting C++ strings into numeric types\n",
    "\n",
    "- Reference on C++ string type: http://www.cplusplus.com/reference/string/\n",
    "\n",
    "- **&lt;string&gt;** library provides many functions to convert std::string into numeric types\n",
    "- **stoi( )** - converts std:string type to integer\n",
    "- **stof( )** - converts std::string type to float\n",
    "- **stol( )** - converts std::string type to long int\n",
    "- **stoul( )** - converts std::string to unsigned long integer"
   ]
  },
  {
   "cell_type": "code",
   "execution_count": 17,
   "id": "af88dc41",
   "metadata": {},
   "outputs": [],
   "source": [
    "#include <string>\n",
    "using namespace std;"
   ]
  },
  {
   "cell_type": "code",
   "execution_count": 18,
   "id": "8aabad62",
   "metadata": {},
   "outputs": [],
   "source": [
    "string int_num = \"99\";\n",
    "string float_num = \"100.99\";"
   ]
  },
  {
   "cell_type": "code",
   "execution_count": 19,
   "id": "d51dd27c",
   "metadata": {},
   "outputs": [],
   "source": [
    "// typecast string int and string float to corresponding numeric types\n",
    "// do + operation on numeric types\n",
    "float result = stoi(int_num) + stof(float_num);"
   ]
  },
  {
   "cell_type": "code",
   "execution_count": 20,
   "id": "4e925f65",
   "metadata": {},
   "outputs": [
    {
     "data": {
      "text/plain": [
       "199.990f"
      ]
     },
     "execution_count": 20,
     "metadata": {},
     "output_type": "execute_result"
    }
   ],
   "source": [
    "result"
   ]
  },
  {
   "cell_type": "markdown",
   "id": "7793ff3c",
   "metadata": {},
   "source": [
    "### Type casting among numeric types\n",
    "- at times, you may need to convert integers to floating points and vice versa\n",
    "- use **int(value)** to convert float to int\n",
    "- use **float(value)** to convert int or double to float\n",
    "- use **double(value)** to convert int or float to double\n",
    "- don't need to include any library to use these built-in functions"
   ]
  },
  {
   "cell_type": "code",
   "execution_count": 21,
   "id": "cae6f5ce",
   "metadata": {},
   "outputs": [
    {
     "data": {
      "text/plain": [
       "10"
      ]
     },
     "execution_count": 21,
     "metadata": {},
     "output_type": "execute_result"
    }
   ],
   "source": [
    "int(10.99) // convert double to int; discard decimal points or round down"
   ]
  },
  {
   "cell_type": "code",
   "execution_count": 22,
   "id": "69c7b587",
   "metadata": {},
   "outputs": [
    {
     "data": {
      "text/plain": [
       "345"
      ]
     },
     "execution_count": 22,
     "metadata": {},
     "output_type": "execute_result"
    }
   ],
   "source": [
    "int(345.567f) // discard decimal points or round down"
   ]
  },
  {
   "cell_type": "code",
   "execution_count": 23,
   "id": "4249a973",
   "metadata": {},
   "outputs": [
    {
     "data": {
      "text/plain": [
       "19.0000f"
      ]
     },
     "execution_count": 23,
     "metadata": {},
     "output_type": "execute_result"
    }
   ],
   "source": [
    "float(19)"
   ]
  },
  {
   "cell_type": "code",
   "execution_count": 24,
   "id": "24e4014a",
   "metadata": {},
   "outputs": [
    {
     "data": {
      "text/plain": [
       "3.3299999"
      ]
     },
     "execution_count": 24,
     "metadata": {},
     "output_type": "execute_result"
    }
   ],
   "source": [
    "double(3.33f) // convert float to double"
   ]
  },
  {
   "cell_type": "code",
   "execution_count": 25,
   "id": "90677a41",
   "metadata": {},
   "outputs": [
    {
     "data": {
      "text/plain": [
       "3.0000000"
      ]
     },
     "execution_count": 25,
     "metadata": {},
     "output_type": "execute_result"
    }
   ],
   "source": [
    "double(3)"
   ]
  },
  {
   "cell_type": "markdown",
   "id": "cabea2d2",
   "metadata": {},
   "source": [
    "### Type casting between char and int\n",
    "- use `char(intValue)` to convert ASCII `int` to `char`\n",
    "- use `int(charValue)` to convert `char` to ASCII `int`"
   ]
  },
  {
   "cell_type": "code",
   "execution_count": 26,
   "id": "47872fc0",
   "metadata": {},
   "outputs": [
    {
     "data": {
      "text/plain": [
       "'A'"
      ]
     },
     "execution_count": 26,
     "metadata": {},
     "output_type": "execute_result"
    }
   ],
   "source": [
    "char(65) // ASCII code to char"
   ]
  },
  {
   "cell_type": "code",
   "execution_count": 27,
   "id": "2f4094e3",
   "metadata": {},
   "outputs": [
    {
     "data": {
      "text/plain": [
       "65"
      ]
     },
     "execution_count": 27,
     "metadata": {},
     "output_type": "execute_result"
    }
   ],
   "source": [
    "int('A') // char to ASCII code"
   ]
  },
  {
   "cell_type": "markdown",
   "id": "8f49eca1",
   "metadata": {},
   "source": [
    "## Composition\n",
    "- similar to composing an essay or music\n",
    "    - start with basic elements and combine them to build something bigger and meaningful work\n",
    "- we use the same basic principle of **composition** in programming\n",
    "    - take small building blocks\n",
    "        - variables, values, expressions (operators), statements (input, output), etc.\n",
    "    - compose something meaningful or solve a problem\n",
    "    \n",
    "### example 1: find area and perimeter of a rectangle\n",
    "- algorithm steps:\n",
    "    1. get values for length and width of a rectangle\n",
    "    2. calculate area and perimeter using the following equations\n",
    "        - area = length x width\n",
    "        - perimeter = 2 x (length + width)\n",
    "    3. display the results"
   ]
  },
  {
   "cell_type": "code",
   "execution_count": 31,
   "id": "1ee86f85",
   "metadata": {},
   "outputs": [],
   "source": [
    "#include <iostream>\n",
    "using namespace std;"
   ]
  },
  {
   "cell_type": "code",
   "execution_count": 32,
   "id": "0665fe78",
   "metadata": {},
   "outputs": [],
   "source": [
    "// ex.1 program\n",
    "// variables to store length and width\n",
    "float rect_length, rect_width;"
   ]
  },
  {
   "cell_type": "code",
   "execution_count": 33,
   "id": "049bb6ea",
   "metadata": {},
   "outputs": [],
   "source": [
    "// step 1 get length and width values \n",
    "// a. can be hardcoded literal values\n",
    "rect_length = 10.5; //hardcoded\n",
    "rect_width = 5.5;"
   ]
  },
  {
   "cell_type": "code",
   "execution_count": 35,
   "id": "16db8d5d",
   "metadata": {},
   "outputs": [
    {
     "name": "stdout",
     "output_type": "stream",
     "text": [
      "Enter length and width of a rectangle separated by space: 11.99 12.55\n"
     ]
    }
   ],
   "source": [
    "// step 1.b or can be read from std input\n",
    "cout << \"Enter length and width of a rectangle separated by space: \";\n",
    "cin >> rect_length >> rect_width;"
   ]
  },
  {
   "cell_type": "code",
   "execution_count": 36,
   "id": "5ffddcdc",
   "metadata": {},
   "outputs": [
    {
     "name": "stdout",
     "output_type": "stream",
     "text": [
      "Rectangle's length = 11.99 and width = 12.55"
     ]
    }
   ],
   "source": [
    "cout << \"Rectangle's length = \" << rect_length << \" and width = \" << rect_width;"
   ]
  },
  {
   "cell_type": "code",
   "execution_count": 37,
   "id": "006bf15c",
   "metadata": {},
   "outputs": [
    {
     "name": "stdout",
     "output_type": "stream",
     "text": [
      "area of the rectangle: 150.475\n",
      "perimeter of the rectangle: 49.08\n"
     ]
    }
   ],
   "source": [
    "// step 2 and 3: calculate and display the area and perimeter\n",
    "cout << \"area of the rectangle: \" << rect_length * rect_width << endl;\n",
    "cout << \"perimeter of the rectangle: \" << 2*(rect_length+rect_width) << endl;"
   ]
  },
  {
   "cell_type": "markdown",
   "id": "0ddb48e6",
   "metadata": {},
   "source": [
    "### demo programs\n",
    "- see the complete program here [demos/stdio/rectangle/main.cpp](demos/stdio/rectangle/main.cpp)"
   ]
  },
  {
   "cell_type": "markdown",
   "id": "e6e9672d",
   "metadata": {},
   "source": [
    "### example 2: convert decimal number to binary\n",
    "- let's convert $(13)_{10}$ to binary $(?)_2$?\n",
    "    - from manual calculation in Chapter 02, we know: $(13)_{10}$ -> $(1101)_2$\n",
    "- let's use algorithm defined in Chapter 02:\n",
    "    1. repeteadly divide the decimal number by base 2 until the quotient becomes 0\n",
    "    2. collect the remainders in reverse order\n",
    "        - the first remainder becomes the last bit (least significant) in binary\n",
    "- let's try to convert the above algorithm into C++ code"
   ]
  },
  {
   "cell_type": "code",
   "execution_count": 38,
   "id": "68560fc7",
   "metadata": {},
   "outputs": [],
   "source": [
    "#include <iostream> // cin, cout\n",
    "#include <string> // basic_string, to_string\n",
    "\n",
    "using namespace std; // std::cin, std::cout, std::endl, etc."
   ]
  },
  {
   "cell_type": "code",
   "execution_count": 39,
   "id": "575eabc3",
   "metadata": {},
   "outputs": [],
   "source": [
    "// decimal to binary conversion requires to calculate both quotient and remainder\n",
    "const int divisor = 2; // divisor is contant name whose value can't be changed once initialized\n",
    "int dividend;\n",
    "int quotient, remain;\n",
    "string answer; // collect remainders by prepending as a string"
   ]
  },
  {
   "cell_type": "code",
   "execution_count": 40,
   "id": "c14d8a6b",
   "metadata": {},
   "outputs": [
    {
     "data": {
      "text/plain": [
       "13"
      ]
     },
     "execution_count": 40,
     "metadata": {},
     "output_type": "execute_result"
    }
   ],
   "source": [
    "answer = \"\"; // variable to collect the binary answer\n",
    "quotient = 13; //start with the decimal 13"
   ]
  },
  {
   "cell_type": "code",
   "execution_count": 41,
   "id": "e8b9e211",
   "metadata": {},
   "outputs": [
    {
     "name": "stdout",
     "output_type": "stream",
     "text": [
      "13/2 => quotient: 6 remainder: 1\n"
     ]
    },
    {
     "data": {
      "text/plain": [
       "\"1\""
      ]
     },
     "execution_count": 41,
     "metadata": {},
     "output_type": "execute_result"
    }
   ],
   "source": [
    "// copy the quotient into dividend to divide it\n",
    "dividend = quotient;\n",
    "remain = dividend%divisor; // find the remainder\n",
    "quotient = dividend/divisor; // find the quotient\n",
    "// print intermediate results; help us see and plan further computation\n",
    "cout << dividend << '/' << divisor << \" => quotient: \" << quotient << \" remainder: \" << remain << endl;\n",
    "answer = to_string(remain) + answer; // prepend remainder to answer\n",
    "// is quotient 0?"
   ]
  },
  {
   "cell_type": "code",
   "execution_count": 42,
   "id": "c4e7ff79",
   "metadata": {},
   "outputs": [
    {
     "name": "stdout",
     "output_type": "stream",
     "text": [
      "6/2 => quotient: 3 remainder: 0\n"
     ]
    },
    {
     "data": {
      "text/plain": [
       "\"01\""
      ]
     },
     "execution_count": 42,
     "metadata": {},
     "output_type": "execute_result"
    }
   ],
   "source": [
    "// further divide quotient\n",
    "dividend = quotient;\n",
    "remain = dividend%divisor;\n",
    "quotient = dividend/divisor;\n",
    "// print intermediate results; help us see and plan further computation\n",
    "cout << dividend << '/' << divisor << \" => quotient: \" << quotient << \" remainder: \" << remain << endl;\n",
    "answer = to_string(remain) + answer; // prepend remainder to answer\n",
    "// is quotient 0?"
   ]
  },
  {
   "cell_type": "code",
   "execution_count": 43,
   "id": "8c3b0064",
   "metadata": {},
   "outputs": [
    {
     "name": "stdout",
     "output_type": "stream",
     "text": [
      "3/2 => quotient: 1 remainder: 1\n"
     ]
    },
    {
     "data": {
      "text/plain": [
       "\"101\""
      ]
     },
     "execution_count": 43,
     "metadata": {},
     "output_type": "execute_result"
    }
   ],
   "source": [
    "// further divide quotient\n",
    "dividend = quotient;\n",
    "remain = dividend%divisor;\n",
    "quotient = dividend/divisor;\n",
    "// print intermediate results; help us see and plan further computation\n",
    "cout << dividend << '/' << divisor << \" => quotient: \" << quotient << \" remainder: \" << remain << endl;\n",
    "answer = to_string(remain) + answer; // prepend remainder to answer\n",
    "// is quotient 0?"
   ]
  },
  {
   "cell_type": "code",
   "execution_count": 44,
   "id": "04d76d2c",
   "metadata": {},
   "outputs": [
    {
     "name": "stdout",
     "output_type": "stream",
     "text": [
      "1/2 => quotient: 0 remainder: 1\n"
     ]
    },
    {
     "data": {
      "text/plain": [
       "\"1101\""
      ]
     },
     "execution_count": 44,
     "metadata": {},
     "output_type": "execute_result"
    }
   ],
   "source": [
    "// further divide quotient\n",
    "dividend = quotient;\n",
    "remain = dividend%divisor;\n",
    "quotient = dividend/divisor;\n",
    "// print intermediate results; help us see and plan further computation\n",
    "cout << dividend << '/' << divisor << \" => quotient: \" << quotient << \" remainder: \" << remain << endl;\n",
    "answer = to_string(remain) + answer; // prepend remainder to answer\n",
    "// is quotient 0?"
   ]
  },
  {
   "cell_type": "code",
   "execution_count": 45,
   "id": "36bf4928",
   "metadata": {},
   "outputs": [
    {
     "name": "stdout",
     "output_type": "stream",
     "text": [
      "13  decimal = 1101 binary \n"
     ]
    }
   ],
   "source": [
    "// stop division; display the answer\n",
    "cout << \"13  decimal = \" << answer << \" binary \" << endl;"
   ]
  },
  {
   "cell_type": "markdown",
   "id": "b9b73ef0",
   "metadata": {},
   "source": [
    "### Above code as a complete C++ program\n",
    "\n",
    "- see [demos/stdio/decToBin/main.cpp](demos/stdio/decToBin/main.cpp)\n",
    "\n",
    "### A generic C++ program to convert any decimal to binary\n",
    "\n",
    "- basic building blocks covered so far is able to find the solution using Jupyter notebook\n",
    "    - however, we've not learned enough to write a generic program that can convert any integer into binary, just yet!\n",
    "- we'll revisit this problem as we learn more concepts, such as conditional statements and loops"
   ]
  },
  {
   "cell_type": "markdown",
   "id": "7180c511",
   "metadata": {},
   "source": [
    "## Summary\n",
    "- data must be converted into right types for correct operations\n",
    "- C++ provides various library functions to convert one type into another appropriate type\n",
    "- not every type of data can be converted into another type of data\n",
    "- composition helps solve bigger problems by breaking them into smaller ones and putting them together"
   ]
  },
  {
   "cell_type": "code",
   "execution_count": null,
   "id": "43090044",
   "metadata": {},
   "outputs": [],
   "source": []
  }
 ],
 "metadata": {
  "kernelspec": {
   "display_name": "C++14",
   "language": "C++14",
   "name": "xcpp14"
  },
  "language_info": {
   "codemirror_mode": "text/x-c++src",
   "file_extension": ".cpp",
   "mimetype": "text/x-c++src",
   "name": "c++",
   "version": "14"
  }
 },
 "nbformat": 4,
 "nbformat_minor": 5
}

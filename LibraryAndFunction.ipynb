{
 "cells": [
  {
   "cell_type": "markdown",
   "metadata": {},
   "source": [
    "# Library and Function\n",
    "\n",
    "## Topics\n",
    "\n",
    "- some common C++ libraries and how to use them\n",
    "- iostream, string, numerics, iomanip, cmath, stdlib, sstream, etc."
   ]
  },
  {
   "cell_type": "markdown",
   "metadata": {},
   "source": [
    "## Library\n",
    "- C++ provides a rich set of standard libraries: https://en.cppreference.com/w/cpp/header\n",
    "- collection of code base that perform various generic and common tasks\n",
    "    - e.g., input and output, basic math, output formatting, networking and communications, etc.\n",
    "- C++ programs can also use C libraries\n",
    "- there are other third party libraries as well:\n",
    "    - e.g., boost (https://www.boost.org/) - usable across broad spectrum of applications\n",
    "    - googletest (https://github.com/google/googletest) - unittest framework by Google, etc.\n",
    "    \n",
    "- syntax to include library in your C++ source file is:\n",
    "\n",
    "```cpp\n",
    "#include <libraryName>\n",
    "```\n",
    "\n",
    "- C-libraries have `c` prefix before the library name\n",
    "    - e.g., cstdio, cmath, cstring, cstdlib, etc.\n",
    "- one can then use the identifiers (typically functions, operators, and data) defined in the library\n",
    "- we'll next dive into some libraries and their functions"
   ]
  },
  {
   "cell_type": "markdown",
   "metadata": {},
   "source": [
    "## `<iostream>` library\n",
    "- we've been using `<iostream>` library and some of its functionalities from Chapter 1\n",
    "- `iostream` defines identifiers such as `cin`, `cout`, `endl`, etc. that aid in standard input/ouput (IO)"
   ]
  },
  {
   "cell_type": "code",
   "execution_count": 1,
   "metadata": {},
   "outputs": [],
   "source": [
    "#include <iostream>\n",
    "using namespace std;"
   ]
  },
  {
   "cell_type": "code",
   "execution_count": 2,
   "metadata": {},
   "outputs": [
    {
     "name": "stdout",
     "output_type": "stream",
     "text": [
      "Hello World!\n"
     ]
    }
   ],
   "source": [
    "// standard output example\n",
    "cout << \"Hello World!\" << endl;"
   ]
  },
  {
   "cell_type": "code",
   "execution_count": 3,
   "metadata": {},
   "outputs": [
    {
     "name": "stdout",
     "output_type": "stream",
     "text": [
      "enter a number: \n",
      "10\n",
      "you entered 10\n"
     ]
    }
   ],
   "source": [
    "// standard input example\n",
    "float num;\n",
    "cout << \"enter a number: \";\n",
    "cin >> num;\n",
    "cout << \"you entered \" << num << endl;"
   ]
  },
  {
   "cell_type": "markdown",
   "metadata": {},
   "source": [
    "## `<string>` library\n",
    "- provides `string` data type and related functionalities\n",
    "- e.g., we used `to_string( )` to convert numeric data to C++ string type\n",
    "- there's a lot of other methods provided in string objects\n",
    "    - we'll dive into this later in string chapter\n",
    "- there's also a `<cstring>` library completely different from C++ `<string>` library\n",
    "    - http://www.cplusplus.com/reference/cstring/\n",
    "    - provides functions to work with c-string (array of char)\n",
    "- must use **std namespace** to use string and related functionalities"
   ]
  },
  {
   "cell_type": "code",
   "execution_count": 4,
   "metadata": {},
   "outputs": [],
   "source": [
    "#include <string>\n",
    "using namespace std;"
   ]
  },
  {
   "cell_type": "code",
   "execution_count": 5,
   "metadata": {},
   "outputs": [],
   "source": [
    "string some_name = \"John Smith\";\n",
    "// convert float to string\n",
    "string value = to_string(5324.454);"
   ]
  },
  {
   "cell_type": "code",
   "execution_count": 6,
   "metadata": {},
   "outputs": [
    {
     "name": "stdout",
     "output_type": "stream",
     "text": [
      "John Smith 5324.454000\n"
     ]
    }
   ],
   "source": [
    "cout << some_name << \" \" << value << endl;"
   ]
  },
  {
   "cell_type": "code",
   "execution_count": 7,
   "metadata": {},
   "outputs": [
    {
     "data": {
      "text/plain": [
       "\"5324.454000\""
      ]
     },
     "execution_count": 7,
     "metadata": {},
     "output_type": "execute_result"
    }
   ],
   "source": [
    "value"
   ]
  },
  {
   "cell_type": "code",
   "execution_count": 8,
   "metadata": {},
   "outputs": [],
   "source": [
    "// convert integer to string\n",
    "string str_num = to_string(234);"
   ]
  },
  {
   "cell_type": "code",
   "execution_count": 9,
   "metadata": {},
   "outputs": [],
   "source": [
    "// example of c-string (array of characters)\n",
    "char richest_person[] = \"Bill Gates\";"
   ]
  },
  {
   "cell_type": "code",
   "execution_count": 10,
   "metadata": {},
   "outputs": [
    {
     "data": {
      "text/plain": [
       "\"Bill Gates\""
      ]
     },
     "execution_count": 10,
     "metadata": {},
     "output_type": "execute_result"
    }
   ],
   "source": [
    "richest_person"
   ]
  },
  {
   "cell_type": "code",
   "execution_count": 11,
   "metadata": {},
   "outputs": [],
   "source": [
    "// convert c-string to C++ string\n",
    "string some_name1 = string(richest_person);"
   ]
  },
  {
   "cell_type": "markdown",
   "metadata": {},
   "source": [
    "## `<cstdlib>` library \n",
    "- provies a bunch of typecasting functions\n",
    "- ref: https://en.cppreference.com/w/cpp/header/cstdlib\n",
    "- must include `<cstdlib>`\n",
    "- `float( ), int( ), double( ), char( )` are built-in functions used to convert data types\n",
    "- `atof( )` - converts a byte string to a floating point value\n",
    "- `atoi( ), atol( ), atoll( )` - convert a byte string to corresponding integer value\n",
    "- the value in function's parenthesis is called an **argument**"
   ]
  },
  {
   "cell_type": "code",
   "execution_count": 12,
   "metadata": {},
   "outputs": [
    {
     "name": "stdout",
     "output_type": "stream",
     "text": [
      "25 20.99 65 a\n"
     ]
    }
   ],
   "source": [
    "#include ><cstdlib // or\n",
    "// include <stdlib.h>\n",
    "\n",
    "cout << float(25) << \" \" << double(20.99f) << \" \" << int('A') << \" \" << char(97) << endl;"
   ]
  },
  {
   "cell_type": "code",
   "execution_count": 13,
   "metadata": {},
   "outputs": [
    {
     "name": "stdout",
     "output_type": "stream",
     "text": [
      "99 89.99"
     ]
    }
   ],
   "source": [
    "cout << atoi(\"99.99\") << \" \" << atof(\"89.99\");"
   ]
  },
  {
   "cell_type": "code",
   "execution_count": 6,
   "metadata": {},
   "outputs": [
    {
     "data": {
      "text/plain": [
       "900373781"
      ]
     },
     "execution_count": 6,
     "metadata": {},
     "output_type": "execute_result"
    }
   ],
   "source": [
    "// generate random number between 0 and RAND_MAX\n",
    "// run this cell a few times to see different pseudo random number\n",
    "rand()"
   ]
  },
  {
   "cell_type": "code",
   "execution_count": 2,
   "metadata": {},
   "outputs": [
    {
     "data": {
      "text/plain": [
       "2147483647"
      ]
     },
     "execution_count": 2,
     "metadata": {},
     "output_type": "execute_result"
    }
   ],
   "source": [
    "RAND_MAX"
   ]
  },
  {
   "cell_type": "code",
   "execution_count": 16,
   "metadata": {},
   "outputs": [
    {
     "data": {
      "text/plain": [
       "730"
      ]
     },
     "execution_count": 16,
     "metadata": {},
     "output_type": "execute_result"
    }
   ],
   "source": [
    "// generate a random number between 1 and 1000\n",
    "rand()%1000+1"
   ]
  },
  {
   "cell_type": "code",
   "execution_count": 17,
   "metadata": {},
   "outputs": [
    {
     "name": "stderr",
     "output_type": "stream",
     "text": [
      "\u001b[1minput_line_33:3:1: \u001b[0m\u001b[0;1;31merror: \u001b[0m\u001b[1mcast from pointer to smaller type 'int' loses information\u001b[0m\n",
      "int(\"10\")\n",
      "\u001b[0;1;32m^~~~~~~~\n",
      "\u001b[0m"
     ]
    },
    {
     "ename": "Interpreter Error",
     "evalue": "",
     "output_type": "error",
     "traceback": [
      "Interpreter Error: "
     ]
    }
   ],
   "source": [
    "// can't use int() to convert C-string\n",
    "int(\"10\")"
   ]
  },
  {
   "cell_type": "code",
   "execution_count": 72,
   "metadata": {},
   "outputs": [
    {
     "name": "stderr",
     "output_type": "stream",
     "text": [
      "\u001b[1minput_line_118:2:21: \u001b[0m\u001b[0;1;31merror: \u001b[0m\u001b[1minvalid operands to binary expression ('const char *' and 'const char *')\u001b[0m\n",
      " string a = \"Hello\" + \"World\";\n",
      "\u001b[0;1;32m            ~~~~~~~ ^ ~~~~~~~\n",
      "\u001b[0m"
     ]
    },
    {
     "ename": "Interpreter Error",
     "evalue": "",
     "output_type": "error",
     "traceback": [
      "Interpreter Error: "
     ]
    }
   ],
   "source": [
    "// literal strings are considered C-string not C++ string\n",
    "// C-strings can't be concatenated\n",
    "string a = \"Hello\" + \"World\";"
   ]
  },
  {
   "cell_type": "markdown",
   "metadata": {},
   "source": [
    "## Numerics library\n",
    "- https://en.cppreference.com/w/cpp/numeric\n",
    "- includes common mathematical functions and types\n",
    "- we may be familiar with some math functions from trigonometrics and algebra\n",
    "    - e.g., expressions such as $sin(\\frac{\\pi}{2}), log(\\frac{1}{x})$, etc.\n",
    "    - first, we evaluation the expression inside the parenthesis called **argument**\n",
    "    - then, we apply the function to evaluate the answer\n",
    "\n",
    "## `<cmath>` library \n",
    "- provies functionalities to calculate common mathematical expressions\n",
    "- `abs( )`, `sqrt( )`, `sin( )`, `cos( )`, `pow( )`, `sqrt( )`, `log( )`, etc.\n",
    "- more: https://en.cppreference.com/w/cpp/numeric"
   ]
  },
  {
   "cell_type": "code",
   "execution_count": 18,
   "metadata": {},
   "outputs": [],
   "source": [
    "#include <cmath>\n",
    "#include <iostream>\n",
    "\n",
    "using namespace std;"
   ]
  },
  {
   "cell_type": "code",
   "execution_count": 19,
   "metadata": {},
   "outputs": [
    {
     "data": {
      "text/plain": [
       "3.1415927"
      ]
     },
     "execution_count": 19,
     "metadata": {},
     "output_type": "execute_result"
    }
   ],
   "source": [
    "// can use built-in macro M_PI for the value of M_PI\n",
    "M_PI"
   ]
  },
  {
   "cell_type": "code",
   "execution_count": 20,
   "metadata": {},
   "outputs": [
    {
     "data": {
      "text/plain": [
       "1.0000000"
      ]
     },
     "execution_count": 20,
     "metadata": {},
     "output_type": "execute_result"
    }
   ],
   "source": [
    "// sine of (pi/2)\n",
    "sin(3.141592653589793238/2)"
   ]
  },
  {
   "cell_type": "code",
   "execution_count": 21,
   "metadata": {},
   "outputs": [
    {
     "data": {
      "text/plain": [
       "1.0000000"
      ]
     },
     "execution_count": 21,
     "metadata": {},
     "output_type": "execute_result"
    }
   ],
   "source": [
    "cos(0)"
   ]
  },
  {
   "cell_type": "code",
   "execution_count": 22,
   "metadata": {},
   "outputs": [],
   "source": [
    "int x;"
   ]
  },
  {
   "cell_type": "code",
   "execution_count": 23,
   "metadata": {},
   "outputs": [
    {
     "name": "stdout",
     "output_type": "stream",
     "text": [
      "Enter a number: 100\n",
      "natural ln (100) = 4.60517"
     ]
    },
    {
     "data": {
      "text/plain": [
       "@0x1080d1558"
      ]
     },
     "execution_count": 23,
     "metadata": {},
     "output_type": "execute_result"
    }
   ],
   "source": [
    "cout << \"Enter a number: \";\n",
    "cin >> x;\n",
    "cout << \"natural ln (\" << x << \") = \" << log(x); // returns natural log base e"
   ]
  },
  {
   "cell_type": "code",
   "execution_count": 24,
   "metadata": {},
   "outputs": [
    {
     "name": "stdout",
     "output_type": "stream",
     "text": [
      "base 2 log: log2(100) = 6.64386"
     ]
    },
    {
     "data": {
      "text/plain": [
       "@0x1080d1558"
      ]
     },
     "execution_count": 24,
     "metadata": {},
     "output_type": "execute_result"
    }
   ],
   "source": [
    "cout << \"base 2 log: log2(\" << x << \") = \" << log2(x); // returns base 2 log"
   ]
  },
  {
   "cell_type": "code",
   "execution_count": 25,
   "metadata": {},
   "outputs": [
    {
     "name": "stdout",
     "output_type": "stream",
     "text": [
      "base 10 log: log10(100) = 2"
     ]
    },
    {
     "data": {
      "text/plain": [
       "@0x1080d1558"
      ]
     },
     "execution_count": 25,
     "metadata": {},
     "output_type": "execute_result"
    }
   ],
   "source": [
    "cout << \"base 10 log: log10(\" << x << \") = \" << log10(x); // returns base 10 log"
   ]
  },
  {
   "cell_type": "code",
   "execution_count": 26,
   "metadata": {},
   "outputs": [
    {
     "data": {
      "text/plain": [
       "16.000000"
      ]
     },
     "execution_count": 26,
     "metadata": {},
     "output_type": "execute_result"
    }
   ],
   "source": [
    "pow(2, 4) // returns x^y"
   ]
  },
  {
   "cell_type": "code",
   "execution_count": 27,
   "metadata": {},
   "outputs": [
    {
     "data": {
      "text/plain": [
       "10.000000"
      ]
     },
     "execution_count": 27,
     "metadata": {},
     "output_type": "execute_result"
    }
   ],
   "source": [
    "sqrt(100) // returns  square root of x"
   ]
  },
  {
   "cell_type": "code",
   "execution_count": 28,
   "metadata": {},
   "outputs": [
    {
     "data": {
      "text/plain": [
       "10.000000"
      ]
     },
     "execution_count": 28,
     "metadata": {},
     "output_type": "execute_result"
    }
   ],
   "source": [
    "cbrt(1000) // returns cubic root of x"
   ]
  },
  {
   "cell_type": "code",
   "execution_count": 29,
   "metadata": {},
   "outputs": [
    {
     "data": {
      "text/plain": [
       "7"
      ]
     },
     "execution_count": 29,
     "metadata": {},
     "output_type": "execute_result"
    }
   ],
   "source": [
    "// returns absolute positive value of an integer\n",
    "abs(-7)"
   ]
  },
  {
   "cell_type": "code",
   "execution_count": 30,
   "metadata": {},
   "outputs": [
    {
     "data": {
      "text/plain": [
       "6.0000000"
      ]
     },
     "execution_count": 30,
     "metadata": {},
     "output_type": "execute_result"
    }
   ],
   "source": [
    "// returns rounded up float\n",
    "ceil(5.1)"
   ]
  },
  {
   "cell_type": "code",
   "execution_count": 31,
   "metadata": {},
   "outputs": [
    {
     "data": {
      "text/plain": [
       "5.0000000"
      ]
     },
     "execution_count": 31,
     "metadata": {},
     "output_type": "execute_result"
    }
   ],
   "source": [
    "// returns the rounded down float\n",
    "floor(5.9)"
   ]
  },
  {
   "cell_type": "code",
   "execution_count": 32,
   "metadata": {},
   "outputs": [
    {
     "data": {
      "text/plain": [
       "-5.0000000"
      ]
     },
     "execution_count": 32,
     "metadata": {},
     "output_type": "execute_result"
    }
   ],
   "source": [
    "// returns the smallest integer larger than argument\n",
    "ceil(-5.1)"
   ]
  },
  {
   "cell_type": "code",
   "execution_count": 33,
   "metadata": {},
   "outputs": [
    {
     "data": {
      "text/plain": [
       "-6.0000000"
      ]
     },
     "execution_count": 33,
     "metadata": {},
     "output_type": "execute_result"
    }
   ],
   "source": [
    "// returns the largest integer smaller than argument\n",
    "floor(-5.9)"
   ]
  },
  {
   "cell_type": "markdown",
   "metadata": {},
   "source": [
    "## `<cctype>` library\n",
    "- C library that provides some functionalities to work with character types\n",
    "- `tolower(x)` : returns the lowercase ASCII value of x character\n",
    "- `toupper(x)` : returns the uppercase of x character\n",
    "- `isalpha(x)` : checks if a character is alphabetic\n",
    "- more on cctype: https://en.cppreference.com/w/cpp/header/cctype"
   ]
  },
  {
   "cell_type": "code",
   "execution_count": 34,
   "metadata": {},
   "outputs": [],
   "source": [
    "#include <cctype>\n",
    "using namespace std;"
   ]
  },
  {
   "cell_type": "code",
   "execution_count": 35,
   "metadata": {},
   "outputs": [
    {
     "data": {
      "text/plain": [
       "97"
      ]
     },
     "execution_count": 35,
     "metadata": {},
     "output_type": "execute_result"
    }
   ],
   "source": [
    "tolower('A')"
   ]
  },
  {
   "cell_type": "code",
   "execution_count": 36,
   "metadata": {},
   "outputs": [
    {
     "data": {
      "text/plain": [
       "36"
      ]
     },
     "execution_count": 36,
     "metadata": {},
     "output_type": "execute_result"
    }
   ],
   "source": [
    "tolower('$')"
   ]
  },
  {
   "cell_type": "code",
   "execution_count": 37,
   "metadata": {},
   "outputs": [
    {
     "data": {
      "text/plain": [
       "'a'"
      ]
     },
     "execution_count": 37,
     "metadata": {},
     "output_type": "execute_result"
    }
   ],
   "source": [
    "// convert lowercase ASCII value to char\n",
    "char(tolower('A'))"
   ]
  },
  {
   "cell_type": "code",
   "execution_count": 38,
   "metadata": {},
   "outputs": [
    {
     "data": {
      "text/plain": [
       "'Z'"
      ]
     },
     "execution_count": 38,
     "metadata": {},
     "output_type": "execute_result"
    }
   ],
   "source": [
    "char(toupper('z'))"
   ]
  },
  {
   "cell_type": "code",
   "execution_count": 39,
   "metadata": {},
   "outputs": [
    {
     "data": {
      "text/plain": [
       "'1'"
      ]
     },
     "execution_count": 39,
     "metadata": {},
     "output_type": "execute_result"
    }
   ],
   "source": [
    "char(toupper('1'))"
   ]
  },
  {
   "cell_type": "code",
   "execution_count": 40,
   "metadata": {},
   "outputs": [
    {
     "data": {
      "text/plain": [
       "1"
      ]
     },
     "execution_count": 40,
     "metadata": {},
     "output_type": "execute_result"
    }
   ],
   "source": [
    "// return 1 for true\n",
    "isalpha('q')"
   ]
  },
  {
   "cell_type": "code",
   "execution_count": 41,
   "metadata": {},
   "outputs": [
    {
     "data": {
      "text/plain": [
       "0"
      ]
     },
     "execution_count": 41,
     "metadata": {},
     "output_type": "execute_result"
    }
   ],
   "source": [
    "// returns 0 for false\n",
    "isalpha('*')"
   ]
  },
  {
   "cell_type": "code",
   "execution_count": 42,
   "metadata": {},
   "outputs": [],
   "source": [
    "// TODO: practice with other functions in cctype"
   ]
  },
  {
   "cell_type": "markdown",
   "metadata": {},
   "source": [
    "## `<sstream>` library\n",
    "- provides high-level string input/output operations\n",
    "- there are two string stream types (input and output)\n",
    "- `basic_istringstream` provides functionalities for high-level string stream input operations\n",
    "    - helps parse string data and extract values as specific types\n",
    "- `basic_ostringstream` provides functionalities for high-level string stream output operations\n",
    "    - helpful in collecting results of different data types as a single stream\n",
    "- more: https://en.cppreference.com/w/cpp/header/sstream"
   ]
  },
  {
   "cell_type": "code",
   "execution_count": 7,
   "metadata": {},
   "outputs": [],
   "source": [
    "#include <sstream> // istringstream and ostringstream\n",
    "#include <iostream>\n",
    "#include <string>\n",
    "\n",
    "using namespace std;"
   ]
  },
  {
   "cell_type": "code",
   "execution_count": 8,
   "metadata": {},
   "outputs": [],
   "source": [
    "// let's say we've a string data record as: firstName MI lastName age GPA\n",
    "string mixedData = \"John B Doe 20 3.9\";\n",
    "// let's parse it using istringstream\n",
    "istringstream iss(mixedData);\n",
    "// now since we created input string stream, iss, we can extract data from it\n",
    "// as if we're extracting from standard input stream"
   ]
  },
  {
   "cell_type": "code",
   "execution_count": 9,
   "metadata": {},
   "outputs": [],
   "source": [
    "// let's declare variables to store data into\n",
    "string firstName, lastName;\n",
    "char MI;\n",
    "int age;\n",
    "float GPA;"
   ]
  },
  {
   "cell_type": "code",
   "execution_count": 10,
   "metadata": {},
   "outputs": [],
   "source": [
    "iss >> firstName >> MI >> lastName >> age >> GPA;"
   ]
  },
  {
   "cell_type": "code",
   "execution_count": 11,
   "metadata": {},
   "outputs": [
    {
     "name": "stdout",
     "output_type": "stream",
     "text": [
      "Student: Doe, John Age: 20 GPA: 3.9"
     ]
    }
   ],
   "source": [
    "cout << \"Student: \" << lastName << \", \" << firstName << \" Age: \" << age << \" GPA: \" << GPA;"
   ]
  },
  {
   "cell_type": "code",
   "execution_count": 48,
   "metadata": {},
   "outputs": [],
   "source": [
    "// let's declare an empty output string stream\n",
    "ostringstream outstream;"
   ]
  },
  {
   "cell_type": "code",
   "execution_count": 49,
   "metadata": {},
   "outputs": [],
   "source": [
    "// let's write data to outstream just like writing to std output stream\n",
    "outstream << firstName << MI << lastName << age << GPA;"
   ]
  },
  {
   "cell_type": "code",
   "execution_count": 50,
   "metadata": {},
   "outputs": [
    {
     "name": "stdout",
     "output_type": "stream",
     "text": [
      "JohnBDoe203.9"
     ]
    },
    {
     "data": {
      "text/plain": [
       "@0x1080d1558"
      ]
     },
     "execution_count": 50,
     "metadata": {},
     "output_type": "execute_result"
    }
   ],
   "source": [
    "// let's print the outstream as string\n",
    "cout << outstream.str();\n",
    "// many objects have methods that can be invoked using . operator"
   ]
  },
  {
   "cell_type": "markdown",
   "metadata": {},
   "source": [
    "## `<iomanip>` library\n",
    "\n",
    "- provides functionalities to manipulate or format input and output\n",
    "- `setfill(char)` - changes the fill character; used in conjunction with `setw(int)`\n",
    "- `setprecision(int)` - changes floating-point precision\n",
    "- `setw(int)` - changes the width of the next input/output field\n",
    "- more: https://en.cppreference.com/w/cpp/header/iomanip\n",
    "- syntax for using i/o manipulators:\n",
    "\n",
    "```cpp\n",
    "cout << expression << manipulator << expression << manipulator << ...;\n",
    "```\n",
    "- some other manipulators are\n",
    "    - `fixed` - output the floating point in fixed decimal format\n",
    "    - `showpoint` - displays the trailing zeros when printing floating point numbers\n",
    "- parameterized manipulator -- the ones with `( )` -- require `iomanip` library\n",
    "- manipulators without parameters require `iostream` library\n",
    "\n",
    "### Tabular output\n",
    "\n",
    "- often you have to format your output to look well organized\n",
    "    - like a tabular report\n",
    "- let's say you need to print the following output:\n",
    "\n",
    "```\n",
    "=========================================\n",
    "First Name      Last Name     Age     GPA\n",
    "=========================================\n",
    "John            Smith         20      3.9\n",
    "Alice           Wonderland    19      4.0\n",
    "*****************************************\n",
    "```\n",
    "\n",
    "- `First Name` column is left justified and has width of 20 characters\n",
    "- `Last Name` column is left justified and has width of 20 chars\n",
    "- `Age` column is right aligned and has width of 5 chars\n",
    "- `GPA` column is right algined and has width of 5 chars"
   ]
  },
  {
   "cell_type": "code",
   "execution_count": 51,
   "metadata": {},
   "outputs": [],
   "source": [
    "#include <iomanip>\n",
    "#include <iostream>\n",
    "\n",
    "using namespace std;"
   ]
  },
  {
   "cell_type": "code",
   "execution_count": 13,
   "metadata": {},
   "outputs": [
    {
     "name": "stdout",
     "output_type": "stream",
     "text": [
      "======================================================================"
     ]
    }
   ],
   "source": [
    "// setw() and setfill() example\n",
    "// print 50-character long string with '='\n",
    "cout << setw(70) << setfill('=') << \"\";"
   ]
  },
  {
   "cell_type": "code",
   "execution_count": 53,
   "metadata": {},
   "outputs": [
    {
     "name": "stdout",
     "output_type": "stream",
     "text": [
      "==========First Name===========Last Name==Age==GPA\n"
     ]
    },
    {
     "data": {
      "text/plain": [
       "@0x1080d1558"
      ]
     },
     "execution_count": 53,
     "metadata": {},
     "output_type": "execute_result"
    }
   ],
   "source": [
    "cout << setw(20) << \"First Name\" << setw(20) << \"Last Name\"\n",
    "     << setw(5) << \"Age\" << setw(5) << \"GPA\" << endl;\n",
    "// by default data in setw() column is right algined!"
   ]
  },
  {
   "cell_type": "code",
   "execution_count": 54,
   "metadata": {},
   "outputs": [
    {
     "name": "stdout",
     "output_type": "stream",
     "text": [
      "First Name          Last Name             Age  GPA\n"
     ]
    },
    {
     "data": {
      "text/plain": [
       "@0x1080d1558"
      ]
     },
     "execution_count": 54,
     "metadata": {},
     "output_type": "execute_result"
    }
   ],
   "source": [
    "// the first name and last name columns need to be left aligned\n",
    "// the Age and GPA numeric columns are right algined\n",
    "cout << setfill(' '); // need to reset the fill character to ' ' space\n",
    "cout << setw(20) << left << \"First Name\" << setw(20) << \"Last Name\"\n",
    "     << right << setw(5) << \"Age\" << setw(5) << \"GPA\" << endl;\n",
    "// by default data in setw() column is right algined!"
   ]
  },
  {
   "cell_type": "code",
   "execution_count": 55,
   "metadata": {},
   "outputs": [
    {
     "name": "stdout",
     "output_type": "stream",
     "text": [
      "1.23457\n",
      "1\n"
     ]
    },
    {
     "data": {
      "text/plain": [
       "@0x1080d1558"
      ]
     },
     "execution_count": 55,
     "metadata": {},
     "output_type": "execute_result"
    }
   ],
   "source": [
    "// when outputting floating point numbers...\n",
    "cout << 1.234567 << endl; // rounds to 5 decimal points\n",
    "cout << 1.00000 << endl; // ignores trailing 0s"
   ]
  },
  {
   "cell_type": "code",
   "execution_count": 56,
   "metadata": {},
   "outputs": [
    {
     "name": "stdout",
     "output_type": "stream",
     "text": [
      "1.000000\n"
     ]
    }
   ],
   "source": [
    "// can force trailing zeros to display upto 6 0's\n",
    "cout << fixed << showpoint << 1.000000000 << endl;"
   ]
  },
  {
   "cell_type": "code",
   "execution_count": 16,
   "metadata": {},
   "outputs": [
    {
     "name": "stdout",
     "output_type": "stream",
     "text": [
      "1.12 1.00\n"
     ]
    }
   ],
   "source": [
    "// we can fix this by forcing floating point numbers to print using fixed format \n",
    "// and then setting the precision\n",
    "cout << fixed << setprecision(2) << 1.123456789 << \" \" << 1.000000000 << endl;"
   ]
  },
  {
   "cell_type": "code",
   "execution_count": 17,
   "metadata": {},
   "outputs": [
    {
     "name": "stdout",
     "output_type": "stream",
     "text": [
      "1.00\t9.99\n"
     ]
    }
   ],
   "source": [
    "// Note: fixed and setprecision() manipulators apply to all the floating points printed subsequently...\n",
    "cout << 1.0 << '\\t' << 9.99 << endl;"
   ]
  },
  {
   "cell_type": "code",
   "execution_count": 59,
   "metadata": {},
   "outputs": [
    {
     "name": "stdout",
     "output_type": "stream",
     "text": [
      "==================================================\n",
      "First Name          Last Name             Age  GPA\n",
      "==================================================\n",
      "John                Smith                  20  3.9\n",
      "Alice               Wonderland             19  4.0\n",
      "**************************************************\n"
     ]
    }
   ],
   "source": [
    "// let's put it all together\n",
    "cout << setw(50) << setfill('=') << \"\" << endl;\n",
    "cout << setfill(' '); // need to reset the fill character to ' ' space\n",
    "cout << setw(20) << left << \"First Name\" << setw(20) << \"Last Name\"\n",
    "     << right << setw(5) << \"Age\" << setw(5) << \"GPA\" << endl;\n",
    "cout << setw(50) << setfill('=') << \"\" << endl;\n",
    "cout << setfill(' ') << fixed << setprecision(1);\n",
    "cout << setw(20) << left << \"John\" << setw(20) << \"Smith\"\n",
    "     << right << setw(5) << 20 << setw(5) << 3.9 << endl;\n",
    "cout << setw(20) << left << \"Alice\" << setw(20) << \"Wonderland\"\n",
    "     << right << setw(5) << 19 << setw(5) << 4.0 << endl;\n",
    "cout << setw(50) << setfill('*') << \"\" << endl;"
   ]
  },
  {
   "cell_type": "code",
   "execution_count": 60,
   "metadata": {},
   "outputs": [
    {
     "name": "stdout",
     "output_type": "stream",
     "text": [
      "a\n",
      "12\n",
      "15\n"
     ]
    }
   ],
   "source": [
    "// other useful manipulators\n",
    "cout << hex << 10 << endl;\n",
    "cout << oct << 10 << endl;\n",
    "cout << dec << 15 << endl;"
   ]
  },
  {
   "cell_type": "markdown",
   "metadata": {},
   "source": [
    "## `<cstdio>` library\n",
    "\n",
    "- C alternative to C++ iostream library is worth learning about\n",
    "- C library for stdio has many functions for working with standard input/output\n",
    "    - https://en.cppreference.com/w/cpp/header/cstdio\n",
    "- specifically, `printf()` can be very useful in quickly printing integers and floaing point numbers with some formatting without having to use C++ io manipulators\n",
    "- `printf()` function prototype:\n",
    "\n",
    "```cpp\n",
    "int printf(const char* format, ...);\n",
    "```\n",
    "\n",
    "- format strings include format parameter with `%` symbol to format the given data with\n",
    "- detail on `printf` can be found here: http://cplusplus.com/reference/cstdio/printf/\n",
    "- see examples here: [demos/library/printf/printf_demo.cpp](demos/library/printf/printf_demo.cpp)"
   ]
  },
  {
   "cell_type": "code",
   "execution_count": 61,
   "metadata": {},
   "outputs": [
    {
     "name": "stdout",
     "output_type": "stream",
     "text": [
      "Printing integer numbers: -100 85 -999\n"
     ]
    }
   ],
   "source": [
    "printf(\"Printing integer numbers: %d %u %i\\n\", -100, 85, -999);"
   ]
  },
  {
   "cell_type": "code",
   "execution_count": 62,
   "metadata": {},
   "outputs": [
    {
     "name": "stdout",
     "output_type": "stream",
     "text": [
      "Printing characters:\tc A\n"
     ]
    }
   ],
   "source": [
    "printf(\"Printing characters:\\tc %c\\n\", 65);"
   ]
  },
  {
   "cell_type": "code",
   "execution_count": 63,
   "metadata": {},
   "outputs": [
    {
     "name": "stdout",
     "output_type": "stream",
     "text": [
      "Printing c-string: Hello World\n"
     ]
    }
   ],
   "source": [
    "printf(\"Printing c-string: %s\\n\", \"Hello World\");"
   ]
  },
  {
   "cell_type": "code",
   "execution_count": 64,
   "metadata": {},
   "outputs": [
    {
     "name": "stdout",
     "output_type": "stream",
     "text": [
      "Printing floating points: 2.00\n"
     ]
    },
    {
     "data": {
      "text/plain": [
       "31"
      ]
     },
     "execution_count": 64,
     "metadata": {},
     "output_type": "execute_result"
    }
   ],
   "source": [
    "printf(\"Printing floating points: %.2f\\n\", 1.99999); // rounds it to 2 decimal points"
   ]
  },
  {
   "cell_type": "code",
   "execution_count": 65,
   "metadata": {},
   "outputs": [
    {
     "name": "stdout",
     "output_type": "stream",
     "text": [
      "Printing Hexadecimal: a A 0xa 0XA\n"
     ]
    }
   ],
   "source": [
    "printf(\"Printing Hexadecimal: %x %X %#x %#X\\n\", 10, 10, 10, 10);"
   ]
  },
  {
   "cell_type": "code",
   "execution_count": 66,
   "metadata": {},
   "outputs": [
    {
     "name": "stdout",
     "output_type": "stream",
     "text": [
      "Printing Octal: 12 012\n"
     ]
    }
   ],
   "source": [
    "printf(\"Printing Octal: %o %#o\\n\", 10, 10);"
   ]
  },
  {
   "cell_type": "code",
   "execution_count": 70,
   "metadata": {},
   "outputs": [
    {
     "name": "stdout",
     "output_type": "stream",
     "text": [
      "Printing Scientific: 1.500000e+00 1.000005E+00\n"
     ]
    }
   ],
   "source": [
    "printf(\"Printing Scientific: %e %E\\n\", 1.5, 1.000005);"
   ]
  },
  {
   "cell_type": "code",
   "execution_count": 68,
   "metadata": {},
   "outputs": [
    {
     "name": "stdout",
     "output_type": "stream",
     "text": [
      "Column Width & Right Justification: '        Hi'\n"
     ]
    }
   ],
   "source": [
    "printf(\"Column Width & Right Justification: '%10s'\\n\", \"Hi\");"
   ]
  },
  {
   "cell_type": "code",
   "execution_count": 69,
   "metadata": {},
   "outputs": [
    {
     "name": "stdout",
     "output_type": "stream",
     "text": [
      "Column Width & Left Justification: 'Hi        '\n"
     ]
    }
   ],
   "source": [
    "printf(\"Column Width & Left Justification: '%-10s'\\n\", \"Hi\");"
   ]
  },
  {
   "cell_type": "markdown",
   "metadata": {},
   "source": [
    "## Exercises\n",
    "    \n",
    "    \n",
    "1. Area and perimeter of rectangle\n",
    "    - Write a C++ program with alogrithm that prompts user to enter length and width of a rectangle. Program then computes its area and perimeter and displays the results.\n",
    "    - Use as many libraries as possible!\n",
    "    - see this sample solution [exercises/library/rectangle/main.cpp](exercises/library/rectangle/main.cpp)\n",
    "\n",
    "\n",
    "2. Area and perimeter of a triangle\n",
    "    - Write a C++ program with alogrithm that prompts user to enter three sides of a triangle. Program then computes its area and perimeter and displays the results.\n",
    "    - Hint: Use Heron's formula: https://www.mathsisfun.com/geometry/herons-formula.html\n",
    "    - Use as many libraries as possible!\n",
    "\n",
    "    \n",
    "2. Area and volume of a right cylinder\n",
    "    - Write a C++ program with algorithm that prompts user to enter radius and height of a cyliner. Program then computes and displays the area and volume.\n",
    "    - Use as many libraries as possible (more the better!)\n",
    "    - [perimeter formula by Google](https://www.google.com/search?safe=active&sxsrf=ALeKk03WvJnxL6H0kUgxC8uEOHOOZKu6tQ%3A1594087321396&ei=mdcDX_HXF8i4tQah0Z3wCw&q=perimeter+of+hexagon&oq=peri&gs_lcp=CgZwc3ktYWIQAxgBMgUIABCRAjIECAAQQzIFCAAQkQIyBAgAEEMyBAgAEEMyBQgAELEDMgQIABBDMgQIABBDMgQIABBDMgQIABBDOgQIABBHOgQIIxAnOgIIADoGCAAQBRAeUNJnWPC9AWC6zwFoAHACeACAAYIBiAHqBJIBAzAuNZgBAKABAaoBB2d3cy13aXo&sclient=psy-ab)\n",
    "    - [area formula by Google](https://www.google.com/search?safe=active&sxsrf=ALeKk01e5wfOCujSEfdUDffN0Hr-8ZAgeQ%3A1594082833332&ei=EcYDX5DnE5uDtQbDgLvoCw&q=finding+area+of+a+cylinder&oq=finding+area+of+a+cylinder&gs_lcp=CgZwc3ktYWIQAzICCAAyAggAMgYIABAFEB4yBggAEAgQHjIGCAAQCBAeMgYIABAIEB4yBggAEAgQHjIGCAAQCBAeMgYIABAIEB4yBggAEAgQHjoECAAQRzoGCAAQBxAeOggIABAIEAcQHlDGwwdY0MYHYOrHB2gAcAJ4AIABjAGIAekDkgEDMC40mAEAoAEBqgEHZ3dzLXdpeg&sclient=psy-ab&ved=0ahUKEwjQs5eo9bnqAhWbQc0KHUPADr0Q4dUDCAw&uact=)\n",
    "    - [volume formula by Google](https://www.google.com/search?q=finding+volume+of+a+cylinder&oq=finding+volume+of+a&aqs=chrome.0.0l2j69i57j0l5.5998j0j7&sourceid=chrome&ie=UTF-8)\n",
    "\n",
    "   \n",
    "3. Area and perimeter of a regular hexagon\n",
    "    - Write a C++ program with algorithm that prompts user to enter a side of the regular hexagon. It then computes and prints the area and perimeter.\n",
    "    - [area of a regular hexagon by Google](https://www.google.com/search?safe=active&sxsrf=ALeKk021FVcqHvMhWHIyTjUcTq88v-tdFQ%3A1594083274656&ei=yscDX_3AJ8K_tQbo8IKYDA&q=finding+area+of+a+regular+hexagon&oq=finding+area+of+a+hex&gs_lcp=CgZwc3ktYWIQAxgBMgIIADIGCAAQFhAeMgYIABAWEB4yBggAEBYQHjIGCAAQFhAeMgYIABAWEB4yBggAEBYQHjIGCAAQFhAeMgYIABAWEB4yBggAEBYQHjoECAAQRzoECCMQJzoECAAQQ1CR2A1YluUNYPjzDWgAcAJ4AIABiQGIAe8IkgEDMC45mAEAoAEBqgEHZ3dzLXdpeg&sclient=psy-ab)\n",
    "    - Use as many libraries as possible!\n",
    "\n",
    "\n",
    "4. Average grade\n",
    "    - Write a C++ program with algorithm that prompts user to enter a student's full name and three test scores in on line. Program then finds the average score and displays the results as a tabular report.\n",
    "    - must use sstream library to read and write data.\n",
    "    - use as many other libraries as possible.\n",
    "    - e.g., for the sample input: John C Doe 100 95 98\n",
    "    - output should look like the following:\n",
    "    \n",
    "```\n",
    "----------------------------------------------------------------\n",
    "First Name     MI    Last Name     Test1   Test2   Test3   Avg.\n",
    "################################################################\n",
    "John           C.    Doe             100      95      98  97.66\n",
    "~~~~~~~~~~~~~~~~~~~~~~~~~~~~~~~~~~~~~~~~~~~~~~~~~~~~~~~~~~~~~~~~\n",
    "```"
   ]
  },
  {
   "cell_type": "markdown",
   "metadata": {},
   "source": [
    "## Kattis Problems\n",
    "- almost every Kattis problem requires at least `<iostream>` or `<cstdio>` library for standard input/output\n",
    "- math problems may require `<cmath>` library\n",
    "- string problems may require `<string>` library\n",
    "- `<iomanip>` is required if output results need to be formatted in certain way\n",
    "- `<cctype>` is required by any problem that needs to work with c-string type\n",
    "- `<cstdlib>` has many utility functions that may also be required"
   ]
  },
  {
   "cell_type": "markdown",
   "metadata": {},
   "source": [
    "## Summary\n",
    "- learned about some common libraries\n",
    "- purpose of libraries and example usages\n",
    "- revisited iostream, string, stdlib, cctype, etc. libraries\n",
    "- learned about cmath, sstream, iomanip with some examples\n",
    "- exercises and sample solutions"
   ]
  },
  {
   "cell_type": "code",
   "execution_count": null,
   "metadata": {},
   "outputs": [],
   "source": []
  }
 ],
 "metadata": {
  "kernelspec": {
   "display_name": "C++14",
   "language": "C++14",
   "name": "xcpp14"
  },
  "language_info": {
   "codemirror_mode": "text/x-c++src",
   "file_extension": ".cpp",
   "mimetype": "text/x-c++src",
   "name": "c++",
   "version": "14"
  }
 },
 "nbformat": 4,
 "nbformat_minor": 4
}

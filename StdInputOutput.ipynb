{
 "cells": [
  {
   "cell_type": "markdown",
   "metadata": {},
   "source": [
    "# Standard Input and Output\n",
    "\n",
    "## Topics\n",
    "- common way to input and output data\n",
    "- printing variables and values onto monitor or console\n",
    "- reading data from keyboard\n",
    "- composing programs"
   ]
  },
  {
   "cell_type": "markdown",
   "metadata": {},
   "source": [
    "## Input and output (IO)\n",
    "- IO operations are fundamental to computer programs\n",
    "- C++ IO occurs in streams (sequence of bytes)\n",
    "- programs must be able to read data from varieties of input devices (**input operation**)\n",
    "    - streams of bytes flow from keyboard, disk drive, network devices, etc. to main memory, RAM (Random Access Memory)\n",
    "- programs must be able to write data to varieties of output devices (**output operation**)\n",
    "    - stream of bytes flow from RAM to monitor, disk drive, network devices, etc.\n",
    "- this chapter covers how C++ handle standard input and output\n",
    "- reading from and writing to disk drive or files is covered in File IO chapter"
   ]
  },
  {
   "cell_type": "markdown",
   "metadata": {},
   "source": [
    "## Standard output stream\n",
    "\n",
    "- a prgram may need to display data or results of computation to users\n",
    "- a common way to display results is by printing them to common output called monitor\n",
    "    - also called console\n",
    "- we've printed `hello world` and some other strings to console in Chapter 1\n",
    "- similarly, we can print any literal values or data stored in variables to standard output\n",
    "- use `cout` statement defined in `<iostream>` library and `std namespace`\n",
    "- output statement syntax:\n",
    "\n",
    "    ```cpp\n",
    "    cout << varName1 << varName2 << \"literal values\" << ' ' << 100 << '\\n';\n",
    "    ```\n",
    "    \n",
    "- `<<` **stream insertion operator** inserts values to output stream\n",
    "- multiple values are separated by `<<` operator\n",
    "- `endl` operator or `\\n` escape character end line to continue writing in next line\n",
    "- the following code demonstrates standard output stream"
   ]
  },
  {
   "cell_type": "code",
   "execution_count": 3,
   "metadata": {},
   "outputs": [],
   "source": [
    "// include required library\n",
    "#include <iostream> // cout\n",
    "\n",
    "// use required namespace\n",
    "using namespace std; //std namespace defines cout, endl, etc."
   ]
  },
  {
   "cell_type": "code",
   "execution_count": 2,
   "metadata": {},
   "outputs": [
    {
     "name": "stdout",
     "output_type": "stream",
     "text": [
      "Hello World!\n",
      "1002.5 3.99Asome text as stringcontinue printing stuff in next line...?\n"
     ]
    }
   ],
   "source": [
    "cout << \"Hello World!\" << endl;\n",
    "cout << 100 << 2.5f << ' ' << 3.99 << 'A' << \"some text as string\";\n",
    "cout << \"continue printing stuff in next line...?\" << endl;"
   ]
  },
  {
   "cell_type": "code",
   "execution_count": 4,
   "metadata": {},
   "outputs": [],
   "source": [
    "// declaring and printing variables\n",
    "#include <string>\n",
    "\n",
    "string name = \"John Doe\";\n",
    "char MI = 'A';\n",
    "int age = 25;"
   ]
  },
  {
   "cell_type": "code",
   "execution_count": 5,
   "metadata": {},
   "outputs": [
    {
     "name": "stdout",
     "output_type": "stream",
     "text": [
      "name = John Doe\n",
      "MI = A and age = 25\n"
     ]
    }
   ],
   "source": [
    "// outputting variables\n",
    "cout << \"name = \" << name << endl;\n",
    "cout << \"MI = \" << MI << \" and age = \" << age << endl;"
   ]
  },
  {
   "cell_type": "code",
   "execution_count": 6,
   "metadata": {},
   "outputs": [],
   "source": [
    "bool done = false;\n",
    "float temperature = 73;\n",
    "float richest_persons_networth = 120000000000; // 120 billion\n",
    "float interestRate = 4.5;\n",
    "float length = 10.5;\n",
    "float width = 99.99f; // can end with f for representing floating point number\n",
    "double space_shuttle_velocity = 950.1234567891234567 // 16 decimal points"
   ]
  },
  {
   "cell_type": "code",
   "execution_count": 7,
   "metadata": {},
   "outputs": [
    {
     "name": "stdout",
     "output_type": "stream",
     "text": [
      "temperature: 73 age: 25 richest person's worth: 1.2e+11\n",
      "interest rate: 4.5\n",
      "length: 10.5 and width = 99.99\n",
      "space_shuttle_velocity: 950.123\n"
     ]
    }
   ],
   "source": [
    "// cout can continue in multilines\n",
    "cout << \"temperature: \" << temperature << \" age: \" << age \n",
    "    << \" richest person's worth: \"\n",
    "    << richest_persons_networth << endl;\n",
    "cout << \"interest rate: \" << interestRate << endl;\n",
    "cout << \"length: \" << length << \" and width = \" << width << endl;\n",
    "cout << \"space_shuttle_velocity: \" << 950.1234567891234567 << endl;"
   ]
  },
  {
   "cell_type": "code",
   "execution_count": 8,
   "metadata": {},
   "outputs": [
    {
     "name": "stdout",
     "output_type": "stream",
     "text": [
      "Hello there, John Doe!\n"
     ]
    }
   ],
   "source": [
    "// outputting string variables\n",
    "cout << \"Hello there, \" << name << '!' << endl;"
   ]
  },
  {
   "cell_type": "code",
   "execution_count": 9,
   "metadata": {},
   "outputs": [],
   "source": [
    "// more string variables\n",
    "string address1 = \"1100 North Ave\";\n",
    "string state_code = \"CO\";\n",
    "string country = \"USA\";"
   ]
  },
  {
   "cell_type": "code",
   "execution_count": 10,
   "metadata": {},
   "outputs": [
    {
     "name": "stdout",
     "output_type": "stream",
     "text": [
      "CMU's address:\n",
      "1100 North Ave\n",
      "Grand Junction, CO 81501\n",
      "USA\n"
     ]
    }
   ],
   "source": [
    "cout << \"CMU's address:\\n\"\n",
    "     << address1 << endl\n",
    "     << \"Grand Junction, \" << state_code << ' ' << 81501 << endl\n",
    "     << country << endl;"
   ]
  },
  {
   "cell_type": "markdown",
   "metadata": {},
   "source": [
    "## Standard input stream\n",
    "- often, data must be read from standard input stream or keyboard\n",
    "    - e.g. most interactive programs with Graphical User Interface (GUI) or Command Line Interface (CLI)\n",
    "- must include `<iostream>` library for standard input\n",
    "- must use **std** namespace\n",
    "- use **cin >>** statement\n",
    "- syntax:\n",
    "\n",
    "    ```cpp\n",
    "    cin >> var1 >> var2 >> ...;\n",
    "    ```\n",
    "    \n",
    "- `>>` stream extraction operator extracts data/value from input stream\n",
    "- must always use variables of appropriate types\n",
    "- while scanning input stream, `>>` ignores leading whitespaces and stops at a trailing whitespace\n",
    "- let's say we have a stream of data separated by whitespaces: `10 11 15.5 A`\n",
    "    - we can parse and extract it as following:\n",
    "    ```cpp\n",
    "    cin >> num1 >> num2 >> num3 >> alpha;\n",
    "    ```\n",
    "        - given num1 and num2 are of type int or long, num3 is float or double and alpha is char\n",
    "    \n",
    "### Inputting numerical data\n",
    "- we must store the extracted numerical input data into appropriate numerical variables\n",
    "- `>> int variables` : extracts whole numbers from input stream; stops at anything else\n",
    "- `>> float or double variables` : extracts numbers including decimal points; stops at anything else"
   ]
  },
  {
   "cell_type": "code",
   "execution_count": 17,
   "metadata": {},
   "outputs": [],
   "source": [
    "// include required libraries\n",
    "#include <iostream> //cin, cout\n",
    "\n",
    "using namespace std;"
   ]
  },
  {
   "cell_type": "code",
   "execution_count": 15,
   "metadata": {},
   "outputs": [
    {
     "name": "stdout",
     "output_type": "stream",
     "text": [
      "enter a whole number: 10\n",
      "You entered: 10\n"
     ]
    }
   ],
   "source": [
    "int num1;\n",
    "// prompt user to enter a whole number\n",
    "cout << \"enter a whole number: \";\n",
    "cin >> num1;\n",
    "cout << \"You entered: \" << num1 << endl;"
   ]
  },
  {
   "cell_type": "code",
   "execution_count": 10,
   "metadata": {},
   "outputs": [
    {
     "name": "stdout",
     "output_type": "stream",
     "text": [
      "enter two whole numbers separated by space: 10 20\n",
      "10+20=30\n"
     ]
    }
   ],
   "source": [
    "// can extract multiple integers\n",
    "int num2;\n",
    "cout << \"enter two whole numbers separated by space: \";\n",
    "cin >> num1 >> num2;\n",
    "cout << num1 << '+' << num2 << '=' << num1+num2 << endl;"
   ]
  },
  {
   "cell_type": "code",
   "execution_count": 11,
   "metadata": {},
   "outputs": [
    {
     "name": "stdout",
     "output_type": "stream",
     "text": [
      "enter a whole number and a floating point number separated by space: 5 9.9\n",
      "5 + 9.9 = 14.9\n"
     ]
    }
   ],
   "source": [
    "// extracting int and float\n",
    "float num3;\n",
    "cout << \"enter a whole number and a floating point number separated by space: \";\n",
    "cin >> num1 >> num3;\n",
    "cout << num1 << \" + \" << num3 << \" = \" << num1+num3 << endl;"
   ]
  },
  {
   "cell_type": "code",
   "execution_count": 12,
   "metadata": {},
   "outputs": [],
   "source": [
    "// let's enter 10 11 15.5 A and store them into corresponding variables\n",
    "int n1, n2;\n",
    "float n3;\n",
    "char alpha;"
   ]
  },
  {
   "cell_type": "code",
   "execution_count": 13,
   "metadata": {},
   "outputs": [
    {
     "name": "stdout",
     "output_type": "stream",
     "text": [
      "10 11 15.5 A\n"
     ]
    }
   ],
   "source": [
    "// let's not prompt; but simply enter 10 11 15.5 A\n",
    "cin >> n1 >> n2 >> n3 >> alpha;"
   ]
  },
  {
   "cell_type": "code",
   "execution_count": 14,
   "metadata": {},
   "outputs": [
    {
     "name": "stdout",
     "output_type": "stream",
     "text": [
      "10 11 15.5 A"
     ]
    }
   ],
   "source": [
    "// let's echo the entered values\n",
    "cout << n1 << \" \" << n2 << \" \" << n3 << \" \" << alpha;"
   ]
  },
  {
   "cell_type": "markdown",
   "metadata": {},
   "source": [
    "### Input failure\n",
    "- if input data and variable type mismatched, `cin` will not be able to extract the data from the stream\n",
    "    - `cin` will enter into a fail state\n",
    "    - won't be able to extract data anymore\n",
    "- Note: Jupyter Notebook may crash or simply not work as expected when input fails\n",
    "    - if the Jupyter crashes or stops working, your must restart the Kernel: `Kernel -> Restart`"
   ]
  },
  {
   "cell_type": "code",
   "execution_count": 7,
   "metadata": {},
   "outputs": [],
   "source": [
    "// variable to store whole number\n",
    "int number;"
   ]
  },
  {
   "cell_type": "code",
   "execution_count": 6,
   "metadata": {},
   "outputs": [
    {
     "name": "stdout",
     "output_type": "stream",
     "text": [
      "Enter a number: dsf\n",
      "You entered 0"
     ]
    },
    {
     "data": {
      "text/plain": [
       "@0x1102e0558"
      ]
     },
     "execution_count": 6,
     "metadata": {},
     "output_type": "execute_result"
    }
   ],
   "source": [
    "cout << \"Enter a number: \";\n",
    "cin >> number;\n",
    "cout << \"You entered \" << number;\n",
    "// Play with it:\n",
    "// try entering an integer then whole number and characters then characters and number, etc."
   ]
  },
  {
   "cell_type": "markdown",
   "metadata": {},
   "source": [
    "### Inputting string data\n",
    "- we can read string data in two ways depending on if the string has a space (phrase) or not (word)\n",
    "- string without space or single word can be extracted using `>>` stream extraction operator\n",
    "- a single string data or line with spaces must be extracted using `getline( )` function\n",
    "- reading syntax:\n",
    "\n",
    "    ```cpp\n",
    "    getline(cin, strVar); // reading a line from std input and storing into strVar\n",
    "    ```\n",
    "    \n",
    "- `getline()` reads the entire line including whitespaces including the `\\n` newline\n",
    "    - newline is extracted from the input stream and discarded"
   ]
  },
  {
   "cell_type": "code",
   "execution_count": 17,
   "metadata": {},
   "outputs": [],
   "source": [
    "string player_name;"
   ]
  },
  {
   "cell_type": "code",
   "execution_count": 18,
   "metadata": {},
   "outputs": [
    {
     "name": "stdout",
     "output_type": "stream",
     "text": [
      "Enter your first name: \n",
      "John Smith\n",
      "Hello there, John\n"
     ]
    },
    {
     "data": {
      "text/plain": [
       "@0x107733ec0"
      ]
     },
     "execution_count": 18,
     "metadata": {},
     "output_type": "execute_result"
    }
   ],
   "source": [
    "cout << \"Enter your first name: \";\n",
    "cin >> player_name;\n",
    "cout << \"Hello there, \" << player_name << endl;\n",
    "// run it wih just firstname and then with fullname; notice the value of player_name"
   ]
  },
  {
   "cell_type": "code",
   "execution_count": 19,
   "metadata": {},
   "outputs": [
    {
     "name": "stdout",
     "output_type": "stream",
     "text": [
      "Enter your full name: John Smith\n",
      "Hello there, John Smith\n"
     ]
    }
   ],
   "source": [
    "// string with spaces\n",
    "cout << \"Enter your full name: \";\n",
    "getline(cin, player_name);\n",
    "cout << \"Hello there, \" << player_name << endl;"
   ]
  },
  {
   "cell_type": "markdown",
   "metadata": {},
   "source": [
    "### Note\n",
    "- getline( ) reads, discards and stops at newline character (`\\n`)\n",
    "- `>>` stops before the trailing newline character leaving it in the input stream\n",
    "- must explictly read and discard newline character if getline is used after `>>`\n",
    "- use **ws** whitespace manipulator\n",
    "    - ws operator extracts as many whitespace characters as possible from the current position in the input stream\n",
    "    - extraction stops as soon as a non-whitespace character is found\n",
    "    ```cpp\n",
    "    cin >> number >> ws;\n",
    "    ```\n",
    "    - reads and discards whitespace(s) including `\\n` after number value in input stream\n",
    "    \n",
    "### demo program\n",
    "- program that demonstrates the above caveat is found here [demos/stdio/demo1/main.cpp](demos/stdio/demo1/main.cpp)"
   ]
  },
  {
   "cell_type": "markdown",
   "metadata": {},
   "source": [
    "## Labs\n",
    "\n",
    "1. Standard IO Lab \n",
    "    - write a C++ program that produces the following output on console\n",
    "    - use the partial solution provided in [labs/stdio/main.cpp](labs/stdio/main.cpp)\n",
    "    - observe and note how the special symbols such as single quote, double quotes and black slashes\n",
    "    - run the program as it is using the provided make file in the stdio folder\n",
    "    - complete the rest of the ASCII Art by fixing all the FIXMEs\n",
    "    - write #FIXED next to each FIXME\n",
    "    \n",
    "    ```\n",
    "        |\\_/|       *******************************     (\\_/)\n",
    "       / @ @ \\      *      ASCII Art              *    (='.'=)\n",
    "      ( > 0 < )     *      Author: <Your Name>    *  ( \" )_( \" )\n",
    "        >>x<<       *      CS Foundation Course   *\n",
    "        / O \\       *******************************\n",
    "   ```"
   ]
  },
  {
   "cell_type": "markdown",
   "metadata": {},
   "source": [
    "## Exercises\n",
    "1. Write a C++ program including algorithm steps that calculates area and perimeter of a circle.\n",
    "2. Write a C++ program including algorithm steps that calculates Body Mass Index (BMI) of a person.\n",
    "    - More information on BMI - https://www.nhlbi.nih.gov/health/educational/lose_wt/BMI/bmicalc.htm\n",
    "    - Formula [here]( https://www.cdc.gov/healthyweight/assessing/bmi/childrens_bmi/childrens_bmi_formula.html#:~:text=The%20formula%20for%20BMI%20is,to%20convert%20this%20to%20meters.&text=When%20using%20English%20measurements%2C%20pounds%20should%20be%20divided%20by%20inches%20squared).\n",
    "    - a sample solution is provided here [exercises/stdio/BMI/main.cpp](exercises/stdio/BMI/main.cpp)\n",
    "3. Write a C++ program including algorithm steps that calculates area and perimeter of a triangle given three sides.\n",
    "    - Hint: use Heron's formula to find area with three sides.\n",
    "4. Write a C++ program that converts hours into seconds.\n",
    "    - e.g. given 2 hours, program should print 7200 as answer.\n",
    "5. Write a C++ program that converts seconds into hours, minutes and seconds.\n",
    "    - e.g. given 3600 seconds, program should print 1 hour, 0 minute and 0 second.\n",
    "    - e.g. given 3661 seconds, program should print 1 hour, 1 minute and 1 second.\n",
    "    - Hint: use series of division and module operators\n",
    "6. Convert your full name into binary code using Jupyter Notebook.\n",
    "    \n",
    "## Kattis Problems     \n",
    " \n",
    "1. Solving for Carrots - https://open.kattis.com/problems/carrots\n",
    "    - a simple standard input/output problem; just print the second number in first line\n",
    "    - Hint: simply print P\n",
    "    - see sample solution in [demos/stdio/carrots](demos/stdio/carrots) folder\n",
    "      \n",
    "    \n",
    "2. Echo Echo Echo - https://open.kattis.com/problems/echoechoecho\n",
    "    - Hint: read the word; print the word three times\n",
    "    \n",
    "    \n",
    "3. The Last Problem - https://open.kattis.com/problems/thelastproblem\n",
    "    - Hint: read the name (may have spaces in between) and print the name as stated\n",
    "    \n",
    "## Testing Kattis Provided Samples\n",
    "- see [Kattis Notebook](Kattis.ipynb)"
   ]
  },
  {
   "cell_type": "markdown",
   "metadata": {},
   "source": [
    "## Summary\n",
    "- this chapter covered reading data from common input stream (standard input)\n",
    "- this chapter covered writing data to common output stream (standard output)\n",
    "- covered escape character, sequences and their usage\n",
    "- we also learned about composing more meaningful programs with two examples\n",
    "- exercises and problems with sample solutions"
   ]
  },
  {
   "cell_type": "code",
   "execution_count": null,
   "metadata": {},
   "outputs": [],
   "source": []
  }
 ],
 "metadata": {
  "kernelspec": {
   "display_name": "C++14",
   "language": "C++14",
   "name": "xcpp14"
  },
  "language_info": {
   "codemirror_mode": "text/x-c++src",
   "file_extension": ".cpp",
   "mimetype": "text/x-c++src",
   "name": "c++",
   "version": "14"
  }
 },
 "nbformat": 4,
 "nbformat_minor": 4
}

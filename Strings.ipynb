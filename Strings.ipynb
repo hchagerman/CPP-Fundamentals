{
 "cells": [
  {
   "cell_type": "markdown",
   "metadata": {},
   "source": [
    "# C++ Strings\n",
    "\n",
    "## Topics\n",
    "- string library\n",
    "- string objects and methods\n",
    "- string operators\n",
    "- slicing string\n",
    "- string traversal\n",
    "- comparing and updating strings\n",
    "\n",
    "## String review\n",
    "- we've used string library to declare string variables in earlier chapters\n",
    "- we've seen few examples of string applications over the chapters\n",
    "- two different ways to declare and use string/text data in C++\n",
    "\n",
    "### C-string\n",
    "- uses array concept; which we don't know yet!\n",
    "- C array may not be easy to work with, though important concept to master\n",
    "\n",
    "### C-string example\n",
    "- no need to include any library to use C-string"
   ]
  },
  {
   "cell_type": "code",
   "execution_count": 1,
   "metadata": {},
   "outputs": [],
   "source": [
    "#include <iostream>\n",
    "\n",
    "using namespace std;"
   ]
  },
  {
   "cell_type": "code",
   "execution_count": 2,
   "metadata": {},
   "outputs": [],
   "source": [
    "// C way to declare string - painful to work with!\n",
    "// array of characters\n",
    "char text[] = \"this is a c-string\";"
   ]
  },
  {
   "cell_type": "code",
   "execution_count": 3,
   "metadata": {},
   "outputs": [
    {
     "name": "stdout",
     "output_type": "stream",
     "text": [
      "text = this is a c-string\n"
     ]
    }
   ],
   "source": [
    "cout << \"text = \" << text << endl;"
   ]
  },
  {
   "cell_type": "markdown",
   "metadata": {},
   "source": [
    "- `cin` and other operations on C-strings are not easier without knowing array and pointers well\n",
    "\n",
    "### C++ string objects\n",
    "\n",
    "- `std::string` is a `std::basic_string<char>` template type defined in **string** header\n",
    "- more: [https://en.cppreference.com/w/cpp/string/basic_string](https://en.cppreference.com/w/cpp/string/basic_string)\n",
    "\n",
    "- string is an advanced type of container with many member variables and member functions\n",
    "    - variables of advanced type are called objects\n",
    "    - objects may provide a number of member functions called methods\n",
    "    - one can define any user-defined type using **struct** or **class** that we'll learn in later chapters"
   ]
  },
  {
   "cell_type": "code",
   "execution_count": 2,
   "metadata": {},
   "outputs": [],
   "source": [
    "// C++ string\n",
    "#include <iostream>\n",
    "#include <string>\n",
    "\n",
    "using namespace std;\n",
    "\n",
    "// declare a string variable/object\n",
    "string first;"
   ]
  },
  {
   "cell_type": "code",
   "execution_count": 5,
   "metadata": {},
   "outputs": [],
   "source": [
    "// assigning string value to string object\n",
    "first = \"Hello, \";"
   ]
  },
  {
   "cell_type": "code",
   "execution_count": 6,
   "metadata": {},
   "outputs": [],
   "source": [
    "// declare and initialize string object\n",
    "string second = \"World\";"
   ]
  },
  {
   "cell_type": "code",
   "execution_count": 7,
   "metadata": {},
   "outputs": [],
   "source": [
    "// concatenation\n",
    "string whole = first + \" \" + second;"
   ]
  },
  {
   "cell_type": "markdown",
   "metadata": {},
   "source": [
    "## Inputting and Outputting strings\n",
    "- printing string objects and literal to standard output/console/monitor\n",
    "- use `<iostream>` and `std namespace`\n",
    "- syntax:\n",
    "```cpp\n",
    "    cout << strObject << \"string literal\" << ...;\n",
    "```\n",
    "- inputting string data from standard input/keyboard\n",
    "- syntax:\n",
    "```cpp\n",
    "    cin >> strVar >> strVar2 >> ...; // read individual word\n",
    "    getline(cin, strVar); // read a single line with spaces\n",
    "```"
   ]
  },
  {
   "cell_type": "code",
   "execution_count": 4,
   "metadata": {},
   "outputs": [
    {
     "name": "stdout",
     "output_type": "stream",
     "text": [
      "Hello, World!\n"
     ]
    }
   ],
   "source": [
    "// output string literals and objects\n",
    "#include <iostream>\n",
    "using namespace std;\n",
    "\n",
    "cout << first << second << \"!\" << endl;"
   ]
  },
  {
   "cell_type": "code",
   "execution_count": 8,
   "metadata": {},
   "outputs": [
    {
     "name": "stdout",
     "output_type": "stream",
     "text": [
      "Hello,  World\n"
     ]
    }
   ],
   "source": [
    "cout << whole << endl;"
   ]
  },
  {
   "cell_type": "code",
   "execution_count": 9,
   "metadata": {},
   "outputs": [
    {
     "name": "stdout",
     "output_type": "stream",
     "text": [
      "Enter your first name and last name: John Smith\n",
      "Hello, John Smith!"
     ]
    }
   ],
   "source": [
    "cout << \"Enter your first name and last name: \";\n",
    "cin >> first >> second;\n",
    "cout << \"Hello, \" << first << \" \" << second << \"!\";"
   ]
  },
  {
   "cell_type": "code",
   "execution_count": 10,
   "metadata": {},
   "outputs": [
    {
     "name": "stdout",
     "output_type": "stream",
     "text": [
      "Enter your full name: Jake Smith\n",
      "Hello, Jake Smith!\n"
     ]
    }
   ],
   "source": [
    "cout << \"Enter your full name: \";\n",
    "getline(cin, whole);\n",
    "cout << \"Hello, \" << whole << \"!\" << endl;"
   ]
  },
  {
   "cell_type": "markdown",
   "metadata": {},
   "source": [
    "## C++ strings and variables\n",
    "- this chapter goes more in depth on string data\n",
    "- string variable is a container for a sequence of 0 or more characters\n",
    "    - characters are anything from set of:\n",
    "        - symbols (%, &, \\$, etc.)\n",
    "        - alphabets (a, B, x, etc.)\n",
    "        - digits (1, 9, 0, etc.)\n",
    "- in C++, string is represented using a pair of double quotes (\"\")   \n",
    "- string is made up of ordered sequence of character elements as depicted in the following figure\n",
    "- each character has an internal indexing or placing we can refer to it by its index\n",
    "\n",
    "![](resources/string_rep.png)"
   ]
  },
  {
   "cell_type": "markdown",
   "metadata": {},
   "source": [
    "## String object members\n",
    "\n",
    "- we use `.` (dot) member access operator to access object's members\n",
    "- we'll go over some commonly used methods with examples in this notebook\n",
    "- syntax to access members of objects:\n",
    "\n",
    "```cpp\n",
    "    object_name.member_variable\n",
    "    object_name.member_function()\n",
    "```"
   ]
  },
  {
   "cell_type": "markdown",
   "metadata": {},
   "source": [
    "## Element access\n",
    "- string objects consists of sequence of characters called elements\n",
    "- each character or element can be extracted or updated in place\n",
    "- the following member functions/methods let's you access element:\n",
    "    - **at(index)** - access the specified character at index with bounds checking\n",
    "    - **operator[index]** - access the specified character at index without bounds checking\n",
    "    - **front( )** - access the first character\n",
    "    - **back( )** - access the last character\n",
    "- index must be a valid index between **0 to length-1**"
   ]
  },
  {
   "cell_type": "code",
   "execution_count": 3,
   "metadata": {},
   "outputs": [],
   "source": [
    "string fruit = \"banana\";"
   ]
  },
  {
   "cell_type": "code",
   "execution_count": 4,
   "metadata": {},
   "outputs": [],
   "source": [
    "char first_letter;"
   ]
  },
  {
   "cell_type": "code",
   "execution_count": 5,
   "metadata": {},
   "outputs": [],
   "source": [
    "// access the first character at index 0\n",
    "first_letter = fruit.at(0);"
   ]
  },
  {
   "cell_type": "code",
   "execution_count": 6,
   "metadata": {},
   "outputs": [
    {
     "name": "stdout",
     "output_type": "stream",
     "text": [
      "first letter of banana is b = b"
     ]
    }
   ],
   "source": [
    "cout << \"first letter of \" << fruit << \" is \" << first_letter << \" = \" << fruit[0];"
   ]
  },
  {
   "cell_type": "code",
   "execution_count": 7,
   "metadata": {},
   "outputs": [
    {
     "name": "stdout",
     "output_type": "stream",
     "text": [
      "second character = a = a"
     ]
    }
   ],
   "source": [
    "//second character\n",
    "cout << \"second character = \" << fruit[1] << \" = \" << fruit.at(1);"
   ]
  },
  {
   "cell_type": "code",
   "execution_count": null,
   "metadata": {},
   "outputs": [],
   "source": [
    "// there are 6 characters in banana\n",
    "cout << \"last character = \" << fruit[6];\n",
    "// [] - doesn't check the bound; output is undetermined"
   ]
  },
  {
   "cell_type": "code",
   "execution_count": 9,
   "metadata": {},
   "outputs": [
    {
     "name": "stdout",
     "output_type": "stream",
     "text": [
      "last character = "
     ]
    },
    {
     "ename": "Error",
     "evalue": "",
     "output_type": "error",
     "traceback": [
      "Error: "
     ]
    }
   ],
   "source": [
    "// at() - checks the bounds; throws runtime-error\n",
    "cout << \"last character = \" << fruit.at(6);"
   ]
  },
  {
   "cell_type": "code",
   "execution_count": 10,
   "metadata": {},
   "outputs": [
    {
     "name": "stdout",
     "output_type": "stream",
     "text": [
      "front = b and back = a"
     ]
    }
   ],
   "source": [
    "cout << \"front = \" << fruit.front() << \" and back = \" << fruit.back();"
   ]
  },
  {
   "cell_type": "markdown",
   "metadata": {},
   "source": [
    "### Element update\n",
    "- string is a mutable type that can be changed in place!\n",
    "- using `[ index ]` - element access operator, we can assign new character at some index\n",
    "    - index must be a valid value between **[0 ... length-1]**"
   ]
  },
  {
   "cell_type": "code",
   "execution_count": 43,
   "metadata": {},
   "outputs": [],
   "source": [
    "// capitalize the first character by replacing 'b' with 'B'\n",
    "fruit[0] = 'B';"
   ]
  },
  {
   "cell_type": "code",
   "execution_count": 44,
   "metadata": {},
   "outputs": [
    {
     "name": "stdout",
     "output_type": "stream",
     "text": [
      "I love, Banana!"
     ]
    }
   ],
   "source": [
    "cout << \"I love, \" << fruit << \"!\";"
   ]
  },
  {
   "cell_type": "markdown",
   "metadata": {},
   "source": [
    "## Capacity\n",
    "- knowing the length of a string (numbers of characters) helps with many operations\n",
    "- the following methods provide capacity of string objects:\n",
    "    - **length()** or **size()** - returns the number of characters\n",
    "    - **empty()** - checks whether the string is empty"
   ]
  },
  {
   "cell_type": "code",
   "execution_count": 45,
   "metadata": {},
   "outputs": [
    {
     "name": "stdout",
     "output_type": "stream",
     "text": [
      "length of Banana = 6 = 6"
     ]
    }
   ],
   "source": [
    "cout << \"length of \" << fruit << \" = \" << fruit.size() << \" = \" << fruit.length();"
   ]
  },
  {
   "cell_type": "code",
   "execution_count": 48,
   "metadata": {},
   "outputs": [
    {
     "name": "stdout",
     "output_type": "stream",
     "text": [
      "is fruit empty? false"
     ]
    }
   ],
   "source": [
    "cout << \"is fruit empty? \" << boolalpha << fruit.empty();"
   ]
  },
  {
   "cell_type": "markdown",
   "metadata": {},
   "source": [
    "## Traversal\n",
    "- traversing a string is a common task where you access every character from first to the last\n",
    "- there are several ways to traverse a string"
   ]
  },
  {
   "cell_type": "code",
   "execution_count": 96,
   "metadata": {},
   "outputs": [
    {
     "name": "stdout",
     "output_type": "stream",
     "text": [
      "fruit[0] = B\n",
      "fruit[1] = a\n",
      "fruit[2] = n\n",
      "fruit[3] = a\n",
      "fruit[4] = n\n",
      "fruit[5] = a\n"
     ]
    }
   ],
   "source": [
    "// using capacity to traverse/iterate over a string\n",
    "for(int i=0; i<fruit.length(); i++) {\n",
    "    cout << \"fruit[\" << i << \"] = \" << fruit[i] << endl;\n",
    "}"
   ]
  },
  {
   "cell_type": "code",
   "execution_count": 95,
   "metadata": {},
   "outputs": [
    {
     "name": "stdout",
     "output_type": "stream",
     "text": [
      "B -> B\n",
      "a -> A\n",
      "n -> N\n",
      "a -> A\n",
      "n -> N\n",
      "a -> A\n"
     ]
    }
   ],
   "source": [
    "#include <cctype>\n",
    "\n",
    "for(auto ch: fruit)\n",
    "    cout << ch << \" -> \" << char(toupper(ch)) << endl;"
   ]
  },
  {
   "cell_type": "markdown",
   "metadata": {},
   "source": [
    "## Iterators\n",
    "- iterators are special pointers that let you iterate over or traverse a string\n",
    "- the following methods return an iterator:\n",
    "    - **begin( )** - returns a forward iterator to the beginning\n",
    "    - **end( )** - returns a forward iterator to the end\n",
    "    - **rbegin( )** - returns a reverse iterator to the beginning\n",
    "    - **rend( )** - returns a reverse iterator to the end\n",
    "- the following figure demonstrates begin() and end() iterators\n",
    "\n",
    "![](resources/range-begin-end.png)\n",
    "\n",
    "- the following figure demonstrates rbegin() and rend() iterators\n",
    "\n",
    "![](resources/range-rbegin-rend.png)\n"
   ]
  },
  {
   "cell_type": "code",
   "execution_count": 20,
   "metadata": {},
   "outputs": [],
   "source": [
    "// automatically determine the type of iter which is a forward iterator\n",
    "auto iter = fruit.begin();"
   ]
  },
  {
   "cell_type": "code",
   "execution_count": 21,
   "metadata": {},
   "outputs": [
    {
     "name": "stdout",
     "output_type": "stream",
     "text": [
      "B"
     ]
    }
   ],
   "source": [
    "// what is iter pointing to?\n",
    "cout << *iter;"
   ]
  },
  {
   "cell_type": "code",
   "execution_count": 22,
   "metadata": {},
   "outputs": [],
   "source": [
    "// increment iterator by one element\n",
    "iter += 1;"
   ]
  },
  {
   "cell_type": "code",
   "execution_count": 23,
   "metadata": {},
   "outputs": [
    {
     "name": "stdout",
     "output_type": "stream",
     "text": [
      "a"
     ]
    }
   ],
   "source": [
    "cout << *iter;"
   ]
  },
  {
   "cell_type": "code",
   "execution_count": 24,
   "metadata": {},
   "outputs": [
    {
     "name": "stdout",
     "output_type": "stream",
     "text": [
      "B a n a n a "
     ]
    }
   ],
   "source": [
    "// forward iterator\n",
    "for(auto it=fruit.begin(); it != fruit.end(); it += 1) {\n",
    "    cout << *it << \" \";\n",
    "}"
   ]
  },
  {
   "cell_type": "code",
   "execution_count": 25,
   "metadata": {},
   "outputs": [
    {
     "name": "stdout",
     "output_type": "stream",
     "text": [
      "a n a n a B "
     ]
    }
   ],
   "source": [
    "// reverse iterator\n",
    "for(auto it=fruit.rbegin(); it!=fruit.rend(); it++) {\n",
    "    cout << *it << \" \";\n",
    "}"
   ]
  },
  {
   "cell_type": "markdown",
   "metadata": {},
   "source": [
    "## Operations\n",
    "- string objects can be concatenated with `+` operator\n",
    "- string objects also have a bunch of methods to perform various common operations on string data\n",
    "- the following are some commonly used operations:"
   ]
  },
  {
   "cell_type": "markdown",
   "metadata": {},
   "source": [
    "### clear\n",
    "- clears the contents making string object empty!"
   ]
  },
  {
   "cell_type": "code",
   "execution_count": 3,
   "metadata": {},
   "outputs": [],
   "source": [
    "string strData = \"Pirates of the Carribean!\";"
   ]
  },
  {
   "cell_type": "code",
   "execution_count": 4,
   "metadata": {},
   "outputs": [],
   "source": [
    "// clear the content\n",
    "strData.clear();"
   ]
  },
  {
   "cell_type": "code",
   "execution_count": 5,
   "metadata": {},
   "outputs": [
    {
     "name": "stdout",
     "output_type": "stream",
     "text": [
      "strData = "
     ]
    }
   ],
   "source": [
    "cout << \"strData = \" << strData;"
   ]
  },
  {
   "cell_type": "markdown",
   "metadata": {},
   "source": [
    "### insert\n",
    "- insert a character or string at a given index\n",
    "- **insert(index, count, char)** insert `count` `char`acters at some `index`\n",
    "- **insert(index, string)** - insert some `string` at `index`"
   ]
  },
  {
   "cell_type": "code",
   "execution_count": 5,
   "metadata": {},
   "outputs": [],
   "source": [
    "strData = \"Pirates of the Carribean!\";"
   ]
  },
  {
   "cell_type": "code",
   "execution_count": 7,
   "metadata": {},
   "outputs": [],
   "source": [
    "// insert 1 $ character at index 0\n",
    "strData.insert(0, 1, '$');"
   ]
  },
  {
   "cell_type": "code",
   "execution_count": 8,
   "metadata": {},
   "outputs": [
    {
     "name": "stdout",
     "output_type": "stream",
     "text": [
      "strData = $Pirates of the Carribean!"
     ]
    }
   ],
   "source": [
    "cout << \"strData = \" << strData;"
   ]
  },
  {
   "cell_type": "code",
   "execution_count": 10,
   "metadata": {},
   "outputs": [],
   "source": [
    "// insert 5 astersisks at index 5\n",
    "strData.insert(5, 5, '*');"
   ]
  },
  {
   "cell_type": "code",
   "execution_count": 11,
   "metadata": {},
   "outputs": [
    {
     "name": "stdout",
     "output_type": "stream",
     "text": [
      "strData = $Pira*****tes of the Carribean!"
     ]
    }
   ],
   "source": [
    "cout << \"strData = \" << strData;"
   ]
  },
  {
   "cell_type": "code",
   "execution_count": 12,
   "metadata": {},
   "outputs": [],
   "source": [
    "strData.insert(0, \"The \");"
   ]
  },
  {
   "cell_type": "code",
   "execution_count": 13,
   "metadata": {},
   "outputs": [
    {
     "name": "stdout",
     "output_type": "stream",
     "text": [
      "strData = The $Pira*****tes of the Carribean!"
     ]
    }
   ],
   "source": [
    "cout << \"strData = \" << strData;"
   ]
  },
  {
   "cell_type": "markdown",
   "metadata": {},
   "source": [
    "### erase\n",
    "**erase(index, count)** - erases `count` characters starting from `index`"
   ]
  },
  {
   "cell_type": "code",
   "execution_count": 14,
   "metadata": {},
   "outputs": [],
   "source": [
    "// erase all 5 asterisks starting at index 9\n",
    "strData.erase(9, 5);"
   ]
  },
  {
   "cell_type": "code",
   "execution_count": 15,
   "metadata": {},
   "outputs": [
    {
     "data": {
      "text/plain": [
       "\"The $Pirates of the Carribean!\""
      ]
     },
     "execution_count": 15,
     "metadata": {},
     "output_type": "execute_result"
    }
   ],
   "source": [
    "strData"
   ]
  },
  {
   "cell_type": "markdown",
   "metadata": {},
   "source": [
    "### append\n",
    "- the following methods append characters to the end of string objects\n",
    "    - **push_back(ch)** - appends a character to the end\n",
    "    - **append(str)** - appends string to the end\n",
    "    - **operator+=** - appends string to the end"
   ]
  },
  {
   "cell_type": "code",
   "execution_count": 3,
   "metadata": {},
   "outputs": [],
   "source": [
    "string some_str;"
   ]
  },
  {
   "cell_type": "code",
   "execution_count": 4,
   "metadata": {},
   "outputs": [],
   "source": [
    "some_str = \"\";"
   ]
  },
  {
   "cell_type": "code",
   "execution_count": 5,
   "metadata": {},
   "outputs": [],
   "source": [
    "some_str.push_back('1');\n",
    "some_str.append(\"2\");\n",
    "some_str += \"3456\";"
   ]
  },
  {
   "cell_type": "code",
   "execution_count": 6,
   "metadata": {},
   "outputs": [
    {
     "data": {
      "text/plain": [
       "\"123456\""
      ]
     },
     "execution_count": 6,
     "metadata": {},
     "output_type": "execute_result"
    }
   ],
   "source": [
    "some_str"
   ]
  },
  {
   "cell_type": "markdown",
   "metadata": {},
   "source": [
    "## Search\n",
    "- searching for a substring is often a common task performed with strings data\n",
    "- also refered to as \"finding a needle in the haystack\"\n",
    "- `find` and `rfind` methods help in finding a substring in some string\n",
    "\n",
    "### find( str, [pos] )\n",
    "- finds the first `str` in the string starting from `pos`\n",
    "    - if no `pos` is provided, first index, 0 is used\n",
    "- if `str` is found, returns begining position/index of `str`\n",
    "- if str is not found, returns `npos` constant defined in `string::` namespace\n",
    "    - `npos` is the largest possible value for **size_t**; system dependent"
   ]
  },
  {
   "cell_type": "code",
   "execution_count": 7,
   "metadata": {},
   "outputs": [
    {
     "name": "stdout",
     "output_type": "stream",
     "text": [
      "18446744073709551615"
     ]
    }
   ],
   "source": [
    "// what is npos?\n",
    "cout << string::npos;"
   ]
  },
  {
   "cell_type": "code",
   "execution_count": 8,
   "metadata": {},
   "outputs": [],
   "source": [
    "string haystack, search_str;\n",
    "size_t found;"
   ]
  },
  {
   "cell_type": "code",
   "execution_count": 9,
   "metadata": {},
   "outputs": [],
   "source": [
    "haystack = \"There are maanny needles or just a few needle in the haystack!\";"
   ]
  },
  {
   "cell_type": "code",
   "execution_count": 10,
   "metadata": {},
   "outputs": [
    {
     "data": {
      "text/plain": [
       "\"needle\""
      ]
     },
     "execution_count": 10,
     "metadata": {},
     "output_type": "execute_result"
    }
   ],
   "source": [
    "search_str = \"needle\"; // TODO: change this to \"Needle\" and find"
   ]
  },
  {
   "cell_type": "code",
   "execution_count": 11,
   "metadata": {},
   "outputs": [],
   "source": [
    "found = haystack.find(search_str);"
   ]
  },
  {
   "cell_type": "code",
   "execution_count": 12,
   "metadata": {},
   "outputs": [
    {
     "name": "stdout",
     "output_type": "stream",
     "text": [
      "17"
     ]
    }
   ],
   "source": [
    "cout << found;"
   ]
  },
  {
   "cell_type": "code",
   "execution_count": 13,
   "metadata": {},
   "outputs": [
    {
     "name": "stdout",
     "output_type": "stream",
     "text": [
      "needle found at: 17\n"
     ]
    }
   ],
   "source": [
    "// check if substring is found or not\n",
    "if (found == string::npos)\n",
    "    cout << search_str << \" NOT found!\\n\";\n",
    "else\n",
    "    cout << search_str << \" found at: \" << found << endl;"
   ]
  },
  {
   "cell_type": "markdown",
   "metadata": {},
   "source": [
    "### rfind( str, [pos] )\n",
    "- search the first substring in backward direction starting from `pos`\n",
    "    - if no `pos` is provided, last index is used"
   ]
  },
  {
   "cell_type": "code",
   "execution_count": 14,
   "metadata": {},
   "outputs": [
    {
     "name": "stdout",
     "output_type": "stream",
     "text": [
      "needle found at: 39\n"
     ]
    }
   ],
   "source": [
    "found = haystack.rfind(search_str);\n",
    "// check if substring is found or not\n",
    "if (found == string::npos)\n",
    "    cout << search_str << \" NOT found!\\n\";\n",
    "else\n",
    "    cout << search_str << \" found at: \" << found << endl;"
   ]
  },
  {
   "cell_type": "markdown",
   "metadata": {},
   "source": [
    "### Replace\n",
    "- replaces the part of string indicated by `index` with a new string\n",
    "- **replace(index, count, newStr)**\n",
    "    - replace some string from `index` to `index+count` by `newStr`"
   ]
  },
  {
   "cell_type": "code",
   "execution_count": 15,
   "metadata": {},
   "outputs": [],
   "source": [
    "some_str = \"12345abc\";"
   ]
  },
  {
   "cell_type": "code",
   "execution_count": 16,
   "metadata": {},
   "outputs": [],
   "source": [
    "some_str.replace(0, 1, \"A\");"
   ]
  },
  {
   "cell_type": "code",
   "execution_count": 17,
   "metadata": {},
   "outputs": [
    {
     "data": {
      "text/plain": [
       "\"A2345abc\""
      ]
     },
     "execution_count": 17,
     "metadata": {},
     "output_type": "execute_result"
    }
   ],
   "source": [
    "some_str"
   ]
  },
  {
   "cell_type": "code",
   "execution_count": 18,
   "metadata": {},
   "outputs": [],
   "source": [
    "some_str.replace(1, 5, \"B\");"
   ]
  },
  {
   "cell_type": "code",
   "execution_count": 19,
   "metadata": {},
   "outputs": [
    {
     "data": {
      "text/plain": [
       "\"ABbc\""
      ]
     },
     "execution_count": 19,
     "metadata": {},
     "output_type": "execute_result"
    }
   ],
   "source": [
    "some_str"
   ]
  },
  {
   "cell_type": "code",
   "execution_count": 20,
   "metadata": {},
   "outputs": [],
   "source": [
    "// insert with replacing 0 character\n",
    "some_str.replace(1, 0, \"WXYZ\");"
   ]
  },
  {
   "cell_type": "code",
   "execution_count": 21,
   "metadata": {},
   "outputs": [
    {
     "data": {
      "text/plain": [
       "\"AWXYZBbc\""
      ]
     },
     "execution_count": 21,
     "metadata": {},
     "output_type": "execute_result"
    }
   ],
   "source": [
    "some_str"
   ]
  },
  {
   "cell_type": "markdown",
   "metadata": {},
   "source": [
    "### Search and replace application\n",
    "- a commmon feature provided by text editors"
   ]
  },
  {
   "cell_type": "code",
   "execution_count": 23,
   "metadata": {},
   "outputs": [
    {
     "data": {
      "text/plain": [
       "\"There are maanny needles or just a few needle in the haystack!\""
      ]
     },
     "execution_count": 23,
     "metadata": {},
     "output_type": "execute_result"
    }
   ],
   "source": [
    "// let's see the contents of haystack\n",
    "haystack"
   ]
  },
  {
   "cell_type": "code",
   "execution_count": 28,
   "metadata": {},
   "outputs": [],
   "source": [
    "// let's search misspelled word \"maanny\" and replace with \"many\"\n",
    "size_t wordIndex = haystack.find(\"maanny\")"
   ]
  },
  {
   "cell_type": "code",
   "execution_count": 29,
   "metadata": {},
   "outputs": [
    {
     "data": {
      "text/plain": [
       "10"
      ]
     },
     "execution_count": 29,
     "metadata": {},
     "output_type": "execute_result"
    }
   ],
   "source": [
    "wordIndex"
   ]
  },
  {
   "cell_type": "code",
   "execution_count": 31,
   "metadata": {},
   "outputs": [
    {
     "data": {
      "text/plain": [
       "\"There are many needles or just a few needle in the haystack!\""
      ]
     },
     "execution_count": 31,
     "metadata": {},
     "output_type": "execute_result"
    }
   ],
   "source": [
    "haystack.replace(wordIndex, string(\"maanny\").length(), \"many\")"
   ]
  },
  {
   "cell_type": "code",
   "execution_count": 32,
   "metadata": {},
   "outputs": [
    {
     "data": {
      "text/plain": [
       "\"There are many poodles or just a few needle in the haystack!\""
      ]
     },
     "execution_count": 32,
     "metadata": {},
     "output_type": "execute_result"
    }
   ],
   "source": [
    "// replace the first needle with poodle\n",
    "haystack.replace(haystack.find(\"needle\"), 6, \"poodle\")"
   ]
  },
  {
   "cell_type": "markdown",
   "metadata": {},
   "source": [
    "## Sub string\n",
    "- **substr(pos, count)** returns a substring from `pos` index to `pos+count` index\n",
    "    - if count is not provided, returns to the end or **npos**\n",
    "    - `npos` is a constant value defined in `string::` namespace"
   ]
  },
  {
   "cell_type": "code",
   "execution_count": 64,
   "metadata": {},
   "outputs": [
    {
     "name": "stdout",
     "output_type": "stream",
     "text": [
      "WXYZB"
     ]
    }
   ],
   "source": [
    "// return from index 1 to the end or npos\n",
    "cout << some_str.substr(1);"
   ]
  },
  {
   "cell_type": "code",
   "execution_count": 74,
   "metadata": {},
   "outputs": [
    {
     "name": "stdout",
     "output_type": "stream",
     "text": [
      "WXYZ"
     ]
    }
   ],
   "source": [
    "// return 4 characters starting from 1\n",
    "cout << some_str.substr(1, 4);"
   ]
  },
  {
   "cell_type": "markdown",
   "metadata": {},
   "source": [
    "## String comparisons\n",
    "- two string values can be compared using comparison operators\n",
    "- all comparison operators (==, !=, <, <=, >, >=) are overloaded to work with string types\n",
    "- strings are compared character by character using ASCII value"
   ]
  },
  {
   "cell_type": "code",
   "execution_count": 97,
   "metadata": {},
   "outputs": [],
   "source": [
    "string a = \"apple\";"
   ]
  },
  {
   "cell_type": "code",
   "execution_count": 98,
   "metadata": {},
   "outputs": [],
   "source": [
    "string b = \"ball\";"
   ]
  },
  {
   "cell_type": "code",
   "execution_count": 104,
   "metadata": {},
   "outputs": [],
   "source": [
    "string c = \"Apple\";"
   ]
  },
  {
   "cell_type": "code",
   "execution_count": 100,
   "metadata": {},
   "outputs": [
    {
     "name": "stdout",
     "output_type": "stream",
     "text": [
      "apple is NOT equal to ball\n"
     ]
    }
   ],
   "source": [
    "// both size and values must be equal!\n",
    "if (a == b) // every character in var 'a' must equal to corresponding character in var 'b'\n",
    "    cout << a << \" equals to \" << b << endl;\n",
    "else\n",
    "    cout << a << \" is NOT equal to \" << b << endl;"
   ]
  },
  {
   "cell_type": "code",
   "execution_count": 102,
   "metadata": {},
   "outputs": [
    {
     "name": "stdout",
     "output_type": "stream",
     "text": [
      "apple comes before ball\n"
     ]
    }
   ],
   "source": [
    "if (a <= b)\n",
    "    cout << a << \" comes before \" << b << endl;\n",
    "else\n",
    "    cout << a << \" doesn't come before \" << b << endl;"
   ]
  },
  {
   "cell_type": "code",
   "execution_count": 106,
   "metadata": {},
   "outputs": [
    {
     "name": "stdout",
     "output_type": "stream",
     "text": [
      "apple doesn't come before Apple\n"
     ]
    }
   ],
   "source": [
    "if (a <= c)\n",
    "    cout << a << \" comes before \" << c << endl;\n",
    "else\n",
    "    cout << a << \" doesn't come before \" << c << endl;"
   ]
  },
  {
   "cell_type": "markdown",
   "metadata": {},
   "source": [
    "## Numeric conversions\n",
    "- strings can be converted into numeric values (integers or floating points) as appropriate\n",
    "\n",
    "### string to signed integers\n",
    "- **stoi( ), stol( ), stoll( )** - converts a string to a signed integers"
   ]
  },
  {
   "cell_type": "code",
   "execution_count": 107,
   "metadata": {},
   "outputs": [
    {
     "name": "stdout",
     "output_type": "stream",
     "text": [
      "123"
     ]
    }
   ],
   "source": [
    "cout << stoi(\"123\");"
   ]
  },
  {
   "cell_type": "code",
   "execution_count": 117,
   "metadata": {},
   "outputs": [
    {
     "name": "stdout",
     "output_type": "stream",
     "text": [
      "-454532 -45352343441 552353253"
     ]
    }
   ],
   "source": [
    "cout << stoi(\"-454532\") << \" \" << stol(\"-45352343441 asdf\") << \" \" << stoll(\"552353253 adsfasf\");"
   ]
  },
  {
   "cell_type": "markdown",
   "metadata": {},
   "source": [
    "### string to unsigned integers\n",
    "**stoul( ), stoull( )** - converts a string to unsigned integer"
   ]
  },
  {
   "cell_type": "code",
   "execution_count": 118,
   "metadata": {},
   "outputs": [
    {
     "name": "stdout",
     "output_type": "stream",
     "text": [
      "454532 18446744028357208175"
     ]
    }
   ],
   "source": [
    "cout << stoul(\"454532\") << \" \" << stoull(\"-45352343441 text\");"
   ]
  },
  {
   "cell_type": "markdown",
   "metadata": {},
   "source": [
    "### string to floaing point value\n",
    "- **stof( ), stod( ), stold( )** - converts a string to floating point value"
   ]
  },
  {
   "cell_type": "code",
   "execution_count": 119,
   "metadata": {},
   "outputs": [
    {
     "name": "stdout",
     "output_type": "stream",
     "text": [
      "-454532 -453.123 552.34"
     ]
    }
   ],
   "source": [
    "cout << stof(\"-454532\") << \" \" << stof(\"-453.123 text\") << \" \" << stof(\"552.34 adsfasf\");"
   ]
  },
  {
   "cell_type": "code",
   "execution_count": 120,
   "metadata": {},
   "outputs": [
    {
     "ename": "Standard Exception",
     "evalue": "stof: no conversion",
     "output_type": "error",
     "traceback": [
      "Standard Exception: stof: no conversion"
     ]
    }
   ],
   "source": [
    "// throws run-time error\n",
    "cout << stof(\"a5235\");"
   ]
  },
  {
   "cell_type": "code",
   "execution_count": 6,
   "metadata": {},
   "outputs": [
    {
     "name": "stdout",
     "output_type": "stream",
     "text": [
      "-454532 -453.123 552.34"
     ]
    }
   ],
   "source": [
    "cout << stod(\"-454532\") << \" \" << stod(\"-453.123 text\") << \" \" << stod(\"552.34 adsfasf\");"
   ]
  },
  {
   "cell_type": "markdown",
   "metadata": {},
   "source": [
    "### integral or floating point value to string\n",
    "- **to_string( )** converts integral or floats to string"
   ]
  },
  {
   "cell_type": "code",
   "execution_count": 123,
   "metadata": {},
   "outputs": [],
   "source": [
    "string new_str = to_string(123).append(\"456\"); "
   ]
  },
  {
   "cell_type": "code",
   "execution_count": 124,
   "metadata": {},
   "outputs": [
    {
     "data": {
      "text/plain": [
       "\"123456\""
      ]
     },
     "execution_count": 124,
     "metadata": {},
     "output_type": "execute_result"
    }
   ],
   "source": [
    "new_str"
   ]
  },
  {
   "cell_type": "code",
   "execution_count": 5,
   "metadata": {},
   "outputs": [
    {
     "name": "stdout",
     "output_type": "stream",
     "text": [
      "345.445450 some text"
     ]
    }
   ],
   "source": [
    "cout << (to_string(345.44545)).append(\" some text\");"
   ]
  },
  {
   "cell_type": "markdown",
   "metadata": {},
   "source": [
    "## Dynamic string variables\n",
    "- pointers can point to string types\n",
    "- string pointers can be used to allocate dynamic memory in heap"
   ]
  },
  {
   "cell_type": "code",
   "execution_count": 1,
   "metadata": {},
   "outputs": [],
   "source": [
    "#include <iostream>\n",
    "#include <string>\n",
    "\n",
    "using namespace std;"
   ]
  },
  {
   "cell_type": "code",
   "execution_count": 2,
   "metadata": {},
   "outputs": [],
   "source": [
    "string full_name = \"John Doe\";\n",
    "string * ptr_full_name = &full_name;"
   ]
  },
  {
   "cell_type": "code",
   "execution_count": 3,
   "metadata": {},
   "outputs": [
    {
     "name": "stdout",
     "output_type": "stream",
     "text": [
      "John Doe == John Doe"
     ]
    }
   ],
   "source": [
    "// dereference ptr_full_name\n",
    "cout << full_name << \" == \" << *ptr_full_name;"
   ]
  },
  {
   "cell_type": "code",
   "execution_count": 4,
   "metadata": {},
   "outputs": [],
   "source": [
    "// allocate dynamic memory in heap and initialize it with data\n",
    "string * ptr_var = new string(\"Jake Smith\");"
   ]
  },
  {
   "cell_type": "code",
   "execution_count": 5,
   "metadata": {},
   "outputs": [
    {
     "name": "stdout",
     "output_type": "stream",
     "text": [
      "Jake Smith"
     ]
    }
   ],
   "source": [
    "cout << *ptr_var;"
   ]
  },
  {
   "cell_type": "code",
   "execution_count": 6,
   "metadata": {},
   "outputs": [],
   "source": [
    "// assign new value to *ptr_var\n",
    "*ptr_var = \"Jane Fisher\";"
   ]
  },
  {
   "cell_type": "markdown",
   "metadata": {},
   "source": [
    "### String Application - Convert Decimal into Binary\n",
    "\n",
    "- Define a function that takes an integer and returns the binary representation of the integer.\n",
    "    - e.g. $10_{10} = 1010_2$\n",
    "\n",
    "\n",
    "- let's use algorithm defined in Chapter 02 and the partial code in Chapter 03:\n",
    "    1. repeteadly divide the decimal number by base 2 until the quotient becomes 0\n",
    "    2. collect the remainders in reverse order\n",
    "        - the first remainder becomes the last bit (least significant) in binary\n",
    "        \n",
    " "
   ]
  },
  {
   "cell_type": "code",
   "execution_count": 1,
   "metadata": {},
   "outputs": [],
   "source": [
    "#include <iostream>\n",
    "#include <string>\n",
    "\n",
    "using namespace std;"
   ]
  },
  {
   "cell_type": "code",
   "execution_count": 2,
   "metadata": {},
   "outputs": [],
   "source": [
    "string binary(unsigned int decimal) {\n",
    "    // decimal to binary conversion requires to calculate both quotient and remainder\n",
    "    const int divisor = 2; // divisor is contant name whose value can't be changed once initialized with\n",
    "    int dividend;\n",
    "    int quotient, remain;\n",
    "    string answer = \"\"; // collect remainders by prepending as a string\n",
    "    quotient = decimal;\n",
    "    \n",
    "    while(quotient != 0) { // we can programatically check when the loop should exit\n",
    "        // repeated computation\n",
    "        dividend = quotient;\n",
    "        remain = dividend%divisor;\n",
    "        quotient = dividend/divisor;\n",
    "        // print intermediate results; help us see and plan further computation\n",
    "        //cout << dividend << '/' << divisor << \" => quotient: \" << quotient << \" remainder: \" << remain << endl;\n",
    "        answer = to_string(remain) + answer; // prepend remainder to answer\n",
    "    }\n",
    "    if (answer == \"\")\n",
    "        return \"0\";\n",
    "    return answer;\n",
    "}"
   ]
  },
  {
   "cell_type": "code",
   "execution_count": 4,
   "metadata": {},
   "outputs": [
    {
     "name": "stdout",
     "output_type": "stream",
     "text": [
      "10 decimal in binary = 1010\n"
     ]
    }
   ],
   "source": [
    "cout << \"10 decimal in binary = \" << binary(10) << endl; "
   ]
  },
  {
   "cell_type": "markdown",
   "metadata": {},
   "source": [
    "### Convert Binary into Decimal\n",
    "\n",
    "- algorithm steps as provided in Data, Variable and Operations chapter:\n",
    "    1. multiply each binary digit by its place value in binary\n",
    "    2. sum all the products\n",
    "    \n",
    "    \n",
    "- Define a function that takes a binary number provided in string and converts into decimal representation\n",
    "    - E.g. $1010_2 = 10_{10}$"
   ]
  },
  {
   "cell_type": "code",
   "execution_count": 7,
   "metadata": {},
   "outputs": [],
   "source": [
    "#include <cmath>\n",
    "#include <iostream>\n",
    "#include <string>\n",
    "\n",
    "using namespace std;"
   ]
  },
  {
   "cell_type": "code",
   "execution_count": 8,
   "metadata": {},
   "outputs": [],
   "source": [
    "unsigned int decimal(string binary) {\n",
    "    int answer = 0;\n",
    "    int digitCount = binary.size();\n",
    "    for(int i=0; i<digitCount; i++) {\n",
    "        if (binary[i] == '0') continue;\n",
    "        int placeValue = digitCount-i-1;\n",
    "        answer += pow(2.0, placeValue);\n",
    "    }\n",
    "    return answer;\n",
    "}"
   ]
  },
  {
   "cell_type": "code",
   "execution_count": 9,
   "metadata": {},
   "outputs": [
    {
     "name": "stdout",
     "output_type": "stream",
     "text": [
      "1010 in binary = 10 in decimal.\n"
     ]
    }
   ],
   "source": [
    "cout << \"1010 in binary = \" << decimal(\"1010\") << \" in decimal.\" << endl;"
   ]
  },
  {
   "cell_type": "markdown",
   "metadata": {},
   "source": [
    "## Labs\n",
    "\n",
    "1. Read and solve the Kattis problem Hissing Microphone - [https://open.kattis.com/problems/hissingmicrophone](https://open.kattis.com/problems/hissingmicrophone)\n",
    "    - use partial solution provided in [labs/strings/hissingmicrophone](./labs/strings/hissingmicrophone) folder\n",
    "    - use Makefile provided to compile the file\n",
    "    - fix all the FIXMEs and write #FIXED# next to each FIXME if fixed\n",
    "    \n",
    "2. Solve the Kattis problem Simon Says - https://open.kattis.com/problems/simonsays\n",
    "    - use partial solution provided in [labs/strings/simonsays](./labs/strings/simonsays) folder\n",
    "    - fix all the FIXMEs and write #FIXED# next to each FIXME if fixed"
   ]
  },
  {
   "cell_type": "markdown",
   "metadata": {},
   "source": [
    "## Exercises\n",
    "\n",
    "1. Write a function that checks if a given string has at least one digit (0-9) in it.\n",
    "    - Write 3 automated test cases"
   ]
  },
  {
   "cell_type": "code",
   "execution_count": 8,
   "metadata": {},
   "outputs": [],
   "source": [
    "// Exercise 1 Sample Solution\n",
    "#include <iostream>\n",
    "#include <string>\n",
    "#include <cstring>\n",
    "#include <cassert>\n",
    "\n",
    "using namespace std;"
   ]
  },
  {
   "cell_type": "code",
   "execution_count": 9,
   "metadata": {},
   "outputs": [],
   "source": [
    "bool hasDigit(string text) {\n",
    "    for(char ch: text) {\n",
    "        if (isdigit(ch)) return true;\n",
    "    }\n",
    "    return false;\n",
    "}"
   ]
  },
  {
   "cell_type": "code",
   "execution_count": 10,
   "metadata": {},
   "outputs": [],
   "source": [
    "// test hasDigit\n",
    "void test_hasDigit() {\n",
    "    assert(hasDigit(\"some text with d1g1t!\") == true);\n",
    "    assert(hasDigit(\"this text has no digit\") == false);\n",
    "    assert(hasDigit(\"24242\") == true);\n",
    "    cerr << \"all test cases passed for hasDigit()\\n\";\n",
    "}"
   ]
  },
  {
   "cell_type": "code",
   "execution_count": 11,
   "metadata": {},
   "outputs": [
    {
     "name": "stderr",
     "output_type": "stream",
     "text": [
      "all test cases passed for hasDigit()\n"
     ]
    }
   ],
   "source": [
    "test_hasDigit();"
   ]
  },
  {
   "cell_type": "markdown",
   "metadata": {},
   "source": [
    "2. Convert Exercise 1 into a complete program\n",
    "    - prompt user to enter some text\n",
    "    - make program continue to run until the user wants to quit\n",
    "    \n",
    "    \n",
    "3. Write a function that checks if a given string is a palindrome. Palindromes are words and phrases that read the same backward as forward such as **madam, race car, etc.**\n",
    "    - more on Palindromes: https://en.wikipedia.org/wiki/Palindrome\n",
    "    - it's okay if the function works for word only\n",
    "    - challenge yourself to make it work for phrases as well\n",
    "    - ignore cases (i.e., A equals a)\n",
    "    - write at least 3 automated test cases\n"
   ]
  },
  {
   "cell_type": "code",
   "execution_count": 1,
   "metadata": {},
   "outputs": [],
   "source": [
    "// Sample solution for exercise #3\n",
    "#include <iostream>\n",
    "#include <string>\n",
    "#include <cstring>\n",
    "#include <cassert>\n",
    "\n",
    "using namespace std;"
   ]
  },
  {
   "cell_type": "code",
   "execution_count": 2,
   "metadata": {},
   "outputs": [],
   "source": [
    "/*\n",
    "palindromic texts: A, AA, ABA, ABBA\n",
    "\n",
    "Algorithm steps:\n",
    "1. for each character up to the middle one in a given phrase\n",
    "    ii. compare the corresponding characters from left and right of the phrase\n",
    "        a. do a case insensitve comparision\n",
    "    iii. if a single corresponding pair does not match, the phrase is NOT palindrome\n",
    "    iv.  if all the corresponding pairs match, the word is palindrome\n",
    "*/\n",
    "\n",
    "bool isPalindrome(string word) {\n",
    "    int left_index = 0; // index from the beginning of the word\n",
    "    int right_index = word.length()-1; // index from the end of the word\n",
    "    int mid = word.length()/2; // mid index to stop the comparison\n",
    "    bool mismatched = false;\n",
    "    while(left_index < mid && !mismatched) { // stop before the mid index or any pair mismatched\n",
    "        // convert to lowercase to make case insensitive comparison\n",
    "        char left_char = tolower(word[left_index]); \n",
    "        char right_char = tolower(word[right_index]);\n",
    "        // if no match, set the mismatched flag to true;\n",
    "        if (left_char != right_char) mismatched = true;\n",
    "        // if they match, move the indices to point the next pair\n",
    "        left_index++;\n",
    "        right_index--;\n",
    "    }\n",
    "    // if mismatched return false; else all pairs must have matched, return true\n",
    "    return mismatched? false : true;\n",
    "}"
   ]
  },
  {
   "cell_type": "code",
   "execution_count": 3,
   "metadata": {},
   "outputs": [],
   "source": [
    "void test_isPalindrome() {\n",
    "    assert(isPalindrome(\"\") == true); // empty string is a plindrome!?\n",
    "    assert(isPalindrome(\"A\") == true);\n",
    "    assert(isPalindrome(\"AB\") == false);\n",
    "    assert(isPalindrome(\"ABA\") == true);\n",
    "    assert(isPalindrome(\"ABBA\") == true);\n",
    "    assert(isPalindrome(\"racecar\") == true);\n",
    "    assert(isPalindrome(\"race car\") == false);\n",
    "    cerr << \"all test cases passed for isPalindrome()\\n\";\n",
    "}"
   ]
  },
  {
   "cell_type": "markdown",
   "metadata": {},
   "source": [
    "4. Convert Exercise 3 into a complete program.\n",
    "    - program prompts user to enter a string\n",
    "    - determines and lets the user know if the string is a palindrome or not\n",
    "    - program continues to run until the user wants to quit\n",
    "    \n",
    "    \n",
    "5. Improve Exercise 4 to ignore punctuations including spaces!\n",
    "    - if you named the improved isPalindrome function as isPalaindromeV1,\n",
    "        - the following test cases must pass!"
   ]
  },
  {
   "cell_type": "code",
   "execution_count": null,
   "metadata": {},
   "outputs": [],
   "source": [
    "/*\n",
    "palindromic texts: A, AA, ABA, ABBA, \"race car\"\n",
    "\n",
    "Algorithm steps:\n",
    "1. for each character up to the middle one in a given phrase\n",
    "    i. ignore all the non-alphabetic characters on both ends of the phrase\n",
    "    ii. compare the corresponding characters from left and right of the phrase\n",
    "    iii. if a single pair is not equal, the phrase is NOT reversible\n",
    "    iv.  if all the pairs match, the word is reversible\n",
    "*/\n",
    "bool isPalindromeV1() {\n",
    "    // FIXME: implement the above algorithm\n",
    "    return true;\n",
    "}"
   ]
  },
  {
   "cell_type": "code",
   "execution_count": null,
   "metadata": {},
   "outputs": [],
   "source": [
    "void test_isPalindromeV1() {\n",
    "    assert(isPalindromeV1(\"\") == true); // empty string is a plindrome!?!?\n",
    "    assert(isPalindromeV1(\"A\") == true);\n",
    "    assert(isPalindromeV1(\"AB\") == false);\n",
    "    assert(isPalindromeV1(\"ABA\") == true);\n",
    "    assert(isPalindromeV1(\"ABBA\") == true);\n",
    "    assert(isPalindromeV1(\"racecar\") == true);\n",
    "    assert(isPalindromeV1(\"race car\") == true); // ignore white spaces...\n",
    "    cerr << \"all test cases passed for isPalindromeV1()\\n\";\n",
    "}"
   ]
  },
  {
   "cell_type": "markdown",
   "metadata": {},
   "source": [
    "6. Write a program that counts the number of vowels (a, e, i, o, u) and consonants (alphabets except vowels) in a given text.\n",
    "    - program promps user to enter the text\n",
    "    - program should account for both upper and lower case alphabets\n",
    "    - program should continue to run until the user wants to quit\n",
    "    \n",
    "    \n",
    "7. Write a program that checks the strength of the given password.\n",
    "    - use a scoring system based on the varieties of character type present as described below:\n",
    "    - 1 point if it contains at least 1 lowercase\n",
    "    - 1 point if it contains at least 1 uppercase\n",
    "    - 1 point if it contains at least 1 digit\n",
    "    - 1 point if it contains at least 1 symbol from the group (~!@#\\$%^&*()_-+={})\n",
    "    - 1 point if the length of the password is 8 characters or long\n",
    "    - interpretation of total points (max 5):\n",
    "    - if points is 5 or more - Excellent\n",
    "    - if points is 3 or more - Good\n",
    "    - if points is 2 or less - Bad"
   ]
  },
  {
   "cell_type": "markdown",
   "metadata": {},
   "source": [
    "## Kattis problems\n",
    "- there are a lot of Kattis problems on text/string manipulation\n",
    "- some simple problems are listed below\n",
    "- solve each problem using function(s) so that you can write at least 3 test cases for function(s) used as part of the solution\n",
    "\n",
    "\n",
    "1. Hissing Microphone - https://open.kattis.com/problems/hissingmicrophone\n",
    "\n",
    "2. Avion - https://open.kattis.com/problems/avion\n",
    "\n",
    "3. Apaxiaaaaans! - https://open.kattis.com/problems/apaxiaaans\n",
    "\n",
    "4. Alphabet Spam - https://open.kattis.com/problems/alphabetspam\n",
    "\n",
    "5. Simon Says - https://open.kattis.com/problems/simonsays\n",
    "\n",
    "6. Simon Says - https://open.kattis.com/problems/simon\n",
    "\n",
    "7. Fifty Shades of Pint - https://open.kattis.com/problems/fiftyshades\n",
    "\n",
    "8. Quick Brown Fox - https://open.kattis.com/problems/quickbrownfox\n",
    "\n",
    "9. Encoded Message - https://open.kattis.com/problems/encodedmessage\n",
    "\n",
    "10. Trik - https://open.kattis.com/problems/trik\n",
    "\n",
    "11. Digit Product - https://open.kattis.com/problems/sifferprodukt\n",
    "\n",
    "12. Magic Trick - https://open.kattis.com/problems/magictrick\n",
    "\n",
    "13. FYI - https://open.kattis.com/problems/fyi\n",
    "\n",
    "14. Methodic Multiplication - https://open.kattis.com/problems/methodicmultiplication\n",
    "    - Hint: simple multiplication"
   ]
  },
  {
   "cell_type": "markdown",
   "metadata": {},
   "source": [
    "## Summary\n",
    "- this chapter covered C++ string type\n",
    "- delcare and use string type\n",
    "- various operations and member functions or methods provided to string objects\n",
    "- exercises and sample solutions"
   ]
  },
  {
   "cell_type": "code",
   "execution_count": null,
   "metadata": {},
   "outputs": [],
   "source": []
  }
 ],
 "metadata": {
  "kernelspec": {
   "display_name": "C++14",
   "language": "C++14",
   "name": "xcpp14"
  },
  "language_info": {
   "codemirror_mode": "text/x-c++src",
   "file_extension": ".cpp",
   "mimetype": "text/x-c++src",
   "name": "c++",
   "version": "14"
  }
 },
 "nbformat": 4,
 "nbformat_minor": 4
}

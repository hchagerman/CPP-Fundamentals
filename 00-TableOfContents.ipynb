{
 "cells": [
  {
   "cell_type": "markdown",
   "metadata": {},
   "source": [
    "# C++ Fundamentals\n",
    "- partially based on [http://www.greenteapress.com/thinkcpp/thinkCScpp.pdf](http://www.greenteapress.com/thinkcpp/thinkCScpp.pdf)\n",
    "\n",
    "## Contents\n",
    "1. [**Introduction**](./Introduction.ipynb)\n",
    "2. [**Data, Types and Variables**](./DataTypesAndVariables.ipynb)\n",
    "3. [**Standard Input and Output**](./StdInputOutput.ipynb)\n",
    "4. [**Data Types and Basic Operations**](./DataTypesAndBasicOperations.ipynb)\n",
    "3. [**Data Types and Casting**](./DataTypesAndCasting.ipynb)\n",
    "4. [**Libraries and Functions**](./LibraryAndFunction.ipynb)\n",
    "5. [**User Defined Functions and Testing**](./UserDefinedFunctionsTesting.ipynb)\n",
    "6. [**Conditionals**](./Conditionals.ipynb)\n",
    "7. [**Loops**](./Loops.ipynb)\n",
    "8. [**Pointers**](./Pointers.ipynb)\n",
    "9. [**Namespaces and Enumerations**](./Namespaces-Enumerations.ipynb)\n",
    "10. [**Strings**](./Strings.ipynb)\n",
    "11. [**Arrays**](./Arrays.ipynb)\n",
    "12. [**Vectors**](./Vectors.ipynb)\n",
    "13. [**File Input and Output**](./FileIO.ipynb)\n",
    "14. [**Structures**](./Structures.ipynb)\n",
    "15. [**Unions**](./Unions.ipynb)\n",
    "15. [**Header Files**](./HeaderFiles.ipynb)\n",
    "16. [**Maps**](./Maps.ipynb)\n",
    "\n",
    "## Miscellaneous\n",
    "1. [**Dev Environment & Setup**](./DevEnvironmentSetup.ipynb)\n",
    "2. [**Makefile**](./Makefile.ipynb)\n",
    "3. [**Jupyter Notebook & Setup**](./JupyterNotebookSetup.ipynb)\n",
    "4. [**Kattis Online Judge & Problem Bank**](./Kattis.ipynb)"
   ]
  },
  {
   "cell_type": "code",
   "execution_count": null,
   "metadata": {},
   "outputs": [],
   "source": []
  }
 ],
 "metadata": {
  "kernelspec": {
   "display_name": "C++14",
   "language": "C++14",
   "name": "xcpp14"
  },
  "language_info": {
   "codemirror_mode": "text/x-c++src",
   "file_extension": ".cpp",
   "mimetype": "text/x-c++src",
   "name": "c++",
   "version": "14"
  }
 },
 "nbformat": 4,
 "nbformat_minor": 4
}
